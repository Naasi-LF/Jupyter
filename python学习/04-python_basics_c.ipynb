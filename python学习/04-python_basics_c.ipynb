{
 "cells": [
  {
   "cell_type": "markdown",
   "id": "fb25af7f-ed97-416c-b3e0-82dcb50378cf",
   "metadata": {},
   "source": [
    "# 第四讲：Python 基础：语句、函数\n",
    "\n",
    "**2023-03-31 v2.1**\n",
    "\n",
    "**2022-09-26 v2.0**\n",
    "\n",
    "**2022-04-04 v1.0**\n",
    "\n",
    "**yeh@czust.edu.cn**"
   ]
  },
  {
   "cell_type": "code",
   "execution_count": 1,
   "id": "f6e55f25-8da5-4017-82ba-94426dcdebe2",
   "metadata": {
    "jupyter": {
     "source_hidden": true
    },
    "tags": []
   },
   "outputs": [],
   "source": [
    "import io\n",
    "import uuid\n",
    "from pathlib import Path\n",
    "from IPython.display import IFrame\n",
    "\n",
    "TEMPLATE_MERMAIDJS='''<html>\n",
    "    <body>\n",
    "        <script src=\"https://cdn.jsdelivr.net/npm/mermaid/dist/mermaid.min.js\"></script>\n",
    "        <script>\n",
    "            mermaid.initialize({{ startOnLoad: true }});\n",
    "        </script>\n",
    "        <div class=\"mermaid\">\n",
    "            {src}\n",
    "        </div>\n",
    "    </body>\n",
    "</html>\n",
    "'''\n",
    "\n",
    "def js_ui(data, template, out_fn=None, out_path='./graph',\n",
    "          width='100%', height='100%', **kwargs):\n",
    "    '''生成一个包含模板化javascript包的IFrame'''\n",
    "    \n",
    "    if not out_fn:\n",
    "        out_fn = Path(f'{uuid.uuid4()}.html')\n",
    "    \n",
    "    out_path = Path(out_path)\n",
    "    filepath = out_path / out_fn\n",
    "    filepath.parent.mkdir(parents=True, exist_ok=True)\n",
    "    \n",
    "    with io.open(filepath, 'wt', encoding='utf8') as outfile:\n",
    "        outfile.write(template.format(**data))\n",
    "    \n",
    "    return IFrame(src=filepath, width=width, height=height)"
   ]
  },
  {
   "cell_type": "markdown",
   "id": "af8b8e45-ccc9-4002-a1f2-157a3eb60764",
   "metadata": {},
   "source": [
    "## 语句概述\n",
    "\n",
    "总体来看，Python 的语句用缩进方式表示代码块 (block)，缩进在 Python 中是强制的，而且对语法有意义\n",
    "\n",
    "同一段代码中的缩进量应该保持一致，不要混用“空格”或“制表符”\n",
    "\n",
    "> 在程序设计语言中，大体有两种表示语句块的风格样式\n",
    ">\n",
    "> - 定界符流派：\n",
    ">   - 关键字定界符：ALGOL、BASIC、Pascal、shell 脚本\n",
    ">   - 括号定界符：Lisp、C/C++、Java、C#、JavaScript、Rust、Dart\n",
    "> - 缩进流派：occam、Haskell、Python、Go"
   ]
  },
  {
   "cell_type": "markdown",
   "id": "411ba2b9-2816-4874-ae8f-4b5d52ca237b",
   "metadata": {},
   "source": [
    "一条 Python **语句** (statement) 包含零或多个表达式\n",
    "\n",
    "表达式描述了在数据上进行的计算或操作"
   ]
  },
  {
   "cell_type": "code",
   "execution_count": 2,
   "id": "4ee8c1b5-66e5-4ea3-a60d-20c27013805c",
   "metadata": {
    "jupyter": {
     "source_hidden": true
    },
    "tags": []
   },
   "outputs": [
    {
     "data": {
      "text/html": [
       "\n",
       "        <iframe\n",
       "            width=\"100%\"\n",
       "            height=\"500\"\n",
       "            src=\"graph/a26e4e03-416d-4273-85bc-c4e32810dfb8.html\"\n",
       "            frameborder=\"0\"\n",
       "            allowfullscreen\n",
       "            \n",
       "        ></iframe>\n",
       "        "
      ],
      "text/plain": [
       "<IPython.lib.display.IFrame at 0x107c74640>"
      ]
     },
     "execution_count": 2,
     "metadata": {},
     "output_type": "execute_result"
    }
   ],
   "source": [
    "stmt = '''\n",
    "flowchart TB\n",
    "subgraph a[语句]\n",
    "subgraph b[表达式语句]\n",
    "字面量\n",
    "运算符\n",
    "标识符\n",
    "end\n",
    "subgraph c[非表达式语句]\n",
    "赋值\n",
    "声明\n",
    "end\n",
    "end\n",
    "'''\n",
    "\n",
    "js_ui({'src': stmt}, TEMPLATE_MERMAIDJS, height=500)"
   ]
  },
  {
   "cell_type": "markdown",
   "id": "5d712f66-9ce4-4bad-be6d-737c70763d55",
   "metadata": {},
   "source": [
    "运算、函数或表达式修改其局部环境之外的一些状态变量值，就称为有**副作用** (side effect)\n",
    "\n",
    "语句通常有副作用，比如打印输出、计算取值，或改变下一条执行语句"
   ]
  },
  {
   "cell_type": "markdown",
   "id": "66c95221-ce0a-4c5f-86cb-f9f6f2fdc57a",
   "metadata": {},
   "source": [
    "## 结构化流程\n",
    "\n",
    "### 序列：顺序结构\n",
    "\n",
    "按代码顺序依次执行的控制结构"
   ]
  },
  {
   "cell_type": "markdown",
   "id": "397447eb-a698-483e-b448-ef64fc441aca",
   "metadata": {},
   "source": [
    "### 选择：条件结构\n",
    "\n",
    "满足指定条件时执行的控制结构\n",
    "\n",
    "通常有几种不同的用例：\n",
    "\n",
    "1. `if...`仅当条件为真时执行，当条件为假时跳过\n",
    "\n",
    "2. `if...else...`当条件为真时执行真分支的语句，当条件为假时执行假分支的语句\n",
    "\n",
    "3. `if <另一个条件结构> else <另一个条件结构>`嵌套其他条件结构\n",
    "\n",
    "   a. `if...else-if...else...`通过嵌套条件结构可以组成多分支"
   ]
  },
  {
   "cell_type": "markdown",
   "id": "2c9aec96-f029-4e10-bf4a-d1fffa042d49",
   "metadata": {},
   "source": [
    "### 迭代：循环结构\n",
    "\n",
    "满足指定条件时多次执行的控制结构\n",
    "\n",
    "循环结构根据布尔条件的不同，其内部代码块可以执行零次到多次 (**包括无限次**)\n",
    "\n",
    "循环结构主要用于迭代 (interation)，即重复执行某些操作，是计算机的基本算法之一\n",
    "\n",
    "常见的几种用例：\n",
    "\n",
    "1. 使用条件控制循环结构\n",
    "   - “当...”型：while\n",
    "   - “直到...”型：until  (Python 没有此类原生的结构表示)\n",
    "2. 使用变量控制循环结构\n",
    "   - 计数型：for  (Python 没有此类原生的结构表示)\n",
    "   - 成员型：foreach"
   ]
  },
  {
   "cell_type": "markdown",
   "id": "d1dc02fe-602b-40f2-a28a-109f1d09e721",
   "metadata": {},
   "source": [
    "### 子程序：函数\n",
    "\n",
    "在需要的地方执行其他地方定义的语句\n",
    "\n",
    "子程序可以封装操作细节，被封装的细节通常由若干条语句组成代码块\n",
    "\n",
    "在结构化编程理论中，有如下概念\n",
    "\n",
    "- 函数 (function)：带返回值的子程序\n",
    "- 过程 (procedure)：不带返回值的子程序\n",
    "\n",
    "在面向对象编程理论中，类或对象中的子程序又叫方法 (method)"
   ]
  },
  {
   "cell_type": "markdown",
   "id": "5a8a7aaf-099a-47ec-82f6-d83bc854c55d",
   "metadata": {},
   "source": [
    "### ~~跳转~~\n",
    "\n",
    "**无条件**转移到其他地方的控制结构\n",
    "\n",
    "在程序设计的早期年代，`goto` 大量使用，代码混乱难读\n",
    "\n",
    "> unmaintainable spaghetti code\n",
    "\n",
    "在 CPU 低级指令的意义考虑，跳转指令是分支的实现方法之一 (另两个是调用和返回)，但是在高级语言中，并不需要跳转\n",
    "\n",
    "> **结构化程序Böhm-Jacopini定理**\n",
    ">\n",
    "> 任何含 `goto` 的程序都可以转为只用序列、选择和迭代结构的程序，代价是引入更多的局部变量\n",
    "\n",
    "现代高级语言中，一般不建议滥用 `goto`，而是应该明智使用"
   ]
  },
  {
   "cell_type": "markdown",
   "id": "70524cd2-aad4-4986-9b4f-6f0c726b79c8",
   "metadata": {},
   "source": [
    "## Python的语句\n",
    "\n",
    "### Python的顺序结构\n",
    "\n",
    "一般来说，Python 从上到下顺序执行语句，逐个评估表达式的值，然后对这些值进行一些操作"
   ]
  },
  {
   "cell_type": "code",
   "execution_count": 3,
   "id": "3fe63de0-9f26-413b-aa93-cf29c877c300",
   "metadata": {},
   "outputs": [],
   "source": [
    "# 顺序结构\n",
    "\n",
    "a = 3"
   ]
  },
  {
   "cell_type": "code",
   "execution_count": 4,
   "id": "ae407a27-694b-4b67-a7e3-0673e0c67731",
   "metadata": {},
   "outputs": [
    {
     "data": {
      "text/plain": [
       "4371097968"
      ]
     },
     "execution_count": 4,
     "metadata": {},
     "output_type": "execute_result"
    }
   ],
   "source": [
    "id(a)"
   ]
  },
  {
   "cell_type": "code",
   "execution_count": 5,
   "id": "235cc3d2-477c-4842-90d5-6124f91dbf3e",
   "metadata": {},
   "outputs": [],
   "source": [
    "b = a + 1 # 执行赋值之前会首先代入已经绑定值的a"
   ]
  },
  {
   "cell_type": "code",
   "execution_count": 6,
   "id": "023d27a2-26b9-4058-9d93-cd11404e9c12",
   "metadata": {},
   "outputs": [
    {
     "data": {
      "text/plain": [
       "4"
      ]
     },
     "execution_count": 6,
     "metadata": {},
     "output_type": "execute_result"
    }
   ],
   "source": [
    "a + 1"
   ]
  },
  {
   "cell_type": "markdown",
   "id": "5c2e20ea-bfdc-4b17-924e-a698d00c2006",
   "metadata": {},
   "source": [
    "如果在顺序评估时遇到错误，Python 会中断程序执行"
   ]
  },
  {
   "cell_type": "code",
   "execution_count": 7,
   "id": "1c4dacc2-80a5-4da1-bb18-c628683fea67",
   "metadata": {},
   "outputs": [
    {
     "ename": "NameError",
     "evalue": "name 'c' is not defined",
     "output_type": "error",
     "traceback": [
      "\u001b[0;31m---------------------------------------------------------------------------\u001b[0m",
      "\u001b[0;31mNameError\u001b[0m                                 Traceback (most recent call last)",
      "Cell \u001b[0;32mIn [7], line 4\u001b[0m\n\u001b[1;32m      1\u001b[0m \u001b[38;5;66;03m# 错误\u001b[39;00m\n\u001b[1;32m      3\u001b[0m a \u001b[38;5;241m=\u001b[39m \u001b[38;5;241m3\u001b[39m\n\u001b[0;32m----> 4\u001b[0m b \u001b[38;5;241m=\u001b[39m \u001b[43mc\u001b[49m \u001b[38;5;241m+\u001b[39m \u001b[38;5;241m1\u001b[39m \u001b[38;5;66;03m# c是一个未知的标识符，因此执行到本行会出错\u001b[39;00m\n",
      "\u001b[0;31mNameError\u001b[0m: name 'c' is not defined"
     ]
    }
   ],
   "source": [
    "# 错误\n",
    "\n",
    "a = 3\n",
    "b = c + 1 # c是一个未知的标识符，因此执行到本行会出错"
   ]
  },
  {
   "cell_type": "markdown",
   "id": "0cd20787-8a45-4898-b9fd-e425d8942881",
   "metadata": {},
   "source": [
    "### Python的条件结构\n",
    "\n",
    "Python 的条件结构涉及代码块，因此要注意语法\n",
    "\n",
    "- 冒号(`:`)引出满足条件后需要执行的语句\n",
    "- 缩进指示满足条件后需要执行的语句"
   ]
  },
  {
   "cell_type": "markdown",
   "id": "d92a1c88-8233-4e83-8e22-ef8dc35db94e",
   "metadata": {},
   "source": [
    "#### 单个 `if` 结构\n",
    "\n",
    "最简单的情况 (对应[上文](#选择：条件结构)的第 1 种) 是只有一个 `if` 的条件结构\n",
    "\n",
    "代码块仅在满足特定条件 (即布尔表达式值为 `True`) 时才执行"
   ]
  },
  {
   "cell_type": "code",
   "execution_count": 8,
   "id": "e585ac1f-caff-4979-890b-2546f140c512",
   "metadata": {},
   "outputs": [
    {
     "name": "stdout",
     "output_type": "stream",
     "text": [
      "你可以查看本网站的内容\n"
     ]
    }
   ],
   "source": [
    "# 简单 if\n",
    "\n",
    "age = 20\n",
    "if age > 18:\n",
    "    print('你可以查看本网站的内容')"
   ]
  },
  {
   "cell_type": "markdown",
   "id": "10702683-2986-45db-93c5-1c63015664cd",
   "metadata": {
    "tags": []
   },
   "source": [
    "#### `if...else` 结构\n",
    "\n",
    "对应[上文](#选择：条件结构)的第 2 种情况，除了给出满足条件 (即布尔表达式值为 `True`) 后需要执行的语句，还要给出不满足条件 (即布尔表达式值为 `False`) 后需要执行的语句"
   ]
  },
  {
   "cell_type": "code",
   "execution_count": null,
   "id": "2544920b-b5ef-453c-858e-b4150156e61e",
   "metadata": {},
   "outputs": [],
   "source": [
    "# if...else\n",
    "\n",
    "age = 17\n",
    "if age > 18:\n",
    "    print('你可以查看本网站的内容')\n",
    "else:\n",
    "    print('小朋友，这里没什么好康的')"
   ]
  },
  {
   "cell_type": "markdown",
   "id": "15956d92-e139-4824-8ed8-15de76f6105b",
   "metadata": {},
   "source": [
    "#### 嵌套的条件结构\n",
    "\n",
    "条件结构可以嵌套，因为条件语句也是代码块\n",
    "\n",
    "这种结构通常可以类比于决策树 (decision tree)"
   ]
  },
  {
   "cell_type": "code",
   "execution_count": null,
   "id": "2e34388c-4065-40ab-8bf4-a9e261c28af9",
   "metadata": {
    "jupyter": {
     "source_hidden": true
    },
    "tags": []
   },
   "outputs": [],
   "source": [
    "tree = '''\n",
    "graph TB\n",
    "a([是正式舞会吗])\n",
    "b([是家庭聚会吗])\n",
    "c([要举行派对吗])\n",
    "d([有朋自远方来吗])\n",
    "b1[穿宴会礼服]\n",
    "c1[穿半正式服装]\n",
    "d1[穿派对服装]\n",
    "e1[穿舒适便服]\n",
    "e2[穿居家服]\n",
    "a --> |是|b1\n",
    "a --> |否|b --> |是|c1\n",
    "b --> |否|c --> |是|d1\n",
    "c --> |否|d --> |是|e1\n",
    "d --> |否|e2\n",
    "'''\n",
    "\n",
    "js_ui({'src': tree}, TEMPLATE_MERMAIDJS, height=700)"
   ]
  },
  {
   "cell_type": "code",
   "execution_count": null,
   "id": "b5f968f0-6fff-4855-8c48-33c4541c9695",
   "metadata": {},
   "outputs": [],
   "source": [
    "event = 'family_dinner'\n",
    "if event == 'formal_dance':\n",
    "    wear = 'formal dress'\n",
    "else:\n",
    "    if event == 'family_dinner':\n",
    "        wear = 'semi-formal clothes'\n",
    "    else:\n",
    "        if event == 'party':\n",
    "            wear = 'party clothes'\n",
    "        else:\n",
    "            if event == 'friend_visit':\n",
    "                wear = 'casual clothes'\n",
    "            else:\n",
    "                wear = 'pajamas'\n",
    "\n",
    "print(wear)"
   ]
  },
  {
   "cell_type": "markdown",
   "id": "8b10b47d-f2d8-438a-b799-bab3c7d58411",
   "metadata": {},
   "source": [
    "#### 多分支结构\n",
    "\n",
    "如果嵌套的多个条件构成一组多分支条件，Python 提供关键字 `elif` 来简化代码排版，例如上一例可以改写成"
   ]
  },
  {
   "cell_type": "code",
   "execution_count": null,
   "id": "8113aa27-3913-48f8-8c2d-a70a6d1ec247",
   "metadata": {},
   "outputs": [],
   "source": [
    "event = 'family_dinner'\n",
    "if event == 'formal_dance':\n",
    "    wear = 'formal dress'\n",
    "elif event == 'family_dinner':\n",
    "    wear = 'semi-formal clothes'\n",
    "elif event == 'party':\n",
    "    wear = 'party clothes'\n",
    "elif event == 'friend_visit':\n",
    "    wear = 'casual clothes'\n",
    "else:\n",
    "    wear = 'pajamas'\n",
    "\n",
    "print(wear)"
   ]
  },
  {
   "cell_type": "markdown",
   "id": "f37acac7-5660-4a8f-a437-79a3f61382fc",
   "metadata": {},
   "source": [
    "这种多分支结构对应 C 语言中的 `switch...case...` 语法\n",
    "\n",
    "> 在 Python 3.10 以后，[正式支持模式匹配](https://peps.python.org/pep-0636/)，`match` 语句接受一个表达式并将其值与作为一个或多个 `case` 块给出的连续模式进行比较。在表面上类似于 C、Java 或 JavaScript (以及许多其他语言) 中的 `switch` 语句，但功能更强大。上例代码可以改写为 `match` 和 `case` 配合的形式"
   ]
  },
  {
   "cell_type": "code",
   "execution_count": null,
   "id": "010da421-9c6b-4ef2-a2dc-81b9645258f1",
   "metadata": {},
   "outputs": [],
   "source": [
    "event = ''\n",
    "# match是新语法，低于v3.10的Python不支持\n",
    "match event:\n",
    "    case 'formal_dance':\n",
    "        wear = 'formal dress'\n",
    "    case 'family_dinner':\n",
    "        wear = 'semi-formal clothes'\n",
    "    case 'party':\n",
    "        wear = 'party clothes'\n",
    "    case 'friend_visit':\n",
    "        wear = 'casual clothes'\n",
    "    case _:        \n",
    "        wear = 'pajamas'\n",
    "\n",
    "print(wear)"
   ]
  },
  {
   "cell_type": "markdown",
   "id": "ccfa291f-7644-4254-b56b-ce1c267f8f5b",
   "metadata": {},
   "source": [
    "#### 条件表达式\n",
    "\n",
    "关键字 `if` 和 `else` 还能用于表达式，构成 Python 的条件表达式\n",
    "\n",
    "```python\n",
    "条件表达式真时的值 if <条件表达式> [else 条件表达式假时的值]\n",
    "```"
   ]
  },
  {
   "cell_type": "code",
   "execution_count": null,
   "id": "f92b1694-6a57-4043-85c3-664a53e5b762",
   "metadata": {},
   "outputs": [],
   "source": [
    "# 条件表达式\n",
    "\n",
    "import random\n",
    "random.random()"
   ]
  },
  {
   "cell_type": "code",
   "execution_count": null,
   "id": "5ef79dd6-a1e0-4110-beae-08ebb7c1d4a3",
   "metadata": {},
   "outputs": [],
   "source": [
    "# 设定阈值\n",
    "threshold = .5\n",
    "# 构建表达式\n",
    "result = '正面' if random.random() >= threshold else '反面'\n",
    "print(result)"
   ]
  },
  {
   "cell_type": "markdown",
   "id": "5a5271f0-7e27-4fd2-a224-8dbc79bce052",
   "metadata": {},
   "source": [
    "显然，条件表达式可以嵌套，但是过多的嵌套可能导致代码不易读懂 "
   ]
  },
  {
   "cell_type": "markdown",
   "id": "fbb4a4d8-7651-48ac-9ef4-c9288ad6c76e",
   "metadata": {},
   "source": [
    "### Python的循环结构\n",
    "\n",
    "Python 提供两个关键字用以表示循环结构：`while` 和 `for`\n",
    "\n",
    "> 两种循环都可以在末尾配 `else` 语句，处理循环结束之后的收尾工作，也都可以在循环体内用 `break` 或 `continue` 语句，分别表示**打断当前循环**或**继续下次迭代**"
   ]
  },
  {
   "cell_type": "markdown",
   "id": "bfdb44b5-6d4c-426f-b5db-c5a44dd8122f",
   "metadata": {},
   "source": [
    "#### `while` 结构\n",
    "\n",
    "`while` 循环用于重复执行一个语句块，直到满足给定条件。然后，再次检查表达式，如果仍然为 `True`，则再次执行主体。一直持续到表达式变为 `False` 为止"
   ]
  },
  {
   "cell_type": "code",
   "execution_count": null,
   "id": "ab780598-2f8b-4ebb-894d-7bea7e709be5",
   "metadata": {},
   "outputs": [],
   "source": [
    "# “当”循环可以直接用关键字\n",
    "\n",
    "prod = 1\n",
    "n = 1\n",
    "# 计算 1*2*3*4*5\n",
    "while n < 6:\n",
    "    prod *= n\n",
    "    n += 1\n",
    "print(prod)"
   ]
  },
  {
   "cell_type": "markdown",
   "id": "94de81ae-19b9-4b9a-b78d-a72f0507c76a",
   "metadata": {},
   "source": [
    "Python 没有提供“直到”型循环的关键字，但可以结合条件语句和提前退出循环的关键字 `break` 来实现"
   ]
  },
  {
   "cell_type": "code",
   "execution_count": null,
   "id": "73d53e7e-2766-4009-8738-705ed53a6eaa",
   "metadata": {},
   "outputs": [],
   "source": [
    "# “直到”循环的Python实现\n",
    "\n",
    "prod = 1\n",
    "n = 1\n",
    "# 始终为真，无限循环\n",
    "while True:\n",
    "    prod *= n\n",
    "    n += 1\n",
    "    # 满足条件时退出循环\n",
    "    if n > 5:\n",
    "        break\n",
    "print(prod)"
   ]
  },
  {
   "cell_type": "markdown",
   "id": "c2a16015-19d5-4970-8991-9d6ef0b7b8cd",
   "metadata": {},
   "source": [
    "#### `for` 结构\n",
    "\n",
    "Python 的 `for` 结构用于迭代列表、元组、字典或集合的容器，从而对容器中的每个项执行一组语句\n",
    "\n",
    "Python 的 `for` 循环相当于其他编程语言的 foreach 类的循环操作，它针对容器中的每个项/成员进行迭代，而不是 C 语言常用的计数迭代"
   ]
  },
  {
   "cell_type": "code",
   "execution_count": null,
   "id": "61981bbb-2fba-40e4-8d2e-404ecb581540",
   "metadata": {},
   "outputs": [],
   "source": [
    "# for循环\n",
    "\n",
    "prod = 1\n",
    "# 沿用前面的例子，计数迭代\n",
    "for n in range(1, 6):\n",
    "    prod *= n\n",
    "print(prod)"
   ]
  },
  {
   "cell_type": "code",
   "execution_count": null,
   "id": "1ebdf3c3-886e-4f97-a200-8206ce5feb8a",
   "metadata": {},
   "outputs": [],
   "source": [
    "a = [1, 2, 3]\n",
    "1 in a"
   ]
  },
  {
   "cell_type": "markdown",
   "id": "b6504671-8cac-4a9b-8e71-e15d7e7a1259",
   "metadata": {},
   "source": [
    "注意，在 Python 中，`for` 循环以 `for...in` 的形式出现"
   ]
  },
  {
   "cell_type": "code",
   "execution_count": null,
   "id": "2a478e29-cf9f-497e-8724-f8ea54cf73e6",
   "metadata": {},
   "outputs": [],
   "source": [
    "for i in range(5):\n",
    "    print(i)"
   ]
  },
  {
   "cell_type": "markdown",
   "id": "5322f1b1-a5df-4783-aeae-fd8856528758",
   "metadata": {},
   "source": [
    "它相当于 C 语言的\n",
    "\n",
    "```c\n",
    "for (int i = 0; i < 5; i++) {\n",
    "    printf(\"%d\\n\", i);\n",
    "}\n",
    "```"
   ]
  },
  {
   "cell_type": "markdown",
   "id": "133de7cd-d720-4c3a-8c1a-2d2fed7023df",
   "metadata": {},
   "source": [
    "下面是一个更加 **Pythonic** 的例子"
   ]
  },
  {
   "cell_type": "code",
   "execution_count": null,
   "id": "9c760e9c-0580-494c-8f82-2e23730ca1da",
   "metadata": {},
   "outputs": [],
   "source": [
    "dishes = ['粽子', '汤圆', '豆花', '凉粉']\n",
    "for dish in dishes:\n",
    "    print(f'今天早餐吃了{dish}')"
   ]
  },
  {
   "cell_type": "markdown",
   "id": "0672ed4e-68c5-497d-9dba-dbaded405f84",
   "metadata": {},
   "source": [
    "通常，Python 的 `for` 循环更强调成员的实际语义，注意标识符命名，例如上例的\n",
    "\n",
    "```python\n",
    "for dish in dishes\n",
    "```\n",
    "\n",
    "如果实在不想为命名标识符烦心，可以用 `_` 当作循环变量\n",
    "\n",
    "作为对比，给出不够 **Pythonic** 的写法"
   ]
  },
  {
   "cell_type": "code",
   "execution_count": null,
   "id": "4da3f474-a4f6-461f-b049-84ef14d3297d",
   "metadata": {},
   "outputs": [],
   "source": [
    "dishes = ['粽子', '汤圆', '豆花', '凉粉']\n",
    "# 请避免在Python中这样遍历一个可迭代对象，除非你需要它的索引\n",
    "for i in range(len(dishes)):\n",
    "    print(f'今天早餐吃了{dishes[i]}')"
   ]
  },
  {
   "cell_type": "markdown",
   "id": "d49229e8-7ba4-48db-870c-026753ca0636",
   "metadata": {},
   "source": [
    "#### 推导表达式\n",
    "\n",
    "推导表达式用一种相对简短的语法来表示对容器类型的迭代过程\n",
    "\n",
    "- 列表推导式(list comprehension)\n",
    "- 集合推导式(set comprehension)\n",
    "- 字典推导式(dict comprehension)\n",
    "\n",
    "列表推导式从一个可迭代对象中创建一个新列表"
   ]
  },
  {
   "cell_type": "code",
   "execution_count": null,
   "id": "829f55e3-e5fc-428f-a7ca-19dd20a62835",
   "metadata": {},
   "outputs": [],
   "source": [
    "# 用循环语句生成新的列表\n",
    "\n",
    "sweets = ['蛋挞', '甜白酒', '榴莲酥', '枣糕', '甜甜圈']\n",
    "\n",
    "new_list = []\n",
    "for item in sweets:\n",
    "    new_list.append(item[-1])\n",
    "\n",
    "print(new_list)"
   ]
  },
  {
   "cell_type": "markdown",
   "id": "7c955d6e-8f5f-4850-b0d6-4ecc1635165c",
   "metadata": {},
   "source": [
    "改写成列表推导式"
   ]
  },
  {
   "cell_type": "code",
   "execution_count": null,
   "id": "99fd42e7-c7c6-47f9-8308-3baf27a1a2ae",
   "metadata": {},
   "outputs": [],
   "source": [
    "# 用列表推导式生成新的列表\n",
    "\n",
    "sweets = ['蛋挞', '甜白酒', '榴莲酥', '枣糕', '甜甜圈']\n",
    "\n",
    "new_list = [item[-1] for item in sweets]\n",
    "\n",
    "print(new_list)"
   ]
  },
  {
   "cell_type": "markdown",
   "id": "1165eb9a-0bf0-4204-b40a-f355f6178d0d",
   "metadata": {},
   "source": [
    "注意，推导表达式可以配合条件表达式使用，作为过滤器/筛选器 (filter)\n",
    "\n",
    ">  **语法**\n",
    ">\n",
    "\n",
    "```python\n",
    "[表达式 `for` 对象中的元素 `in` 可迭代对象 `if` 条件表达式]\n",
    "```"
   ]
  },
  {
   "cell_type": "code",
   "execution_count": null,
   "id": "192c7e16-6a40-4a6a-9c29-cd3681ed36f4",
   "metadata": {},
   "outputs": [],
   "source": [
    "# 用带条件的列表推导式生成新的列表\n",
    "\n",
    "sweets = ['蛋挞', '甜白酒', '榴莲酥', '枣糕', '甜甜圈']\n",
    "\n",
    "new_list = [item[-1] for item in sweets if '甜' not in item]\n",
    "\n",
    "# 打印不含有\"甜\"字的甜食\n",
    "print(new_list)"
   ]
  },
  {
   "cell_type": "markdown",
   "id": "2db8ee6d-2a1e-460f-9d09-8dc1b621e453",
   "metadata": {},
   "source": [
    "显然，推导表达式可以**嵌套**迭代，代价是**可能丧失易读性**"
   ]
  },
  {
   "cell_type": "code",
   "execution_count": null,
   "id": "574b0dff-1838-44c9-9108-39a08e6c9626",
   "metadata": {},
   "outputs": [],
   "source": [
    "# 列表推导式可以使用多个迭代\n",
    "\n",
    "matrix = [\n",
    "    [1, 2], \n",
    "    [3, 4], \n",
    "    [5, 6]\n",
    "]\n",
    "\n",
    "# 二维矩阵拉平为一维向量\n",
    "flatten = [element for row in matrix for element in row]\n",
    "# 打印拉平之后的向量\n",
    "print(flatten)"
   ]
  },
  {
   "cell_type": "code",
   "execution_count": null,
   "id": "29e6c26f-8a25-43b0-8459-e4b762e39800",
   "metadata": {},
   "outputs": [],
   "source": [
    "# 矩阵的转置\n",
    "transposed = [[row[i] for row in matrix] for i in range(len(matrix[0]))]\n",
    "# 打印转置之后的矩阵\n",
    "print(transposed)"
   ]
  },
  {
   "cell_type": "markdown",
   "id": "1debcfb5-5da5-41a1-8f95-59a2eab370e2",
   "metadata": {},
   "source": [
    "类似地，集合也可以用推导表达式生成"
   ]
  },
  {
   "cell_type": "code",
   "execution_count": null,
   "id": "76554521-afd2-4d49-8699-6fc7dda937d0",
   "metadata": {},
   "outputs": [],
   "source": [
    "# “列表”是可迭代对象，本例演示从列表生成集合\n",
    "\n",
    "sweets = ['蛋挞', '榴莲酥', '枣糕', '甜甜圈']\n",
    "len_set = {len(item) for item in sweets}\n",
    "print(len_set)"
   ]
  },
  {
   "cell_type": "markdown",
   "id": "a196bfd4-405e-447d-822b-93cc9d07251e",
   "metadata": {},
   "source": [
    "类似地，字典也可以用推导表达式生成"
   ]
  },
  {
   "cell_type": "code",
   "execution_count": null,
   "id": "36f025c4-a16d-4fcb-8950-1b4b9ca48b1b",
   "metadata": {},
   "outputs": [],
   "source": [
    "# “范围”是可迭代对象，本例演示从范围生成字典\n",
    "\n",
    "squares = {x: x ** 2 for x in range(10)}\n",
    "# 打印平方表\n",
    "print(squares)"
   ]
  },
  {
   "cell_type": "markdown",
   "id": "37259bc1-8cae-49b5-a217-8ea183b996f6",
   "metadata": {},
   "source": [
    "## Python的函数\n",
    "\n",
    "函数是供其他语句调用的预先定义的语句块，它**可以有**数据的输入，也**可以有**输出，输入数据称为参数，输出数据称为返回值\n",
    "\n",
    "- Parameter 一般翻译为形式参数，或叫**型参**，用于函数定义时的变量命名\n",
    "- Argument 一般翻译为实际参数，或叫**值参**，用于函数调用时的变量命名"
   ]
  },
  {
   "cell_type": "markdown",
   "id": "db604d9b-0506-498c-a669-c4041945322a",
   "metadata": {},
   "source": [
    "### `def` 语句\n",
    "\n",
    "模版\n",
    "\n",
    "```python\n",
    "# Python 函数定义\n",
    "def func_name(param1, param2):\n",
    "    if condition:\n",
    "        return\n",
    "    result = do_something()\n",
    "    return result\n",
    "\n",
    "# Python 函数调用\n",
    "func_name(arg1, arg2)\n",
    "```"
   ]
  },
  {
   "cell_type": "markdown",
   "id": "7eb4a8c2-db9e-494f-a179-e96629928f85",
   "metadata": {},
   "source": [
    "从上面的模板可以看到，定义函数签名需要关键字 `def`，随后是函数名加圆括号，括号内给出**零或多个形式参数**\n",
    "\n",
    "函数签名之后加冒号引出函数体，换行后通过缩进对齐本函数的函数体\n",
    "\n",
    "Python 函数可以有多个出口，出口通过关键字 `return` 给出，如上例模版中 `return` 出现了两次\n",
    "\n",
    "函数**可以有返回值**，如模版中的 `result` 在函数的最后被返回；也可以没有返回值，如模版中第一次出现的 `return` 后面没有任何变量，相当于返回了 `None`\n",
    "\n",
    "调用函数只需写出函数名，随后是圆括号，括号内按照函数签名**传入对应的实际参数**"
   ]
  },
  {
   "cell_type": "code",
   "execution_count": null,
   "id": "bae053e3-36c6-4369-a368-f55b9386f54e",
   "metadata": {},
   "outputs": [],
   "source": [
    "# 实际的例子\n",
    "\n",
    "# 定义一个打招呼的函数\n",
    "def greeting(name):\n",
    "    '''\n",
    "        给 name : str 打招呼\n",
    "        dddd\n",
    "    '''\n",
    "    \n",
    "    print(f'Hello, {name:>10}')\n",
    "    \n",
    "    return\n",
    "\n",
    "# 调用这个函数\n",
    "greeting('John')"
   ]
  },
  {
   "cell_type": "code",
   "execution_count": null,
   "id": "4f849434",
   "metadata": {},
   "outputs": [],
   "source": [
    "greeting.__doc__"
   ]
  },
  {
   "cell_type": "code",
   "execution_count": null,
   "id": "595a638b",
   "metadata": {},
   "outputs": [],
   "source": [
    "a_doc = '''\n",
    "        给 name : str 打招呼\n",
    "        dddd\n",
    "    '''"
   ]
  },
  {
   "cell_type": "code",
   "execution_count": null,
   "id": "bdccb23c",
   "metadata": {},
   "outputs": [],
   "source": [
    "print(a_doc)"
   ]
  },
  {
   "cell_type": "code",
   "execution_count": null,
   "id": "ae6cade4",
   "metadata": {},
   "outputs": [],
   "source": [
    "a_str = '\\t给 name : str 打招呼\\n\\tdddd\\t'"
   ]
  },
  {
   "cell_type": "code",
   "execution_count": null,
   "id": "934dc771",
   "metadata": {},
   "outputs": [],
   "source": [
    "print(a_str)"
   ]
  },
  {
   "cell_type": "code",
   "execution_count": null,
   "id": "65596c65-655b-407a-adeb-c12278378ad0",
   "metadata": {},
   "outputs": [],
   "source": [
    "greeting()"
   ]
  },
  {
   "cell_type": "code",
   "execution_count": null,
   "id": "cded22a4",
   "metadata": {},
   "outputs": [],
   "source": [
    "\"Hello \" + \"EEE\""
   ]
  },
  {
   "cell_type": "markdown",
   "id": "8c14c1b4-f929-49c0-8821-22841d09afc2",
   "metadata": {},
   "source": [
    "函数可以没有形式参数或函数体"
   ]
  },
  {
   "cell_type": "code",
   "execution_count": null,
   "id": "2f9790e1-2cec-489a-a415-83cac1c96e93",
   "metadata": {},
   "outputs": [],
   "source": [
    "def do_nothing():\n",
    "    pass"
   ]
  },
  {
   "cell_type": "markdown",
   "id": "43fffc8c-6d4e-4e0f-ae52-19f2d3655fd0",
   "metadata": {},
   "source": [
    "函数可以有不确定个数的形式参数"
   ]
  },
  {
   "cell_type": "code",
   "execution_count": null,
   "id": "8f8f6dc2-5dc7-4154-a81d-35d44fcec0fe",
   "metadata": {},
   "outputs": [],
   "source": [
    "def work_with_unknown(*args):\n",
    "    pass\n",
    "\n",
    "# 不确定个数的形式参数必须声明在确定个数的形式参数之后\n",
    "def work_with_known_and_unknown(known, *args):\n",
    "    pass"
   ]
  },
  {
   "cell_type": "markdown",
   "id": "fcf9b31c-e7c6-45e0-a66e-08be0c5fcc85",
   "metadata": {},
   "source": [
    "举例，用不确定个数的形式参数改写阶乘算法"
   ]
  },
  {
   "cell_type": "code",
   "execution_count": null,
   "id": "44975f83-d780-4350-92c9-5abba2404ba5",
   "metadata": {},
   "outputs": [],
   "source": [
    "def multiply_all(*nums):\n",
    "    prod = 1\n",
    "    for n in nums:\n",
    "        prod *= n\n",
    "    return prod\n",
    "\n",
    "# 仔细看，传入的实际参数相当于元组\n",
    "multiply_all(1, 2, 3, 4, 5, 6)"
   ]
  },
  {
   "cell_type": "markdown",
   "id": "4ca6ccf9-2fae-42e2-8197-c193dacfcb29",
   "metadata": {},
   "source": [
    "函数的形式参数及其对应的取值 (实际参数) 的关系可以类比于**键值对**"
   ]
  },
  {
   "cell_type": "code",
   "execution_count": null,
   "id": "7dd61e17-e7b2-400f-b2ea-d91a57a57a10",
   "metadata": {},
   "outputs": [],
   "source": [
    "def spam(eggs, cheese):\n",
    "    pass\n",
    "\n",
    "spam(eggs=1, cheese=2)"
   ]
  },
  {
   "cell_type": "markdown",
   "id": "860274a2-f587-40a7-9d98-65336e40b367",
   "metadata": {},
   "source": [
    "函数被调用时，实际参数引入被调用函数的局部符号表中\n",
    "\n",
    "参数传递采用**按值调用**的方式，值总是一个对象的引用而不是对象的值\n",
    "\n",
    "函数可设置参数的默认取值"
   ]
  },
  {
   "cell_type": "code",
   "execution_count": null,
   "id": "e372c8d3-1e56-4c8b-ab14-270476d71e0a",
   "metadata": {},
   "outputs": [],
   "source": [
    "# 注意顺序\n",
    "def greeting(message, name='John', surname='Smith'):\n",
    "    print(f'{message}, {name} {surname}!')\n",
    "    \n",
    "greeting('Hello')\n",
    "greeting('Hello', 'William')\n",
    "greeting('Hello', 'William', 'Shakespeare')"
   ]
  },
  {
   "cell_type": "markdown",
   "id": "bab84e62-6a64-4c6e-bf13-20b9af5fa828",
   "metadata": {},
   "source": [
    "函数可传入不确定个数的键值对参数"
   ]
  },
  {
   "cell_type": "code",
   "execution_count": null,
   "id": "955e4b96-220d-4039-8925-4686b6c51e80",
   "metadata": {},
   "outputs": [],
   "source": [
    "def greeting(message, name='John', surname='Smith', **kwargs):\n",
    "    print(f'{message}, {name} {surname}!')\n",
    "    for k, v in kwargs.items():\n",
    "        print(f'{k}: {v}')\n",
    "    \n",
    "greeting('Hello', 'William', time='today', location='starbucks')"
   ]
  },
  {
   "cell_type": "markdown",
   "id": "8bc53ebb-9d9b-4ed7-b8b2-358c0037f26f",
   "metadata": {},
   "source": [
    "### 参数界隔符号\n",
    "\n",
    "Python 函数定义中的参数列表实际上包括三种类型\n",
    "\n",
    "- **位置参数**：用于强制安排参数顺序或传入任意长度的序列解包参数的情况\n",
    "- 位置或键值对参数\n",
    "- **键值对参数**：用于参数顺序不重要但参数名称有意义的情况\n",
    "\n",
    "因此，可以用解包方法传入实际参数"
   ]
  },
  {
   "cell_type": "code",
   "execution_count": null,
   "id": "f0521999-10f0-4c99-b55d-8dadce29cb9b",
   "metadata": {},
   "outputs": [],
   "source": [
    "# 序列解包作为函数实际参数\n",
    "\n",
    "def multiply_all(*numbers):\n",
    "    prod = 1\n",
    "    for number in numbers:\n",
    "        prod *= number\n",
    "    return prod\n",
    "\n",
    "numbers = [1, 2, 3, 4, 5]\n",
    "multiply_all(*numbers)"
   ]
  },
  {
   "cell_type": "code",
   "execution_count": null,
   "id": "d248072e-80a7-496f-804e-6f2970145e20",
   "metadata": {},
   "outputs": [],
   "source": [
    "# 字典解包作为函数实际参数\n",
    "\n",
    "def greeting(message, name='John', surname='Smith', **kwargs):\n",
    "    \n",
    "    print(f'{message}, {name} {surname}!')\n",
    "    for k, v in kwargs.items():\n",
    "        print(f'{k}: {v}')\n",
    "\n",
    "states = {'time': '20210928 09:35:06', 'loc': '#1 Building', 'with': '🐕🐕'}\n",
    "greeting('Hello', **states)"
   ]
  },
  {
   "cell_type": "markdown",
   "id": "d83cc49f-0a30-4ed0-a846-cd7bd65c3db1",
   "metadata": {},
   "source": [
    "可以在定义时用 `/` 和 `*` 符号分隔这位置、位置或键值对、键值对这三类参数，减少函数传参的歧义\n",
    "\n",
    "函数签名的模板\n",
    "\n",
    "```python\n",
    "def func(pos1, pos2, /, pos_or_kwd, *, kwd1, kwd2):\n",
    "```"
   ]
  },
  {
   "cell_type": "code",
   "execution_count": null,
   "id": "a4bd4e58-ae3c-4c50-a04a-4d1f69fd8387",
   "metadata": {},
   "outputs": [],
   "source": [
    "# 举例\n",
    "\n",
    "def add_and_power(x, y, /, n=None, *, output=False):\n",
    "    power = n if n is not None else 1\n",
    "    result = (x + y) ** power\n",
    "    if output:\n",
    "        print(f'{power:8}')\n",
    "        print(f'(x + y)  = {result}')\n",
    "    return result\n",
    "\n",
    "# 注意n有默认值None，可以不在调用时写出\n",
    "# 但是output是仅键值对参数，必须在调用时写出完整的键值对\n",
    "add_and_power(1, 2, output=True)"
   ]
  },
  {
   "cell_type": "markdown",
   "id": "59beb9fc-117c-48b4-bb0a-8bffe044dbd7",
   "metadata": {},
   "source": [
    "Python 函数返回值可以是多个值，它们用`,`分隔，**实际上是返回了一个元组**"
   ]
  },
  {
   "cell_type": "code",
   "execution_count": null,
   "id": "d60bd1a2-52fe-4703-9eda-32198693d4d4",
   "metadata": {},
   "outputs": [],
   "source": [
    "# 返回多个值的例子\n",
    "\n",
    "def get_one_more(n):\n",
    "    one = 1\n",
    "    return n, one\n",
    "\n",
    "me, you = get_one_more(4)\n",
    "print(me)\n",
    "print(you)"
   ]
  },
  {
   "cell_type": "markdown",
   "id": "ac9c106a-dd67-4c02-a3b2-70197d0aa998",
   "metadata": {},
   "source": [
    "### 副作用\n",
    "\n",
    "Python函数的传参模式是对象引用，形式参数标识符绑定到实际参数标识符所引用的对象之上\n",
    "\n",
    "- 若形式参数绑定到一个可变对象的，则函数对这个对象的修改产生副作用\n",
    "\n",
    "- 若形式参数绑定到一个不可变对象的，则函数不能对这个对象产生修改，不过可以修改之后重新绑定到别的对象之上"
   ]
  },
  {
   "cell_type": "code",
   "execution_count": null,
   "id": "a37a075a-f5bb-47c6-8719-5b59af50904f",
   "metadata": {},
   "outputs": [],
   "source": [
    "# 如果指向一个可变对象，例如列表\n",
    "a_list = []\n",
    "def append_list(r, a=1):\n",
    "    r.append(a)\n",
    "    return r\n",
    "\n",
    "print(append_list(a_list))\n",
    "print(append_list(a_list, 2))\n",
    "print(append_list(append_list(a_list)))"
   ]
  },
  {
   "cell_type": "code",
   "execution_count": null,
   "id": "e6b9d2ae-72a0-42b7-8388-7d0dde250a53",
   "metadata": {},
   "outputs": [],
   "source": [
    "# 如果指向一个不可变对象，例如字符串\n",
    "a_str = ''\n",
    "def append_str(r, a='a'):\n",
    "    nr = r + a\n",
    "    return nr\n",
    "\n",
    "print(append_str(a_str))\n",
    "print(append_str(a_str, 'b'))\n",
    "print(append_str(append_str(a_str)))"
   ]
  },
  {
   "cell_type": "markdown",
   "id": "36f05a76-73a9-44cc-80be-336c5bee2738",
   "metadata": {},
   "source": [
    "### 递归\n",
    "\n",
    "定义一个在函数体内调用自身的函数，就是递归函数"
   ]
  },
  {
   "cell_type": "code",
   "execution_count": null,
   "id": "91bab095-d840-49b9-a99b-3db89600b604",
   "metadata": {},
   "outputs": [],
   "source": [
    "# 递归函数的例子\n",
    "\n",
    "def recursive_sum(n):\n",
    "    if n < 1:\n",
    "        return n\n",
    "    return n + recursive_sum(n - 1)\n",
    "\n",
    "recursive_sum(100)"
   ]
  },
  {
   "cell_type": "markdown",
   "id": "8bddcbc8-8cb6-40c5-a078-5a7b56a25f1e",
   "metadata": {},
   "source": [
    "递归 (recursion) 和迭代 (iteration) 都是以**递推式**为依据设计算法\n",
    "\n",
    "- 递归强调从大规模问题化简到较小规模的问题\n",
    "- 迭代强调从小规模问题增长到较大规模的问题"
   ]
  },
  {
   "cell_type": "markdown",
   "id": "e33a758a-9e14-4402-b433-11970ef30cdd",
   "metadata": {},
   "source": [
    "### lambda 表达式\n",
    "\n",
    "函数最好是能避免副作用\n",
    "\n",
    "lambda 表达式是**匿名函数**在 Python 语言中的实现，它要求\n",
    "\n",
    "- 函数体只能是一个**表达式**\n",
    "- 可以有多个输入参数\n",
    "- 返回一个函数的定义而不是值\n",
    "- 上下文感知\n",
    "\n",
    "语法模版\n",
    "\n",
    "```python\n",
    "lambda params: expr\n",
    "```"
   ]
  },
  {
   "cell_type": "code",
   "execution_count": null,
   "id": "10b54d24-eba6-4656-83ab-da732d7b62b9",
   "metadata": {},
   "outputs": [],
   "source": [
    "# 仅仅是lambda表达式\n",
    "lambda x, y: x * 2"
   ]
  },
  {
   "cell_type": "code",
   "execution_count": null,
   "id": "4bf1c95c-d1cb-4d08-b5a1-010957260daf",
   "metadata": {},
   "outputs": [],
   "source": [
    "# 绑定lambda表达式到一个标识符，这样就不再匿名了\n",
    "double = lambda x: x * 2\n",
    "# 具名调用\n",
    "double(3)"
   ]
  },
  {
   "cell_type": "code",
   "execution_count": null,
   "id": "d4e5991d-f4f0-4716-b9aa-d09757f8f9c8",
   "metadata": {},
   "outputs": [],
   "source": [
    "# 其实仅仅是lambda表达式也能直接用作函数调用\n",
    "(lambda x: x * 2)(3)"
   ]
  },
  {
   "cell_type": "markdown",
   "id": "70daee7a-9c73-41c1-be42-e87064ff7716",
   "metadata": {},
   "source": [
    "lambda 表达式的作用\n",
    "\n",
    "- ~~解决程序员“起名难”的问题~~\n",
    "- 进一步抽象了“运算”，构造**高阶函数** (higher-order function)\n",
    "- 构造闭包和柯里化\n",
    "\n",
    "lambda 表达式与 $\\lambda$-演算的关系"
   ]
  },
  {
   "cell_type": "markdown",
   "id": "62c1baf4-6e8d-45af-9edf-33bd08d4a88e",
   "metadata": {},
   "source": [
    "| 功能 | $\\lambda$-演算| Python语法 | 解释 |\n",
    "|--|--|--|--|\n",
    "| 变量 | $x$ | `x` | $x$是一个符号，表示输入值  |\n",
    "| 抽象 | $(\\lambda x.M)$  | `lambds x: x * 2`    | $M$是一个表达式，可能包含变量$x$，定义了抽象的运算 |\n",
    "| 应用 | $(\\lambda x.M N)$ | `(lambds x: x * 2)(3)` | 作用于另一个表达式$N$，可以替换符号$x$  |"
   ]
  },
  {
   "cell_type": "markdown",
   "id": "2581af72-a94b-4159-8f15-58d94fcf1a5d",
   "metadata": {},
   "source": [
    "Python 中的函数是一等公民，享受与变量一样的待遇，试着把函数用作参数\n",
    "\n",
    ">  `list.sort()` 和 `sorted()` 都有一个名叫 `key` 的参数，用来指定对列表元素比较时调用的函数"
   ]
  },
  {
   "cell_type": "code",
   "execution_count": null,
   "id": "6ad8b3bb-63fa-4f9c-9e0f-e3575a87d784",
   "metadata": {},
   "outputs": [],
   "source": [
    "# 传一个lambda表达式来指定排序方法\n",
    "sweets = ['蛋挞', '榴莲酥', '枣糕', '甜甜圈']\n",
    "\n",
    "# 默认排序\n",
    "print(sorted(sweets))"
   ]
  },
  {
   "cell_type": "code",
   "execution_count": null,
   "id": "49e4e206-a74a-4ef1-b921-6395bf4f2a62",
   "metadata": {},
   "outputs": [],
   "source": [
    "# 指定字符编码\n",
    "print(sorted(sweets, key=lambda sweet: sweet.encode('gbk')))"
   ]
  },
  {
   "cell_type": "markdown",
   "id": "d0244bb8-9e74-400b-bd56-18a4b4d4a3b7",
   "metadata": {},
   "source": [
    "下面是抽象了四则运算的例子"
   ]
  },
  {
   "cell_type": "code",
   "execution_count": null,
   "id": "ba1a7a97-e70f-4009-b408-bafcc93894ef",
   "metadata": {},
   "outputs": [],
   "source": [
    "def operate_on(a, b, op):\n",
    "    return op(a, b)\n",
    "\n",
    "print(operate_on(32, 2, lambda x, y: x + y))\n",
    "print(operate_on(32, 2, lambda x, y: x - y))\n",
    "print(operate_on(32, 2, lambda x, y: x * y))\n",
    "print(operate_on(32, 2, lambda x, y: x // y))"
   ]
  },
  {
   "cell_type": "markdown",
   "id": "e698a8e3-cadc-424e-8d64-9d4a22998433",
   "metadata": {},
   "source": [
    "### 高阶函数\n",
    "\n",
    "高阶函数以函数为参数，或者返回一个函数，实际上就是数学上的泛函 (functional)\n",
    "\n",
    "经典应用场景\n",
    "\n",
    "- 映射操作 `map(函数, 输入)`\n",
    "- 过滤操作 `filter(函数, 输入)`\n",
    "- 归约操作 `reduce(函数, 输入)`\n",
    "\n",
    "图解 map、filter 和 reduce"
   ]
  },
  {
   "cell_type": "markdown",
   "id": "731a03aa-8fc8-43ef-8321-da7486316126",
   "metadata": {},
   "source": [
    "| 输入列表       | 操作类型     | 高阶函数伪代码                  | 操作的结果     |\n",
    "| -------------- | :----------- | :------------------------------ | -------------- |\n",
    "| `[🌽, 🍇, 🐓, 🦐]` | 映射(map)    | `map(process, [🌽, 🍇, 🐓, 🦐])`    | `[🍿, 🍷, 🍗, 🍤]` |\n",
    "| `[🍿, 🍷, 🍗, 🍤]` | 过滤(filter) | `filter(is_meat, [🍿, 🍷, 🍗, 🍤])` | `[🍗, 🍤]`       |\n",
    "| `[🍗, 🍤]`       | 归约(reduce) | `reduce(digest, [🍗, 🍤])`        | `💩`            |\n",
    "\n",
    "映射的例子"
   ]
  },
  {
   "cell_type": "code",
   "execution_count": null,
   "id": "6af82ac7-452b-410c-b68c-d276c194387b",
   "metadata": {},
   "outputs": [],
   "source": [
    "# map()函数和推导式的关系\n",
    "\n",
    "sweets = ['蛋挞', '榴莲酥', '枣糕', '甜甜圈']\n",
    "\n",
    "new_list_1 = list(map(lambda i: i[-1], sweets))\n",
    "new_list_2 = [item[-1] for item in sweets]\n",
    "\n",
    "print(new_list_1)\n",
    "print(new_list_2)"
   ]
  },
  {
   "cell_type": "markdown",
   "id": "a0c59391-bfdf-49ce-a401-92b94d10c7ea",
   "metadata": {},
   "source": [
    "多个列表也可以映射"
   ]
  },
  {
   "cell_type": "code",
   "execution_count": null,
   "id": "78d01c92-1d65-4497-9063-01bd9e156ad5",
   "metadata": {},
   "outputs": [],
   "source": [
    "list_1 = [1, 2, 3, 4]\n",
    "list_2 = [2, 3, 5, 7, 11]\n",
    "\n",
    "# 注意结果列表的长度\n",
    "list(map(lambda x, y: x * y, list_1, list_2))"
   ]
  },
  {
   "cell_type": "markdown",
   "id": "9902ad70-2733-4009-afde-94e88c78ad0d",
   "metadata": {},
   "source": [
    "输入列表也可以是函数的列表"
   ]
  },
  {
   "cell_type": "code",
   "execution_count": null,
   "id": "9220ef60-3b6f-4951-b4f5-881dac034c0a",
   "metadata": {},
   "outputs": [],
   "source": [
    "pow_one = lambda x: x\n",
    "pow_two = lambda x: x * x\n",
    "pow_three = lambda x: x * x * x\n",
    "\n",
    "funcs = [pow_three, pow_two, pow_one]\n",
    "\n",
    "# 注意本例lambda表达式中的变量i是自由变量\n",
    "[list(map(lambda x: x(i), funcs)) for i in range(5)]"
   ]
  },
  {
   "cell_type": "markdown",
   "id": "1a54ede1-0fc0-417b-b951-4616c143640a",
   "metadata": {},
   "source": [
    "过滤的例子"
   ]
  },
  {
   "cell_type": "code",
   "execution_count": null,
   "id": "ed450fec-3ea2-469d-b1ff-18569aa0c804",
   "metadata": {},
   "outputs": [],
   "source": [
    "# 用range()生成从0到5的可迭代对象\n",
    "# 再用一个lambda表达式对其检测是否能被2整除\n",
    "# 最外围的list()只是将过滤结果转为一个普通的列表\n",
    "list(filter(lambda x: x % 2, range(5)))\n",
    "# 实际上相当于列表推导式的版本，后者反而更加Pythonic\n",
    "[i for i in range(5) if i % 2]"
   ]
  },
  {
   "cell_type": "markdown",
   "id": "87160562-4184-4d89-8dc5-c3fbd4bdf5ec",
   "metadata": {},
   "source": [
    "归约的例子"
   ]
  },
  {
   "cell_type": "code",
   "execution_count": null,
   "id": "193d8cb1-6c2d-4047-b10b-58628ec39c66",
   "metadata": {},
   "outputs": [],
   "source": [
    "import functools\n",
    "\n",
    "# 用一个lambda表达式设置归约的计算方法\n",
    "# 注意归约的结果不再是一个列表\n",
    "lst = [1, 2, 3]\n",
    "a = functools.reduce(lambda x, y: 2 * x + 3 * y, lst)\n",
    "print(a)\n",
    "\n",
    "# 实际上相当于一组累加的循环语句，下面的丑陋写法仅供对比参考\n",
    "a = (lambda x=lst[0]: [x := 2 * x + 3 * i for i in lst[1:]])()[-1]"
   ]
  },
  {
   "cell_type": "code",
   "execution_count": null,
   "id": "0e1a6252-7b5a-4357-9bea-08876af38cf6",
   "metadata": {
    "jupyter": {
     "source_hidden": true
    },
    "tags": []
   },
   "outputs": [],
   "source": [
    "reduce = '''\n",
    "graph LR\n",
    "l1[1]\n",
    "l2[2]\n",
    "l3[3]\n",
    "d2((2))\n",
    "d3((6))\n",
    "l1 --> |*2|d2\n",
    "l2 --> |*3|d3\n",
    "d4((8))\n",
    "d2 & d3 --> o1([+]) --> d4\n",
    "d5((16))\n",
    "d6((9))\n",
    "d4 --> |*2|d5\n",
    "l3 --> |*3|d6\n",
    "d7((25))\n",
    "d5 & d6 --> o2([+]) --> d7\n",
    "'''\n",
    "\n",
    "js_ui({'src': reduce}, TEMPLATE_MERMAIDJS, height=500)"
   ]
  },
  {
   "cell_type": "markdown",
   "id": "21506ff1-ddcf-4ae2-a6b7-6969ca57bede",
   "metadata": {},
   "source": [
    "### 迭代器和生成器\n",
    "\n",
    "迭代器 (iterator) 是一种实现了迭代器协议的对象，这种对象包含方法 `__iter__()` 和 `__next__()`\n",
    "\n",
    "生成器 (generator) 是一种迭代器，但一次只能产生一个返回值，可以通过使用 `for` 循环或将它们传递给任何迭代函数或迭代结构来使用\n",
    "\n",
    "可迭代对象可以用作迭代器，每次访问其中的一个成员"
   ]
  },
  {
   "cell_type": "code",
   "execution_count": null,
   "id": "23ef1b66-7085-4957-9acf-f5a879702e70",
   "metadata": {},
   "outputs": [],
   "source": [
    "sweets = ['蛋挞', '榴莲酥', '枣糕', '甜甜圈']\n",
    "\n",
    "sweet_iter = iter(sweets)\n",
    "\n",
    "print(next(sweet_iter))\n",
    "print(next(sweet_iter))\n",
    "print(next(sweet_iter))"
   ]
  },
  {
   "cell_type": "markdown",
   "id": "f7240fa4-bcde-40fa-9d68-ffbc3bbdca58",
   "metadata": {},
   "source": [
    "生成器可以用**函数**或**表达式**实现\n",
    "\n",
    "通过**函数**实现生成器用到 `yield` 语句"
   ]
  },
  {
   "cell_type": "code",
   "execution_count": null,
   "id": "8c0e38e8-44dd-4984-8c8a-255b52f9378e",
   "metadata": {},
   "outputs": [],
   "source": [
    "# 在函数体实现一个循环\n",
    "def gen_func():\n",
    "    for i in range(5):\n",
    "        yield 2 * i # 注意不是用return关键字返回值\n",
    "\n",
    "for item in gen_func():\n",
    "    print(item)"
   ]
  },
  {
   "cell_type": "markdown",
   "id": "43aca3d8-42a2-42eb-9c5a-dc7b6b3c2f94",
   "metadata": {},
   "source": [
    "生成器的特性是**延迟计算**，适合计算大型集合，尤其是涉及循环本身，同时又不想为所有结果分配内存的场合\n",
    "\n",
    "对比用生成器和一般函数实现的斐波那契数列"
   ]
  },
  {
   "cell_type": "code",
   "execution_count": null,
   "id": "0691fb10-5c78-4f90-81b3-e0618c16a6f2",
   "metadata": {
    "tags": []
   },
   "outputs": [],
   "source": [
    "def fibon1(n):\n",
    "    a = b = 1\n",
    "    for i in range(n):\n",
    "        yield a\n",
    "        a, b = b, a + b\n",
    "\n",
    "n = 1000\n",
    "for num in fibon1(n):\n",
    "    print(num)"
   ]
  },
  {
   "cell_type": "code",
   "execution_count": null,
   "id": "0e954554-9d99-4220-ba6d-a48a74d9ed24",
   "metadata": {
    "tags": []
   },
   "outputs": [],
   "source": [
    "# 下面这个版本可能导致系统资源耗尽\n",
    "def fibon2(n):\n",
    "    a = b = 1\n",
    "    result = []\n",
    "    for i in range(n):\n",
    "        result.append(a)\n",
    "        a, b = b, a + b\n",
    "    return result\n",
    "\n",
    "for num in fibon2(n):\n",
    "    print(num)"
   ]
  },
  {
   "cell_type": "markdown",
   "id": "ff14380b-df99-4c81-8958-2630ea84c53e",
   "metadata": {},
   "source": [
    "通过**表达式**也能制作生成器\n",
    "\n",
    "生成器表达式的定义将循环放在圆括号中，语法与推导式相同"
   ]
  },
  {
   "cell_type": "code",
   "execution_count": null,
   "id": "c4da2d89-f360-484c-b165-2d720382916c",
   "metadata": {},
   "outputs": [],
   "source": [
    "# 定义一个生成器表达式\n",
    "gen = (x for x in range(5))\n",
    "\n",
    "print(next(gen))\n",
    "print(next(gen))"
   ]
  },
  {
   "cell_type": "markdown",
   "id": "9488d784-4f4c-405a-9085-6a0f82118698",
   "metadata": {},
   "source": [
    "生成器表达式往往可以与其他表达式配合使用，例如与 lambda 表达式"
   ]
  },
  {
   "cell_type": "code",
   "execution_count": null,
   "id": "a25fcfac-6f2f-49fd-bd96-21b1a223e328",
   "metadata": {},
   "outputs": [],
   "source": [
    "# 注意func现在是一个函数\n",
    "func = lambda n: (x for x in range(n))\n",
    "\n",
    "# 这里可看出，我们定义的func相当于Python的内置函数range()\n",
    "for i in func(10):\n",
    "    print(i)"
   ]
  },
  {
   "cell_type": "markdown",
   "id": "970245e4-0be2-441f-a1c2-d80ab864a15e",
   "metadata": {},
   "source": [
    "## Python的各种声明语句\n",
    "\n",
    "Python 没有变量声明，但有其他类型的声明语句，通常涉及程序的控制和诊断\n",
    "\n",
    "### `break` 打断和 `continue` 继续\n",
    "\n",
    "只能直接嵌套于 `for` 或 `while` 循环结构中\n",
    "\n",
    "- `break` 中断最近一次的循环\n",
    "- `continue` 继续最近一次的循环的下一个循环"
   ]
  },
  {
   "cell_type": "code",
   "execution_count": null,
   "id": "fee337f9-674c-4f26-a632-d6f434c5bedf",
   "metadata": {},
   "outputs": [],
   "source": [
    "# break 和 continue 例子\n",
    "\n",
    "for i in range(100):\n",
    "    if i > 8:\n",
    "        break\n",
    "    if i % 2 == 0:\n",
    "        continue\n",
    "    print(i)"
   ]
  },
  {
   "cell_type": "markdown",
   "id": "c00ed0f6-1627-4d3a-97a5-dafc5d96f005",
   "metadata": {},
   "source": [
    "### `return` 返回和 `yield` 产生\n",
    "\n",
    "`return` 指示从函数中返回，只能用在函数定义中，不能用在表达式中\n",
    "\n",
    "`yield` 仅能用于生成器函数，一个函数若用 `yield` 替代 `return` 返回值，则函数转变为生成器函数\n",
    "\n",
    "详见[生成器](#迭代器和生成器)"
   ]
  },
  {
   "cell_type": "markdown",
   "id": "b3f4b5d8-6748-409a-91ea-72dae21cdefe",
   "metadata": {},
   "source": [
    "### `import` 导入模块\n",
    "\n",
    "在当前的上下文环境中，导入外部模块，成为本地命名空间的一部分，常见用法是\n",
    "\n",
    "- `import 模块名`\n",
    "- `from 模块名 import 模块中定义的公开的名称`\n",
    "\n",
    "> 非公开名称无法导入\n",
    "\n",
    "多个模块或模块中的内容，可以用逗号 (`,`) 分隔\n",
    "\n",
    "要导入模块中的所有公开名称，可以用通配符 (`*`) 表示\n",
    "\n",
    "- `from 模块名 import *`"
   ]
  },
  {
   "cell_type": "code",
   "execution_count": null,
   "id": "1c4e1aab-906b-41a2-b192-3fb60a991f62",
   "metadata": {},
   "outputs": [],
   "source": [
    "from math import gcd\n",
    "\n",
    "primes = [2, 3, 5, 7, 11, 13, 17, 19]\n",
    "print(gcd(*primes))"
   ]
  },
  {
   "cell_type": "markdown",
   "id": "57c46b2f-831e-49b4-8f4c-3a6e503872d2",
   "metadata": {},
   "source": [
    "### `assert ` 条件断言\n",
    "\n",
    "**断言** (assertion) 是在开发过程中记录、调试和测试代码的便捷工具，使代码更加高效、健壮和可靠\n",
    "\n",
    "断言的主要作用是在程序中出现错误时触发警报，意味着确保这个条件仍然成立，否则抛出错误\n",
    "\n",
    "`assert ` 语句由关键字、要测试的 `assert` 表达式或条件和可选的消息组成，条件应该始终为真\n",
    "\n",
    "- 如果断言条件为真，什么都不会发生，程序继续正常执行\n",
    "- 如果断言条件为假，则 `assert` 引发 `AssertionError`"
   ]
  },
  {
   "cell_type": "code",
   "execution_count": null,
   "id": "5737c189-0231-4d44-870a-610a47989a90",
   "metadata": {},
   "outputs": [],
   "source": [
    "number = 42\n",
    "assert number == 42, f'回答生命、宇宙和一切的终极问题应该是42，但你给的是{number}'"
   ]
  },
  {
   "cell_type": "code",
   "execution_count": null,
   "id": "75cd5f10-1d9b-4f03-b55a-84d288901123",
   "metadata": {},
   "outputs": [],
   "source": [
    "number = 18\n",
    "assert number == 42, f'回答生命、宇宙和一切的终极问题应该是42，但你给的是{number}'"
   ]
  },
  {
   "cell_type": "markdown",
   "id": "b0b7c149-8dc7-4b7a-b89c-810fd5eec5f0",
   "metadata": {},
   "source": [
    "断言用来测试代码健全度，常用的断言包括\n",
    "\n",
    "- 测试比较运算\n",
    "- 测试容器的成员\n",
    "- 测试数据类型\n",
    "\n",
    "注意，在生产环境中应该**禁用断言**\n",
    "\n",
    ">  若要不带断言运行代码，使用 `-O` 标签，例如\n",
    ">\n",
    ">  ```shell\n",
    ">  python -O my_script.py\n",
    ">  ```\n"
   ]
  },
  {
   "cell_type": "markdown",
   "id": "6bc403e6-351a-4bc6-a149-0e3ce2825785",
   "metadata": {},
   "source": [
    "### `raise` 引发异常\n",
    "\n",
    "Python 把程序出错分为错误 (error) 和异常 (exception)\n",
    "\n",
    "- 错误一般是指语法错误，在解释器翻译字节码时就能捕捉到\n",
    "- 异常一般是指运行时错误，只有在程序执行时才能发现\n",
    "\n",
    "异常多数由于代码逻辑引起，例如\n",
    "\n",
    "- `SyntaxError`：句法错误，检查出错点附近的源代码句法\n",
    "- `IndentationError`：缩进错误，通常是源代码缩进没有统一\n",
    "- `NameError`：名称错误，通常是没有定义这个变量\n",
    "- `AttributeError`：属性错误，通常是对象没有定义这个属性\n",
    "- `TypeError`：类型错误，通常是无法自动转换类型时\n",
    "- `ValueError`：值错误，通常是取到错误的值\n",
    "- `IndexError`：索引错误，通常是引用序列元素时越界\n",
    "- `KeyError`：键错误，通常是引用字典的键不存在\n",
    "- `ModuleNotFoundError`：模块未找到错误，通常是没有安装这个模块\n",
    "- `FileNotFoundError`：文件未找到，通常是由于文件路径出现问题\n",
    "\n",
    "使用 `raise` 关键字可以手动引发异常，例如"
   ]
  },
  {
   "cell_type": "code",
   "execution_count": null,
   "id": "e13f0428-9ffd-49ae-8822-7cbfd57b89e6",
   "metadata": {},
   "outputs": [],
   "source": [
    "raise ValueError"
   ]
  },
  {
   "cell_type": "markdown",
   "id": "987300ec-2f90-4ac9-a718-c40c7b7c1397",
   "metadata": {},
   "source": [
    "这种写法没有意义，因此通常要配合异常处理代码块来使用\n",
    "\n",
    "此外，`assert` 语句其实等价于带有条件结构的引发 `AssertionError` 异常，例如前面的例子"
   ]
  },
  {
   "cell_type": "code",
   "execution_count": null,
   "id": "94de3e7e-c240-404f-b832-3b72d221b698",
   "metadata": {},
   "outputs": [],
   "source": [
    "if __debug__:\n",
    "    if not number == 42:\n",
    "        raise AssertionError"
   ]
  },
  {
   "cell_type": "markdown",
   "id": "4c734046-6738-47ca-89ca-ebfc005adfa4",
   "metadata": {},
   "source": [
    "## 课后作业\n",
    "\n",
    "**截止日期：2023-04-07 00:00**\n",
    "\n",
    "### 1. 多维数组求和\n",
    "\n",
    "编写 Python 代码，对数值类型多维数组的成员求和，要求 $n$ 维数组 ($n>0$) 的求和结果是 $n-1$ 维数组\n",
    "\n",
    "> 由于标量是 0 维，所以不用求和\n",
    "\n",
    "可以用嵌套的列表表示多维数组\n",
    "\n",
    "例如\n",
    "\n",
    "- `[1, 2, 3.5] `的求和结果应该输出 `6.5`\n",
    "- `[[1, 2, 3.5], [-2, 2.5, 3.1]] `的求和结果应该输出 `[6.5, 3.6]`\n",
    "\n",
    "注意，使用数值计算、数据分析等第三方模块/库，不得分"
   ]
  },
  {
   "cell_type": "markdown",
   "id": "62b91087-51c9-401b-8906-8dd14d3bcf1b",
   "metadata": {
    "tags": []
   },
   "source": [
    "[comment]: 答案写在这里\n",
    "\n"
   ]
  },
  {
   "cell_type": "markdown",
   "id": "a349cc29-07e3-42d2-b5a8-eb059cd1f7e6",
   "metadata": {},
   "source": [
    "### 2. 打印杨辉三角\n",
    "\n",
    "在代数学中，杨辉三角可以表示二项展开式的系数，即\n",
    "\n",
    "$$(x+y)^n=\\sum_{k=0}^n C_n^k x^{n-k}y^k$$\n",
    "\n",
    "中的系数$C_n^k$的三角排列，其中\n",
    "\n",
    "$$C_n^k=\\frac{n!}{k!(n-k)!}$$\n",
    "\n",
    "这个序列的前 6 行如下\n",
    "\n",
    "$$\n",
    "\\begin{split}\n",
    "&1 \\qquad&(x + y)^0 &= 1 \\\\\n",
    "&1\\quad 1 \\qquad&(x + y)^1 &= 1x + 1y \\\\\n",
    "&1\\quad 2\\quad 1\\qquad&(x + y)^2 &= 1x^2 + 2xy + 1y^2 \\\\\n",
    "&1\\quad 3\\quad 3\\quad 1\\qquad&(x + y)^3 &= 1x^3 + 3x^2y + 3xy^2 + 1y^3 \\\\\n",
    "&1\\quad 4\\quad 6\\quad 4\\quad 1\\qquad&(x + y)^4 &= 1x^4 + 4x^3y + 6x^2y^2 + 4xy^3 + 1y^4 \\\\\n",
    "&1\\quad 5\\quad 10\\quad 10\\quad 5\\quad 1\\qquad&(x + y)^5 &= 1x^5 + 5x^4y + 10x^3y^2 + 10x^2y^3 + 5xy^4 + 1y^5 \\\\\n",
    "\\end{split}\n",
    "$$\n",
    "\n",
    "作业要求生成前 $n$ 行的杨辉三角序列并打印输出\n",
    "\n",
    "思路提示：\n",
    "\n",
    "1. 每一行的项可以表示成上一行的邻项相加的递推公式\n",
    "2. 推导过程有两种选择\n",
    "   - 从第一行开始作**迭代**\n",
    "   - 从最后一行开始作**递归**\n",
    "3. 每一行可以表示成列表，多行则表示成列表的列表`[[1], [1, 1], [1, 2, 1], [1, 3, 3, 1], [1, 4, 6, 4, 1], [1, 5, 10, 10, 5, 1]]` (类比：不等长二维数组)\n",
    "\n",
    "允许使用本章提到的任何Python编程技巧实现"
   ]
  }
 ],
 "metadata": {
  "kernelspec": {
   "display_name": "Python 3 (ipykernel)",
   "language": "python",
   "name": "python3"
  },
  "language_info": {
   "codemirror_mode": {
    "name": "ipython",
    "version": 3
   },
   "file_extension": ".py",
   "mimetype": "text/x-python",
   "name": "python",
   "nbconvert_exporter": "python",
   "pygments_lexer": "ipython3",
   "version": "3.9.12"
  }
 },
 "nbformat": 4,
 "nbformat_minor": 5
}
