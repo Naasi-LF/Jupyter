{
 "cells": [
  {
   "cell_type": "markdown",
   "id": "2461dca3",
   "metadata": {},
   "source": [
    "# 第一讲：绪论\n",
    "\n",
    "**2023-03-03 v1.2**\n",
    "\n",
    "**2022-08-30 v1.1**\n",
    "\n",
    "**2022-05-01 v1.0**\n",
    "\n",
    "**yeh@czust.edu.cn**\n",
    "\n",
    "> 上课时间：第2周至第17周，每周五3-5节课，共48课时\n",
    "\n",
    "> 上课地点：开阳楼A207机房\n",
    "\n",
    "> 考核方式：平时(20%) + 作业(30%) + 大作业(50%)\n",
    "\n",
    "- 教学目标\n",
    "  - 了解数据科学中所涉及的核心关键流程工作原理\n",
    "  - 掌握 Python 程序设计和主流数据科学工具及基本配置操作，详见[附录A](#附录A)\n",
    "  - 具备数据应用开发的基本能力和理论基础\n",
    "- 环境要求\n",
    "  - 安装有 Python 的操作系统，详见[附录B](#附录B)\n",
    "  - 推荐使用 Linux + [Miniconda](https://docs.conda.io/en/latest/miniconda.html)\n",
    "  - 推荐使用国产数据库 [TiDB](https://docs.pingcap.com/zh/tidb/dev/quick-start-with-tidb)，详见[附录C](#附录C)\n",
    "- 前置基础\n",
    "  - 数学：集合、函数、向量空间、矩阵、数理统计\n",
    "  - 计算机：程序设计语言、数据结构、数据库基本操作、面向对象程序设计"
   ]
  },
  {
   "cell_type": "markdown",
   "id": "853d0ada-0b02-4ad8-a102-f2997b7df457",
   "metadata": {},
   "source": [
    "<img alt=\"math\" src=\"./image/math.jpg\" style=\"width:40%;display:block;margin:auto\">"
   ]
  },
  {
   "cell_type": "code",
   "execution_count": null,
   "id": "660b0c4b",
   "metadata": {
    "jupyter": {
     "source_hidden": true
    },
    "tags": []
   },
   "outputs": [],
   "source": [
    "import io\n",
    "import uuid\n",
    "from pathlib import Path\n",
    "from IPython.display import IFrame\n",
    "\n",
    "TEMPLATE_MERMAIDJS='''<html>\n",
    "    <body>\n",
    "        <script src=\"https://cdn.jsdelivr.net/npm/mermaid/dist/mermaid.min.js\"></script>\n",
    "        <script>\n",
    "            mermaid.initialize({{ startOnLoad: true }});\n",
    "        </script>\n",
    "        <div class=\"mermaid\">\n",
    "            {src}\n",
    "        </div>\n",
    "    </body>\n",
    "</html>\n",
    "'''\n",
    "\n",
    "def js_ui(data, template, out_fn=None, out_path='./graph',\n",
    "          width='100%', height='100%', **kwargs):\n",
    "    '''生成一个包含模板化javascript包的IFrame'''\n",
    "    \n",
    "    if not out_fn:\n",
    "        out_fn = Path(f'{uuid.uuid4()}.html')\n",
    "    \n",
    "    out_path = Path(out_path)\n",
    "    filepath = out_path / out_fn\n",
    "    filepath.parent.mkdir(parents=True, exist_ok=True)\n",
    "    \n",
    "    with io.open(filepath, 'wt', encoding='utf8') as outfile:\n",
    "        outfile.write(template.format(**data))\n",
    "    \n",
    "    return IFrame(src=filepath, width=width, height=height)"
   ]
  },
  {
   "cell_type": "markdown",
   "id": "ead0087f",
   "metadata": {},
   "source": [
    "## 前言\n",
    "\n",
    "互联网用户每天产生约 2.5 ×10<sup>18</sup>字节的数据。到 2025 年，每年将达到 165 ZB。很多数据都有待于发掘。这意味着在数据科学在这方面有大量的机会"
   ]
  },
  {
   "cell_type": "markdown",
   "id": "cd0c1654",
   "metadata": {},
   "source": [
    "**数据科学是对结构化和非结构化的原始数据集进行挖掘和分析的实践**。通过数据科学方法来确定数据的模式并从中提取可操作的*洞察*(insight)。这是一个跨学科的领域，数据科学与数学、计算机科学、机器学习算法开发，以及大数据等新一代信息技术都有联系。\n",
    "\n",
    "> **数据洞察**\n",
    ">\n",
    "> 对特定业务事件的理解，可以通过使用机器学习(ML)和人工智能(AI)技术分析数据集来实现，以各种方式探索和理解数据"
   ]
  },
  {
   "cell_type": "markdown",
   "id": "384e2bed",
   "metadata": {},
   "source": [
    "简单的数据分析固然可以解释来自单一来源的数据或有限的数据量。然而，数据科学对于理解大数据和来自多个来源的数据非常有用"
   ]
  },
  {
   "cell_type": "markdown",
   "id": "31fcdf70",
   "metadata": {},
   "source": [
    "## 目的和任务\n",
    "\n",
    "时至今日，我们已经在日常生活中享受到数据科学带来的便利："
   ]
  },
  {
   "cell_type": "markdown",
   "id": "7378e8fd",
   "metadata": {},
   "source": [
    "视频网站根据用户喜好来推送内容"
   ]
  },
  {
   "cell_type": "code",
   "execution_count": null,
   "id": "5c14de38",
   "metadata": {
    "jupyter": {
     "source_hidden": true
    },
    "tags": []
   },
   "outputs": [],
   "source": [
    "video = '''\n",
    "flowchart LR\n",
    "user([用户])\n",
    "subgraph cont[网站内容]\n",
    "图书\n",
    "音乐\n",
    "电影\n",
    "演员\n",
    "end\n",
    "rs([推荐系统])\n",
    "user --> |搜索|cont\n",
    "user --> |点赞|cont\n",
    "user --> |收看|cont\n",
    "cont --> |数据反馈|rs\n",
    "rs --> |推荐内容|cont\n",
    "'''\n",
    "\n",
    "js_ui({'src': video}, TEMPLATE_MERMAIDJS)"
   ]
  },
  {
   "cell_type": "markdown",
   "id": "208d16eb-d524-4f3e-bde4-49af0857f0be",
   "metadata": {},
   "source": [
    "<img alt=\"algo\" src=\"./image/算法.jpg\" style=\"width:50%;display:block;margin:auto\">"
   ]
  },
  {
   "cell_type": "markdown",
   "id": "7720ff79",
   "metadata": {},
   "source": [
    "电子邮件系统自动过滤广告和恶意邮件"
   ]
  },
  {
   "cell_type": "code",
   "execution_count": null,
   "id": "4ffa658f",
   "metadata": {
    "jupyter": {
     "source_hidden": true
    },
    "tags": []
   },
   "outputs": [],
   "source": [
    "mail = '''\n",
    "flowchart LR\n",
    "email1[邮件]\n",
    "email2[邮件]\n",
    "email3[邮件]\n",
    "f([邮件过滤器])\n",
    "good[正常邮件]\n",
    "spam[垃圾邮件]\n",
    "user([用户])\n",
    "email1 & email2 & email3 --> f --> good & spam\n",
    "user --> |查阅|good\n",
    "'''\n",
    "\n",
    "js_ui({'src': mail}, TEMPLATE_MERMAIDJS, height=300)"
   ]
  },
  {
   "cell_type": "markdown",
   "id": "8cd6912c",
   "metadata": {},
   "source": [
    "智能家电通过理解用户的语音信号来工作"
   ]
  },
  {
   "cell_type": "code",
   "execution_count": null,
   "id": "521c0c18",
   "metadata": {
    "jupyter": {
     "source_hidden": true
    },
    "tags": []
   },
   "outputs": [],
   "source": [
    "home = '''\n",
    "flowchart LR\n",
    "v1[语音]\n",
    "f([智能家电])\n",
    "p[自然语言处理]\n",
    "v1 --> f --> p\n",
    "'''\n",
    "\n",
    "js_ui({'src': home}, TEMPLATE_MERMAIDJS)"
   ]
  },
  {
   "cell_type": "markdown",
   "id": "889cbe0a",
   "metadata": {},
   "source": [
    "疾控中心借助人群时空轨迹追踪流行病传播\n",
    "\n",
    "![covid](./image/疫情.png)"
   ]
  },
  {
   "cell_type": "markdown",
   "id": "9c841754",
   "metadata": {},
   "source": [
    "要定义数据科学和改善数据科学项目管理，要从其生命周期开始，又叫数据科学管道(pipeline)\n",
    "\n",
    "管道流程包括："
   ]
  },
  {
   "cell_type": "code",
   "execution_count": null,
   "id": "8ed80bff",
   "metadata": {
    "jupyter": {
     "source_hidden": true
    },
    "tags": []
   },
   "outputs": [],
   "source": [
    "pipe = '''\n",
    "flowchart LR\n",
    "subgraph a[获取数据]\n",
    "采集数据\n",
    "收集数据\n",
    "对接数据\n",
    "end\n",
    "subgraph b[准备数据]\n",
    "整理数据\n",
    "存储数据\n",
    "清洗数据\n",
    "end\n",
    "subgraph c[处理数据]\n",
    "挖掘数据\n",
    "建模数据\n",
    "end\n",
    "subgraph d[分析数据]\n",
    "探索数据\n",
    "检验数据\n",
    "end\n",
    "subgraph e[呈现数据]\n",
    "视觉设计\n",
    "交互设计\n",
    "end\n",
    "a --> b --> c & d --> e\n",
    "c --> d\n",
    "d --> c\n",
    "'''\n",
    "\n",
    "js_ui({'src': pipe}, TEMPLATE_MERMAIDJS)"
   ]
  },
  {
   "cell_type": "markdown",
   "id": "d3a1fb1d",
   "metadata": {},
   "source": [
    "第一阶段是获取：提取数据，并将其输入系统；也有从物联网系统连续采集的数据。\n",
    "\n",
    "下一阶段是维护和准备，包括数据仓库、数据清洗、数据暂存和数据架构。\n",
    "\n",
    "数据处理和数据分析紧随其后，并构成了数据科学的核心工作。在这一环节，**数据科学家**侧重分析数据，而**数据工程师**侧重处理数据，尽管两者之间多有互动。\n",
    "\n",
    "- 数据处理阶段涉及到数据挖掘、数据分类和聚类、数据建模以及数据洞察\n",
    "- 数据分析阶段涉及探索性和确认性工作：回归分析、预测性分析、定性分析和文本挖掘\n",
    "\n",
    "最后一个阶段是把数据洞察展示给非数据科学从业者的必须环节。这涉及数据可视化、数据报告、商业智能(BI)工具的使用，以及协助企业、政策制定者和其他人进行更明智的决策。"
   ]
  },
  {
   "cell_type": "markdown",
   "id": "bb740884",
   "metadata": {},
   "source": [
    "### 获取数据\n",
    "\n",
    "收集原始数据\n",
    "\n",
    "- 结构化、非结构化、半结构化\n",
    "- 手动输入、自动采集\n",
    "  - 文档数字化\n",
    "  - 在线文档编辑\n",
    "  - 应用程序内部埋点\n",
    "  - 设备监测\n",
    "  - 网络爬虫\n",
    "  - 模拟生成"
   ]
  },
  {
   "cell_type": "code",
   "execution_count": null,
   "id": "f4639803",
   "metadata": {
    "tags": []
   },
   "outputs": [],
   "source": [
    "crawler = '''\n",
    "flowchart LR\n",
    "scheduler([调度器])\n",
    "downloader([多线程下载器])\n",
    "parser([解析器])\n",
    "queue([队列])\n",
    "filt([过滤器])\n",
    "storage([存储])\n",
    "subgraph WWW\n",
    "网页B1 -.-> 网页C1\n",
    "网页A -.-> 网页B1 & 网页B2 -.-> 网页C2\n",
    "网页B2 -.-> 网页C3\n",
    "网页C1 & 网页C3 -.-> 网页C2 -.-> 网页A\n",
    "网页B1 -.-> 网页D\n",
    "end\n",
    "WWW --> |页面|downloader\n",
    "parser --> |数据|storage\n",
    "downloader --> |文本|parser --> |URL|queue --> filt --> |未访问URL|scheduler --> |URL|downloader\n",
    "filt --> |已访问URL|x -.- storage\n",
    "'''\n",
    "\n",
    "js_ui({'src': crawler}, TEMPLATE_MERMAIDJS, height=500)"
   ]
  },
  {
   "cell_type": "markdown",
   "id": "f8671f49-27b8-4de7-8288-21ad00ad92c6",
   "metadata": {},
   "source": [
    "例如：[国家统计局](https://data.stats.gov.cn/easyquery.htm)"
   ]
  },
  {
   "cell_type": "markdown",
   "id": "e1f8c9cf",
   "metadata": {},
   "source": [
    "### 准备数据\n",
    "\n",
    "- 格式转换\n",
    "- 数据清洗\n",
    "  - 去重\n",
    "  - 勘误\n",
    "  - 校对\n",
    "- 数据集成\n",
    "  - ETL：提取(extract)、转换(transform)、加载(load)\n",
    "- 数据存储\n",
    "  - 数据库：关系型数据管理系统(RDBMS)、非关系型数据库(NoSQL)\n",
    "  - 数据仓库\n",
    "  - 数据湖"
   ]
  },
  {
   "cell_type": "markdown",
   "id": "f158b793",
   "metadata": {},
   "source": [
    "### 分析数据\n",
    "\n",
    "检查数据值的范围(range)、分布(distribution)、偏差(deviation)或众数(mode)\n",
    "\n",
    "确定数据集是否适合用于后续的分析，目的是提取数据洞察\n",
    "\n",
    "- 统计分析\n",
    "- 预测分析\n",
    "- 回归分析\n",
    "- 机器学习\n",
    "- 深度学习"
   ]
  },
  {
   "cell_type": "markdown",
   "id": "5c8ca71d-c9a6-4a5f-a545-b38c34ff743a",
   "metadata": {},
   "source": [
    "<img alt=\"pain\" src=\"./image/pain.jpg\" style=\"width:50%\">"
   ]
  },
  {
   "cell_type": "markdown",
   "id": "78903924",
   "metadata": {},
   "source": [
    "### 数据呈现\n",
    "\n",
    "帮助决策者理解数据洞察\n",
    "\n",
    "- 图表\n",
    "- 动画\n",
    "- 报告/报表\n",
    "- 演示文稿\n",
    "- 沉浸式交互"
   ]
  },
  {
   "cell_type": "markdown",
   "id": "33e78603-ab41-40d2-901f-f80d05d8aa0e",
   "metadata": {},
   "source": [
    "![history](./image/中国历史时空图.jpg)"
   ]
  },
  {
   "cell_type": "markdown",
   "id": "15a0030a",
   "metadata": {},
   "source": [
    "## 方法和工具"
   ]
  },
  {
   "cell_type": "markdown",
   "id": "f9fa45d2",
   "metadata": {},
   "source": [
    "### 数据科学方法\n",
    "#### 清洗和准备\n",
    "\n",
    "数据准备和分析是最重要的数据科学技能，仅数据准备通常就消耗了数据科学家 60-70% 的时间。很少有数据是以结构化、无噪音、已纠正的形式产生。在数据准备步骤中，数据得以转化并准备好后续使用\n",
    "\n",
    "PyData社区通常选择使用 [Pandas](https://pandas.pydata.org/Pandas_Cheat_Sheet.pdf) 进行数据全过程操作\n",
    "\n",
    "这部分过程涉到数据的转换和抽样，检查特征和观察结果，并使用统计技术来消除噪音。还需阐明数据集中的各种特征是否相互独立，以及是否可能存在缺失值"
   ]
  },
  {
   "cell_type": "markdown",
   "id": "2f152fa6",
   "metadata": {},
   "source": [
    "#### 探索\n",
    "\n",
    "探索步骤是**数据科学**和**数据分析**的主要区别\n",
    "\n",
    "- 数据科学从宏观角度出发，旨在提出关于数据的更好问题，以便从数据中提取更多的见解和知识\n",
    "- 数据分析已经有了问题，采取更狭隘的观点来寻找具体的答案，而不是探索"
   ]
  },
  {
   "cell_type": "markdown",
   "id": "d417ccbe-f667-4c64-9bd4-73e148aa7aa4",
   "metadata": {},
   "source": [
    "#### 建模和部署\n",
    "\n",
    "在建模步骤中，数据科学家使用机器学习算法将数据“喂给”模型，模型的选择取决于数据的类型和业务要求。\n",
    "\n",
    "接下来对模型进行测试，检查其准确性和其他特征。这使数据科学家能够调整模型以达到预期结果。如果模型不太符合要求，可以尝试选择一系列不同的模型。\n",
    "\n",
    "一旦用好的数据进行适当的测试产生了需求的预期结果，该模型就可以被最终确定和部署"
   ]
  },
  {
   "cell_type": "markdown",
   "id": "764419ba",
   "metadata": {},
   "source": [
    "### 数据科学工具\n",
    "\n",
    "在数据科学管道的不同阶段都有工具支持，工具大致分为两大阵营\n",
    "\n",
    "- 开源软件\n",
    "- 商业软件"
   ]
  },
  {
   "cell_type": "markdown",
   "id": "99ef1924-1d2d-46c0-b1e8-bbbc2c5ebe8d",
   "metadata": {},
   "source": [
    "![lang](./image/lang.jpg)"
   ]
  },
  {
   "cell_type": "markdown",
   "id": "2bb1dcab",
   "metadata": {},
   "source": [
    "#### 编程语言\n",
    "\n",
    "- [Python](https://www.python.org/)：通用目的编程语言，通过一些第三方库支持数据科学任务\n",
    "  - [NumPy](https://numpy.org/)：事实上的Python数组标准\n",
    "  - [Pandas](https://pandas.pydata.org/)：数据分析与转换\n",
    "  - [Matplotlib](https://matplotlib.org/)：图形绘制与布局\n",
    "  - [Jupyter](https://jupyter.org/)：支持**执行-探索**工作流的交互式编程界面\n",
    "  - [SciPy](https://scipy.org/)：提供高级的科学计算和数值模拟工具包\n",
    "\n",
    "- [R](https://www.r-project.org/)：尤其擅长数据统计和可视化的开源编程语言\n",
    "\n",
    "- [Julia](https://julialang.org/)：为数据科学而生的下一代高效编程语言\n",
    "\n",
    "- [Matlab](https://ww2.mathworks.cn/products/matlab.html)：活跃在工程和仿真界的数值计算商业软件"
   ]
  },
  {
   "cell_type": "markdown",
   "id": "4fabe5da",
   "metadata": {},
   "source": [
    "**R vs Python**\n",
    "\n",
    "R是作为一种用于数据统计、分析和可视化的用户友好语言而开发的，它有一个庞大的开发者社区。特别适合在个人服务器上进行需要独立分析或计算的数据分析任务。对于探索性数据分析 (Exploratory Data Analysis, EDA) 也很出色，是数据科学管道的理想选择，著名的 `ggplot2` 等可视化软件包几乎成为数据可视化的社区范例。\n",
    "\n",
    "然而，对于计算机/软件工程出身的学生而言，R 语言可能过于沉重和缓慢，语法的学习曲线可能很陡峭。\n",
    "\n",
    "Python是作为一种可读性更强的通用语言而开发的，它更简单，学习起来更灵活。因此可以说，**R主要存在于数据科学生态系统中，而Python则还可以用于各种垂直领域**。用于数据科学的 Python 只是在通用 Python 语法的基础上通过导入软件包来实现所需的功能。\n",
    "\n",
    "此外，Jupyter笔记本系统允许用户相互分享笔记本，使其在没有安装的情况下更容易工作，极大地减少了时间的损失。它的后端接口支持包括R和Python在内的多种编程语言，方便行业交流和思维分享。"
   ]
  },
  {
   "cell_type": "markdown",
   "id": "a63f3750",
   "metadata": {},
   "source": [
    "#### 计算平台\n",
    "\n",
    "并行和分布式计算是现代应用程序的主要内容。我们需要利用**多核**或**多机**来加速应用程序或大规模运行它们。\n",
    "\n",
    "在并行计算中，多个处理器同时执行分配给它们的多个任务。并行系统中的内存可以共享，也可以是分布式。并行计算提供了并发性钱。\n",
    "\n",
    "在分布式计算中，通常部署了多台独立的计算机，但在用户看来是单个系统。单一的任务分配给不同的计算机。分布式系统没有共享内存，计算机之间通过**消息传递**进行通信。\n",
    "\n",
    "因此，并行计算的目的主要是提高性能，而分布式计算主要考虑的是系统的容错性和可扩展性。"
   ]
  },
  {
   "cell_type": "markdown",
   "id": "704f49f4",
   "metadata": {},
   "source": [
    "**共享内存 vs 消息传递**\n",
    "\n",
    "共享内存状态容易实现，因为所有的数据都在一起。但是一旦进入死锁，就很难修改或扩展。\n",
    "\n",
    "消息传递考虑并发 (concurrence)，每个分布式进程的状态都是隔离的，更容易处理竞争问题。"
   ]
  },
  {
   "cell_type": "markdown",
   "id": "d9adbf48",
   "metadata": {},
   "source": [
    "- 可扩展计算\n",
    "\n",
    "  - [Dask](https://github.com/dask/dask)\n",
    "  - [Ray](https://github.com/ray-project/ray)\n",
    "  - [Apache Spark](https://github.com/apache/spark)\n",
    "  - [Apache Hadoop](https://github.com/apache/hadoop)\n",
    "\n",
    "- 可视化工具\n",
    "  - [ECharts](https://echarts.apache.org/zh/index.html)\n",
    "  - [Tableau](https://www.tableau.com/)\n",
    "  - [D3.js](https://d3js.org/)"
   ]
  },
  {
   "cell_type": "markdown",
   "id": "e38af223",
   "metadata": {},
   "source": [
    "##### 可扩展计算\n",
    "\n",
    "对于数据科学家来说，大数据是一个不断增长的信息池。现代数据工程师应该具备充分利用数据科学技能来分析和建模大型数据集的能力。\n",
    "\n",
    "直到最近，高性能计算还是一个特殊的领域，需要大量的技术专长和资金才能参与其中。大量的应用远远超出了普通的限制当时的计算机设备：天气建模、地球物理模拟，甚至计算火炮弹道。从历史上看，这些问题的典型答案需要非常昂贵的专用超级计算机来处理复杂的计算\n",
    "\n",
    "今天，技术的进步使计算和存储资源变得极其便宜。随着无限可重新配置的在线服务器和在云中可用，非常强大的计算平台已经飞入寻常百姓家。"
   ]
  },
  {
   "cell_type": "markdown",
   "id": "542ba2bb",
   "metadata": {},
   "source": [
    "> 最初于2010年推出的Apache Spark已成为近年来最流行的可扩展计算框架。它作为Apache Hadoop的MapReduce处理引擎的内存替代方案，能够吸引大量已经在使用Hadoop进行大数据存储的用户。Spark的主要开发语言是Java和Scala。\n",
    "\n",
    "> Dask于2014年问世，项目由Anaconda主持。Dask是一个原生Python库，旨在与NumPy、Pandas和Scikit-Learn等其他分析库一起使用。此外，Dask的启动和维护开销非常低，使其成为原型设计和快速将这些原型部署到生产中的非常强大的工具。"
   ]
  },
  {
   "cell_type": "code",
   "execution_count": null,
   "id": "936c3b55",
   "metadata": {},
   "outputs": [],
   "source": [
    "import dask\n",
    "\n",
    "def inc(x):\n",
    "    return x + 1\n",
    "\n",
    "def add(x, y):\n",
    "    return x + y\n",
    "\n",
    "x = dask.delayed(inc)(1)\n",
    "y = dask.delayed(inc)(2)\n",
    "z = dask.delayed(add)(x, y)\n",
    "z.compute()"
   ]
  },
  {
   "cell_type": "markdown",
   "id": "6e043301",
   "metadata": {},
   "source": [
    "![dask](./image/dask-simple.png)"
   ]
  },
  {
   "cell_type": "markdown",
   "id": "ddc8665e",
   "metadata": {},
   "source": [
    "##### 可视化工具\n",
    "\n",
    "数据科学家以图形、图表和其他可视化的形式表现数据，让用户洞察凭直觉不易获取的信息。例如，数据中的某些趋势是如何相互关联，或者多个因素是如何叠加影响。\n",
    "\n",
    "数据科学的成果惠及更广泛的受众的常见模式是通过数据工程部署项目，通过使用基于网络的工具，允许用户探索和数据互动。为了支持有效的数据可视化，系统必须能够访问相关的数据科学结果输出，并具有直观的交互能力。\n",
    "\n",
    "例子\n",
    "- [国际航运交通](https://www.marinetraffic.com/zh/ais/home/centerx:130.2/centery:28.5/zoom:4)\n",
    "- [芝加哥市儿童入学](https://gabriellelamarrlemee.github.io/thesis-simulation/)\n",
    "- [解构藏文](http://www.shu-iids.com/ich-data-lab/project_story_decode_tibetan.html)"
   ]
  },
  {
   "cell_type": "markdown",
   "id": "e61c30bb",
   "metadata": {
    "jp-MarkdownHeadingCollapsed": true,
    "tags": []
   },
   "source": [
    "#### 云计算\n",
    "\n",
    "云计算服务模型\n",
    "\n",
    "- 软件即服务(SaaS)：数据集分发和采集应用、数据分析应用、各类智能应用\n",
    "- 平台即服务(PaaS)：应用开发、数据工程开发\n",
    "- 基础设施即服务(IaaS)：数据库、运行时、中间件、操作系统"
   ]
  },
  {
   "cell_type": "code",
   "execution_count": null,
   "id": "c5c11d06",
   "metadata": {
    "jupyter": {
     "source_hidden": true
    },
    "tags": []
   },
   "outputs": [],
   "source": [
    "cloud = '''\n",
    "flowchart BT\n",
    "subgraph SaaS\n",
    "sa[数据]\n",
    "end\n",
    "subgraph PaaS\n",
    "pa[数据]\n",
    "pb[应用]\n",
    "end\n",
    "subgraph IaaS\n",
    "ia[数据]\n",
    "ib[应用]\n",
    "ic[运行时]\n",
    "id[中间件]\n",
    "ie[操作系统]\n",
    "end\n",
    "IaaS --> PaaS --> SaaS\n",
    "subgraph 本地部署\n",
    "oa[数据]\n",
    "ob[应用]\n",
    "oc[运行时]\n",
    "od[中间件]\n",
    "oe[操作系统]\n",
    "of[虚拟化]\n",
    "og[服务器]\n",
    "oh[存储设备]\n",
    "oi[网络设备]\n",
    "end\n",
    "'''\n",
    "\n",
    "js_ui({'src': cloud}, TEMPLATE_MERMAIDJS, height=500)"
   ]
  },
  {
   "cell_type": "markdown",
   "id": "83308669",
   "metadata": {},
   "source": [
    "## 概念辨析"
   ]
  },
  {
   "cell_type": "markdown",
   "id": "16088f1e",
   "metadata": {},
   "source": [
    "### 与统计学的区别\n",
    "\n",
    "数据科学是一个跨学科领域，融合了计算机科学、数学、软件工程等学科背景。统计学是一个应用领域，针对数值(numerical)和分类(catagorical)数据的研究，它的一些方法可以应用于数据科学。数据科学是统计学的一个自然延伸。它与计算机科学一起发展，在新技术的帮助下处理大量的数据。\n",
    "\n",
    "统计方法还确保数据科学家能够探索、描述和概述数据。统计理论和方法允许数据科学家以更强大的方式收集数据，为特定用途分析和解释数据，并得出结论以解决特定问题。"
   ]
  },
  {
   "cell_type": "markdown",
   "id": "a81fb942",
   "metadata": {},
   "source": [
    "### 与机器学习的区别\n",
    "\n",
    "机器学习是数据科学的一部分，允许计算机从数据中“习得”模型，而不需要为每一个信息制定明确的规则逻辑。有时，机器学习特指采用学习方式进行数据分析和挖掘的过程。\n",
    "\n",
    "机器学习算法依赖于源数据。机器(计算机)使用这些数据作为训练集，在过程中改进算法，调整参数并测试算法。通过这种方式使用统计技术对其数据科学算法的各种参数进行微调。\n",
    "\n",
    "数据科学的范围超出机器学习，它还包括调查数据、收集物联网传入的“泛在”数据。还涉及数据集成、数据工程、数据可视化以及部署数据项目，而不仅仅是为了训练算法。"
   ]
  },
  {
   "cell_type": "markdown",
   "id": "693c68f5",
   "metadata": {},
   "source": [
    "### 与大数据的区别\n",
    "\n",
    "数据来自不同的来源，如多媒体表格、文档、在线购物、财务日志、传感器、模拟仿真等。数据可能是非结构化的、半结构化的、或结构化的：\n",
    "\n",
    "- 非结构化数据包括博客、音频/视频资料、数字图像、电子邮件、移动设备、社交网络等\n",
    "- 半结构化数据包括系统日志文件、JSON 或 XML 文件、文本文件、传感器、网页等\n",
    "- 结构化数据包括 OLTP、RDBMS、交易数据等"
   ]
  },
  {
   "cell_type": "markdown",
   "id": "71a2764a",
   "metadata": {},
   "source": [
    "这些都可能成为大数据(Big Data)，以其速度、种类、数量、真实、价值之巨大为特征。大数据是数据科学领域中使用的原材料。数据科学是一种科学方法，可以应用统计和数学理论及计算机工具来处理大数据，这些垂直领域提供先进的算法和其他工具，从而分析、清理、处理和从数据中提取有意义的洞察。\n",
    "\n",
    "- Velocity\n",
    "- Variety\n",
    "- Volume\n",
    "- Veracity\n",
    "- Value"
   ]
  },
  {
   "cell_type": "markdown",
   "id": "b2e512f0",
   "metadata": {},
   "source": [
    "## 发展趋势\n",
    "\n",
    "随着数据科学领域的发展，我们可以预见其未来发展趋势\n",
    "\n",
    "- 数据科学任务自动化。随着越来越多的企业投资于人工智能和运维工程，加之数据的生成量增加，为了处理，势必进一步提高自动化管道水平。\n",
    "- 数据科学资源更易获取。对熟悉数据科学任务的人才、人工智能专业人士的需求正在爆炸性增长，这种增长反过来推动垂直领域中公民科学的趋势。\n",
    "- 数据隐私和数据监管。隐私权、监管需求和透明度需求之间的矛盾逐渐暴露。数据科学有能力使机器学习算法和训练人工智能的过程更加透明。"
   ]
  },
  {
   "cell_type": "markdown",
   "id": "0f689058",
   "metadata": {},
   "source": [
    "就像其他科学学科一样，更复杂的操作可能会保留给受过更多特定训练的数据科学家，但不那么稀缺的任务将转为普遍可及。随着数据科学自动化程度提高，还会有多少新的垂直领域拥抱数据科学。"
   ]
  },
  {
   "cell_type": "markdown",
   "id": "1316d587",
   "metadata": {},
   "source": [
    "## 就业前景\n",
    "\n",
    "$$数据科学家\\times软件工程师=数据工程师\\approx(大厂)算法工程师$$"
   ]
  },
  {
   "cell_type": "code",
   "execution_count": null,
   "id": "9d422d6e",
   "metadata": {
    "jupyter": {
     "source_hidden": true
    },
    "tags": []
   },
   "outputs": [],
   "source": [
    "ds = '''\n",
    "graph LR\n",
    "X[业务场景] -.-> R[业务需求]\n",
    "R ==> A[获取数据]\n",
    "A ==> B[准备数据]\n",
    "B --> D1[分析数据] & D2[处理数据]\n",
    "D1 & D2 --> Y[呈现数据]\n",
    "Y ==> E[数据洞察]\n",
    "X --> E\n",
    "E -.-> A\n",
    "'''\n",
    "\n",
    "js_ui({'src': ds}, TEMPLATE_MERMAIDJS, height=300)"
   ]
  },
  {
   "cell_type": "markdown",
   "id": "de764d0a",
   "metadata": {},
   "source": [
    "> 数据科学家是一种综合能力较强、业务素质过关的~~生物~~**缝合怪**\n",
    "- 既要懂计算机科学，又要临时习得跨领域业务知识\n",
    "- 既要懂程序开发，又要会算法开发\n",
    "- 既要对接数据库，又要读写文件系统\n",
    "- 既要写自动化脚本，又要会模块化代码\n",
    "- 既要有软件工程实践，又要会应用数学和科学方法论\n",
    "- 既要与领域专家共事，又要面对不懂数据的外行"
   ]
  },
  {
   "cell_type": "markdown",
   "id": "bf4db664",
   "metadata": {},
   "source": [
    "## 课后作业/实践\n",
    "\n",
    "**截止日期：2023-03-10 10:00**\n",
    "\n",
    "1. 思考如何在现代软件开发中引进数据科学方法\n",
    "2. 配置学习本课程的开发环境\n",
    "  - Python\n",
    "  - Jupyter\n",
    "  - Visual Studio Code\n",
    "3. 在配置好的环境中打开本课件(即.ipynb文件)\n",
    "  - 认真复习课堂内容\n",
    "  - 在 [国家统计局网站](https://data.stats.gov.cn/easyquery.htm?cn=C01) 查询，20 年前 (即 2003 年) 的普通高校数量，填入下面的 `count` 变量中\n",
    "  - 修改下面代码框的信息为自己的姓名、学号，并执行输出\n",
    "  - 保存本文件，以电子邮件形式发送至教师邮箱(yeh@czust.edu.cn)"
   ]
  },
  {
   "cell_type": "code",
   "execution_count": null,
   "id": "056f73a4-2b01-472d-a940-e76d1010ed7a",
   "metadata": {},
   "outputs": [],
   "source": [
    "sname = \"蔡徐堃\"\n",
    "sno = 220101001\n",
    "count = # 删了我这条注释，然后填入真实的数值\n",
    "msg = f\"我是{sname}，我的学号是{sno}\\n20 年前的普通高校数量是 {count}\"\n",
    "\n",
    "print(msg)"
   ]
  },
  {
   "cell_type": "markdown",
   "id": "65291414-1c3c-462e-82ea-f851cb00c870",
   "metadata": {},
   "source": [
    "## 附录A\n",
    "\n",
    "**本课程常用 Python 软件包**\n",
    "\n",
    "### Jupyter\n",
    "\n",
    "Jupyter 是一个为数据科学的独特工作流程而设计的开发环境，它基于 Notebook 的概念来组织代码，方便用户进行数据科学实验，即设置参数运行实验、根据结果调整参数的反复试错过程\n",
    "\n",
    "Notebook 运行在一个 Web 服务上，可以本地部署也可以远程部署。用户访问 Jupyter 的 Notebook 或 Lab 界面，以 REPL 的交互模式开始数据科学实验\n",
    "\n",
    "Notebook 集合代码、文本、媒体、命令于一体，例如\n",
    "\n",
    "**空间两点之间的距离**\n",
    "\n",
    "空间两点之间的距离 $d$ 可以用点的坐标计算，例如二维点距\n",
    "$$d=\\sqrt{(x_1-x_2)^2+(y_1-y_2)^2}$$"
   ]
  },
  {
   "cell_type": "code",
   "execution_count": null,
   "id": "e6a82511-bada-4c22-a9cb-16db6d4a9079",
   "metadata": {},
   "outputs": [],
   "source": [
    "import numpy as np\n",
    "\n",
    "def dist(a, b):\n",
    "    return np.linalg.norm(a - b)\n",
    "\n",
    "p1 = np.array([3, 4])\n",
    "p2 = np.array([0, 0])\n",
    "\n",
    "dist(p1, p2)"
   ]
  },
  {
   "cell_type": "markdown",
   "id": "3e3e9c7e-deb5-45c1-bad2-ef57a6eb7fbb",
   "metadata": {},
   "source": [
    "### NumPy\n",
    "\n",
    "NumPy 是一个数值计算库，它封装了大部分矩阵计算的数据结构和算法，方便 Python 用户调用\n",
    "\n",
    "NumPy 是用 C 语言编写的，因此执行速度非常快。而 Python 是由 CPython 解释器解释、转换为字节码并执行的动态语言。NumPy 为开发人员提供了两全其美的优势：C 的性能和 Python 的易用性。\n",
    "\n",
    "NumPy 使用 **n 维数组**的概念组织数据，`ndarray` 在形式上接近 Python 的列表，但提供了更高的性能和更多的方法，例如"
   ]
  },
  {
   "cell_type": "code",
   "execution_count": null,
   "id": "55f35907-70df-4d7a-9ac1-4cb48993b6aa",
   "metadata": {},
   "outputs": [],
   "source": [
    "import numpy as np\n",
    "\n",
    "A = np.random.randint(0, 10, size=(3, 3))\n",
    "B = np.random.randint(0, 10, size=(3, 1))\n",
    "\n",
    "print(A @ B)"
   ]
  },
  {
   "cell_type": "markdown",
   "id": "5cf53c67-263d-4c96-bf9e-027384312203",
   "metadata": {},
   "source": [
    "### Pandas\n",
    "\n",
    "Pandas 是一个数据处理库，它模仿 R 语言的大部分功能，其主要数据结构是 `DataFrame` ，是一种具有命名列和索引行的二维表结构，`DataFrame` 可以方便地与其他二维结构化数据相互转换\n",
    "\n",
    "例如"
   ]
  },
  {
   "cell_type": "code",
   "execution_count": null,
   "id": "41370527-ddad-497f-a667-ffb08d7f8299",
   "metadata": {},
   "outputs": [],
   "source": [
    "import numpy as np\n",
    "import pandas as pd\n",
    "\n",
    "A = np.random.randint(0, 10, size=(3, 3))\n",
    "df = pd.DataFrame(data=A)\n",
    "\n",
    "print(df)"
   ]
  },
  {
   "cell_type": "markdown",
   "id": "3c80c025-9134-4907-9c8c-40281a9c59d4",
   "metadata": {},
   "source": [
    "可以看到，生成的 `DataFrame` 具有列名和行索引号，通过列名可以访问某列，这样的列称为 `Series` ，其实是带索引的一维数组"
   ]
  },
  {
   "cell_type": "code",
   "execution_count": null,
   "id": "feaf40df-c203-4638-83f0-9926765474bd",
   "metadata": {},
   "outputs": [],
   "source": [
    "print(df[0])"
   ]
  },
  {
   "cell_type": "markdown",
   "id": "be1a61b4-9202-41e3-a9ab-04d82fc4b9a5",
   "metadata": {},
   "source": [
    "### Matplotlib\n",
    "\n",
    "Matplotlib 是一个图形绘制库，它模仿 MATLAB 里的画图接口，极大提高了抽象数据的视觉展示效果\n",
    "\n",
    "大部分 API 是在 `matplotlib.pyplot` 模块里，可以用来绘制各种常用图件，也可以方便地配置图件的格式和布局，例如"
   ]
  },
  {
   "cell_type": "code",
   "execution_count": null,
   "id": "406d3c4b-97af-48b7-93f5-8713b1a21e23",
   "metadata": {},
   "outputs": [],
   "source": [
    "import numpy as np\n",
    "import matplotlib.pyplot as plt\n",
    "\n",
    "x = np.random.randn(10)\n",
    "y = np.random.randn(10)\n",
    "colors = np.random.uniform(size=10)\n",
    "sizes = np.random.uniform(size=10) * 1000\n",
    "\n",
    "plt.scatter(x, y, c=colors, s=sizes, cmap='viridis')\n",
    "plt.show()"
   ]
  },
  {
   "cell_type": "markdown",
   "id": "42f3a142-33dd-4ec4-9ff4-4b9b8dc4f6af",
   "metadata": {},
   "source": [
    "## 附录B\n",
    "\n",
    "**Python 环境安装建议**\n",
    "\n",
    "### Windows 或 macOS 用户\n",
    "\n",
    "- 安装 [Miniconda](https://docs.conda.io/en/latest/miniconda.html)\n",
    "- 尽量减少使用 conda 的 `base`  环境，并使用一个或多个自建的 [conda 环境](https://docs.conda.io/projects/conda/en/latest/user-guide/tasks/manage-environments.html) 来安装项目所需的包\n",
    "- 除非只想用 `defaults` 频道中的软件包，否则通过[设置频道优先级](https://conda-forge.org/docs/user/introduction.html#how-can-i-install-packages-from-conda-forge)将默认频道设置为 `conda-forge`\n",
    "\n",
    "### Linux 用户\n",
    "\n",
    "如果能够接受略过时的软件包，并且更喜欢稳定性而不是能够使用最新版本的库：\n",
    "\n",
    "- 尽可能多地使用操作系统的包管理器，如 Python 本身、NumPy 和其他库\n",
    "- 使用 `pip install somepackage --user` 安装操作系统的包管理器未提供的包\n",
    "\n",
    "### 使用 GPU 的用户\n",
    "\n",
    "- 安装 [Miniconda](https://docs.conda.io/en/latest/miniconda.html)\n",
    "- 尽量减少使用 conda 的 `base`  环境，并使用一个或多个自建的 [conda 环境](https://docs.conda.io/projects/conda/en/latest/user-guide/tasks/manage-environments.html) 来安装项目所需的包\n",
    "- 使用 conda 的 `defaults` 频道，因为 `conda-forge`对 GPU 包尚未提供很好的支持\n",
    "\n",
    "### 其他用户\n",
    "\n",
    "- 安装 [Miniforge](https://github.com/conda-forge/miniforge)\n",
    "- 尽量减少使用 conda 的 `base`  环境，并使用一个或多个自建的 [conda 环境](https://docs.conda.io/projects/conda/en/latest/user-guide/tasks/manage-environments.html) 来安装项目所需的包"
   ]
  },
  {
   "cell_type": "markdown",
   "id": "e6767cf3-1684-407d-b9ee-2c2c986aad69",
   "metadata": {},
   "source": [
    "## 附录C\n",
    "\n",
    "### TiDB\n",
    "\n",
    "TiDB 是 PingCAP 公司自主设计、研发的开源分布式关系型数据库，是一款同时支持在线事务处理与在线分析处理 (Hybrid Transactional and Analytical Processing, HTAP) 的融合型分布式数据库产品，具备水平扩容或者缩容、金融级高可用、实时 HTAP、云原生的分布式数据库、兼容 MySQL 5.7 协议和 MySQL 生态等重要特性，支持在本地和云上部署。\n",
    "\n",
    "### TiDB Cloud\n",
    "\n",
    "TiDB Cloud 是全托管的数据库即服务 (Database-as-a-Service, DBaaS) 产品，依托于公有云提供开箱即用的 TiDB 服务。TiDB Cloud 让数据库部署、运维和性能调优变得轻松简单，通过界面上的几次点击即可快速创建和管理 TiDB 集群，让您可以专注于自身业务。适用于中国出海企业和开发者。\n",
    "\n",
    "### 快速上手\n",
    "\n",
    "PingCAP 致力于打造专业而系统的 TiDB 课程内容和开放的全球认证体系，为 TiDB 用户和 IT 专业人员提供卓越的学习体验，服务于高校学生、社区开发者、合作伙伴、企业用户等 TiDB 技术人才群体。\n",
    "\n",
    "- TiDB 的[文档中心](https://docs.pingcap.com/zh/)提供了大量的产品文档，包括新手入门导引、数据库开发和运维手册等。是学习数据库的好帮手。\n",
    "- PingCAP 的[课程中心](https://learn.pingcap.com/learner/home)提供了优质课程，从 TiDB 入门、数据库操作，到 NewSQL 数据库核心原理、数据库性能调优……涵盖从初学者到高级用户的必要知识。\n",
    "\n",
    "### 推荐学习资源\n",
    "\n",
    "- [TiDB 的架构与特点（201.1）](https://learn.pingcap.com/learner/course/600003) 是初学者的入门课程，讲授了 TiDB 的基本架构和组成部分，并使用若干个实验帮助理解原理。\n",
    "- [TiDB 数据库核心原理与架构 [TiDB v6.1]（101）](https://learn.pingcap.com/learner/course/960001) 是基于 v6.1 版本的 TiDB 数据库，侧重于数据库的架构和设计原则，适用于未来从事数据库管理、开发、性能调整和故障排除的学习者。"
   ]
  }
 ],
 "metadata": {
  "kernelspec": {
   "display_name": "Python 3 (ipykernel)",
   "language": "python",
   "name": "python3"
  },
  "language_info": {
   "codemirror_mode": {
    "name": "ipython",
    "version": 3
   },
   "file_extension": ".py",
   "mimetype": "text/x-python",
   "name": "python",
   "nbconvert_exporter": "python",
   "pygments_lexer": "ipython3",
   "version": "3.9.12"
  }
 },
 "nbformat": 4,
 "nbformat_minor": 5
}
