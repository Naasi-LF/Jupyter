{
 "cells": [
  {
   "cell_type": "markdown",
   "id": "fb25af7f-ed97-416c-b3e0-82dcb50378cf",
   "metadata": {},
   "source": [
    "# 第三讲：Python 基础：数据结构\n",
    "\n",
    "**2023-03-24 v2.1**\n",
    "\n",
    "**2022-09-18 v2.0**\n",
    "\n",
    "**2022-04-05 v1.2**\n",
    "\n",
    "**2022-03-27 v1.1**\n",
    "\n",
    "**2022-03-24 v1.0**\n",
    "\n",
    "**yeh@czust.edu.cn**"
   ]
  },
  {
   "cell_type": "markdown",
   "id": "c34246c6-dc3b-4bd4-b9e8-289c0e20ec14",
   "metadata": {},
   "source": [
    "## 序列类型\n",
    "\n",
    "### 字符串\n",
    "\n",
    "字符串是**不可变**的序列对象，由单引号 (`'`) 或双引号 (`\"`) 界定\n",
    "\n",
    "> Python 序列以 0 为索引起点，序列 `seq` 中的第一个成员是 `seq[0]`\n",
    ">\n",
    "> **索引**的语法是用方括号 (`[]`) 表示的"
   ]
  },
  {
   "cell_type": "code",
   "execution_count": null,
   "id": "5b502f08-077d-413c-9998-5d6e2eb73180",
   "metadata": {},
   "outputs": [],
   "source": [
    "# 不可变对象无法更改成员\n",
    "a_str = \"这很合理\"\n",
    "\n",
    "# 查看成员\n",
    "print(a_str[0])"
   ]
  },
  {
   "cell_type": "code",
   "execution_count": null,
   "id": "cc925a57-0521-411b-a05f-8a6c68a79cab",
   "metadata": {},
   "outputs": [],
   "source": [
    "# 尝试修改成员\n",
    "a_str[0] = \"那\""
   ]
  },
  {
   "cell_type": "markdown",
   "id": "967407cc-a908-4182-a35c-5887a99a9c36",
   "metadata": {},
   "source": [
    "反斜杠 (`\\`) 是**转义字符**，`r `引导的原始字符串对转义字符不作转义"
   ]
  },
  {
   "cell_type": "code",
   "execution_count": null,
   "id": "7d3eb142-35f9-4121-889e-561011d3d960",
   "metadata": {},
   "outputs": [],
   "source": [
    "# 转义字符\n",
    "a = '我的\\n世界'\n",
    "b = r'我的\\n世界'\n",
    "print(a)\n",
    "print(b)"
   ]
  },
  {
   "cell_type": "markdown",
   "id": "a480e223-d9cd-4834-bd48-8fa06edea905",
   "metadata": {},
   "source": [
    "三引号 (`'''`或`\"\"\"`) 字符串可以表示多行文本，多用来在代码中插入*文档*，因此又叫**文档字符串** (docstring)"
   ]
  },
  {
   "cell_type": "code",
   "execution_count": null,
   "id": "b93a823d-3f0e-4596-917c-7601b07032d1",
   "metadata": {},
   "outputs": [],
   "source": [
    "# 文档字符串\n",
    "\n",
    "'''从这里开始撰写文档\n",
    "文内换行如实保留\n",
    "    缩进 空格什么的都保留\n",
    "'''"
   ]
  },
  {
   "cell_type": "markdown",
   "id": "325cab61-5ce5-4d9a-8beb-d03c446e286b",
   "metadata": {},
   "source": [
    "内置函数 `len()`可以获取序列的长度，当然包括字符串的长度"
   ]
  },
  {
   "cell_type": "markdown",
   "id": "194202dc-f6a2-4250-bd04-ad58c85c7e81",
   "metadata": {},
   "source": [
    "#### 字符串格式化\n",
    "\n",
    "- 老方法：`%`格式化符号\n",
    "- 新方法：`str.format()`方法\n",
    "- 新新方法：`f''`字符串\n",
    "\n",
    "```python\n",
    "# 字符串格式化\n",
    "\n",
    "name = '全てのエヴァンゲリオン'\n",
    "\n",
    "print('さようなら %s！' % name)\n",
    "print('さようなら {}！'.format(name))\n",
    "print(f'さようなら {name}！')\n",
    "```"
   ]
  },
  {
   "cell_type": "markdown",
   "id": "3b6ae9f1-ddd4-428b-83cf-11122c2d4a48",
   "metadata": {},
   "source": [
    "> 各有利弊\n",
    "\n",
    "- `%` 现在几乎用得不多了，除了那些特别怀念 C 语言的人\n",
    "- `format()` 是的优势是允许多次重复使用参数\n",
    "- `f` 字符串的优势是直观易读，不用跳着看代码\n",
    "\n",
    "```python\n",
    "# format()可以重复使用参数\n",
    "print(\"{0}是{1}的{0}\".format(\"中国\", \"中国人民\"))\n",
    "```\n",
    "\n",
    "> 其实还有一个 `format()` 函数\n",
    ">\n",
    "> 使用方法是 `format(被格式化的量, '格式化模版字符串')`"
   ]
  },
  {
   "cell_type": "markdown",
   "id": "93e7dc87-9723-4717-a786-d47c76e19cf0",
   "metadata": {},
   "source": [
    "#### 常用字符串方法\n",
    "\n",
    "- `str.lower()`全体大写字符转为小写，`str.upper()`全体小写字符转为大写\n",
    "- `str.lstrip()`删除字符串起首空格字符，`str.rstrip()`删除字符串结尾空格字符，`str.strip()`删除字符串起首**和**结尾空格字符\n",
    "- `str.startswith(s)`判断是否以`s`起首，`str.endswith(s)`判断是否以`s`结尾\n",
    "- `str.split(s)`以`s`为分隔符拆分字符串为序列，`str.join(seq)`以`str`为分隔符组装序列`seq`为字符串\n",
    "- `str.find(s, start=0, end=len(str))`在字符串`str`中查找字符串`s`，`start`和`end`指定范围\n",
    "- 各种`str.isalpha()`、`str.isdigit()`、`str.isspace()`等判断是否包含/仅包含某些字符的函数"
   ]
  },
  {
   "cell_type": "code",
   "execution_count": null,
   "id": "edaac45a-958c-49f4-94d8-91b9998ebd82",
   "metadata": {},
   "outputs": [],
   "source": [
    "# 举例\n",
    "\n",
    "# 打碎指环\n",
    "ring = 'ash nazg durbatulûk ash nazg gimbatul ash nazg thrakatulûk agh burzum-ishi krimpatul'\n",
    "seq = ring.split(' ')\n",
    "\n",
    "# 再接起来\n",
    "print('\\n'.join(seq))"
   ]
  },
  {
   "cell_type": "markdown",
   "id": "8989e70e-bdfb-4f10-8dc4-4c60e7fcc629",
   "metadata": {},
   "source": [
    "### 字节串\n",
    "\n",
    "字节串 (`bytes`) 与字符串的形式类似，但是在引号前面有一个 `b` 前缀\n",
    "\n",
    "```python\n",
    "# 字节串\n",
    "\n",
    "my_bytes = b\"Hello, world!\"\n",
    "```\n",
    "\n",
    "字节串中只允许使用 ASCII 字符\n",
    "\n",
    "字节串通常和十六进制表示息息相关，可以用内置方法相互转换\n",
    "\n",
    "此外，字节串可以解码为字符串；反之，字符串可以编码为字节串\n",
    "\n",
    "```python\n",
    "# 解码到字符串\n",
    "my_str = my_bytes.decode('utf-8')\n",
    "# 编码成字节串\n",
    "my_str.encode('utf-8')\n",
    "```\n",
    "\n",
    "可以简单的理解为\n",
    "\n",
    "- 字符串有利于人类通信\n",
    "- 字节串有利于计算机通信\n",
    "\n",
    "字节串还有许多方法与字符串的方法功能类似 (甚至命名都一样)"
   ]
  },
  {
   "cell_type": "code",
   "execution_count": null,
   "id": "ab7e6f0d-aeb1-4e1f-bb12-5034c10525be",
   "metadata": {},
   "outputs": [],
   "source": [
    "my_bytes = b\"Hello, world!\"\n",
    "my_str = my_bytes.decode('utf-8')"
   ]
  },
  {
   "cell_type": "code",
   "execution_count": null,
   "id": "2e00b7fc-48a8-4fea-bb24-12ae387c5c22",
   "metadata": {},
   "outputs": [],
   "source": [
    "my_str"
   ]
  },
  {
   "cell_type": "code",
   "execution_count": null,
   "id": "3d506d33-35da-4ba2-9004-3fa2f25a72d9",
   "metadata": {},
   "outputs": [],
   "source": [
    "my_str.encode('utf-8')"
   ]
  },
  {
   "cell_type": "markdown",
   "id": "af8b8e45-ccc9-4002-a1f2-157a3eb60764",
   "metadata": {},
   "source": [
    "### 列表\n",
    "\n",
    "列表 (list) 是 Python 内建数据结构之一，用方括号`[`和`]`定界、用逗号`,`分隔里面的元素\n",
    "\n",
    "与字符串类似，列表也\n",
    "\n",
    "- 用`[]`访问元素\n",
    "- 元素索引从`0`开始\n",
    "- 用`len()`获取长度\n",
    "\n",
    "但是与字符串不同，列表是**可变对象**"
   ]
  },
  {
   "cell_type": "code",
   "execution_count": null,
   "id": "264946e6-aa37-4053-aa41-17e841b13582",
   "metadata": {},
   "outputs": [],
   "source": [
    "# 列表元素用逗号分隔\n",
    "# 这里演示了整数型的元素\n",
    "fib = [1, 1, 2, 3, 5, 8, 13,] # 最后允许悬垂一个逗号哦"
   ]
  },
  {
   "cell_type": "code",
   "execution_count": null,
   "id": "8ca971a3-a979-40fa-9ca8-b0772f87441f",
   "metadata": {},
   "outputs": [],
   "source": [
    "len(fib)"
   ]
  },
  {
   "cell_type": "code",
   "execution_count": null,
   "id": "a4a21717-ba0f-42e9-a184-2535c4bf687b",
   "metadata": {},
   "outputs": [],
   "source": [
    "fib[-1]"
   ]
  },
  {
   "cell_type": "code",
   "execution_count": null,
   "id": "0b88922d-8ddd-4dbd-a7a3-0f6528c6d26c",
   "metadata": {},
   "outputs": [],
   "source": [
    "fib[6] = 4"
   ]
  },
  {
   "cell_type": "code",
   "execution_count": null,
   "id": "563aca4f-f724-42e3-9bd4-384a1d02b0f0",
   "metadata": {},
   "outputs": [],
   "source": [
    "fib"
   ]
  },
  {
   "cell_type": "code",
   "execution_count": null,
   "id": "4b0ea602-298f-4698-9296-f4636f726b6c",
   "metadata": {},
   "outputs": [],
   "source": [
    "# 可变性\n",
    "del fib[6]"
   ]
  },
  {
   "cell_type": "code",
   "execution_count": null,
   "id": "289b8270-c56e-4083-a804-a16f33753537",
   "metadata": {},
   "outputs": [],
   "source": [
    "# 甚至是不同类型的元素\n",
    "bucket = ['Hi', 404, False, 3.141592]\n",
    "\n",
    "# 访问元素\n",
    "favs = ['One Last Kiss', 'Beautiful World', 'Komm, süsser Tod', '紅蓮の弓矢']\n",
    "print(favs[3])  # 从0往右计数\n",
    "print(favs[-1]) # -1表示倒数(往左计数)第1"
   ]
  },
  {
   "cell_type": "markdown",
   "id": "b71dfd0b-3c1b-42f5-af9a-3060f45219ba",
   "metadata": {},
   "source": [
    "#### 列表赋值\n",
    "\n",
    "赋值语句改变的只是标识符的绑定，并不是拷贝整个列表给新的标识符"
   ]
  },
  {
   "cell_type": "code",
   "execution_count": null,
   "id": "d1c9923c-3ae0-4bbe-9fb8-5ec772987a27",
   "metadata": {},
   "outputs": [],
   "source": [
    "# 列表赋值\n",
    "list_a = [1, 2, 3, 4]\n",
    "list_b = list_a\n",
    "\n",
    "# 改变原列表的元素\n",
    "list_a[0] = 0\n",
    "# 再看新列表\n",
    "list_b"
   ]
  },
  {
   "cell_type": "markdown",
   "id": "ea09ccc5-a735-49a0-865e-f830e3cd1353",
   "metadata": {},
   "source": [
    "Python 列表实际上是指向一个动态数组的指针，这个动态数组的元素又是指向不同对象的指针"
   ]
  },
  {
   "cell_type": "code",
   "execution_count": null,
   "id": "3e01529b-3dd1-45ef-9e81-5628a33feb7c",
   "metadata": {},
   "outputs": [],
   "source": [
    "# Python的列表实现方式: 数组还是链表?\n",
    "\n",
    "test_list = [None] * 100000\n",
    "\n",
    "%timeit test_list[0]\n",
    "%timeit test_list[50000]\n",
    "%timeit test_list[-1]"
   ]
  },
  {
   "cell_type": "markdown",
   "id": "7ddc203c-1c2f-4b20-ae21-d2e8eb3ed865",
   "metadata": {},
   "source": [
    "#### 常用列表方法\n",
    "\n",
    "- `list.append(e)`附加，在列表末尾添加一个元素`e`，**原位操作**\n",
    "- `list.extend(iter)`延伸，在列表末尾添加一个可迭代容器`iter`内的元素\n",
    "- `list.insert(i, e)`插入，在列表指定位置`i`添加一个元素`e`，插入后其他元素右移\n",
    "- `list.remove(e)`移除，删除列表中指定的元素`e`的首现例\n",
    "- `list.pop(i)`弹出，删除列表中指定位置`i`的元素并返回该元素，省略`i`则弹出最右端的元素\n",
    "- `list.count(e)`计数，返回列表内指定元素`e`的个数\n",
    "- `list.sort()`排序，对列表进行排序，**原位操作**\n",
    "- `list.reverse()`逆转，对列表进行逆序排列，**原位操作**"
   ]
  },
  {
   "cell_type": "code",
   "execution_count": null,
   "id": "40e54da9-fc44-4079-af28-ff4af543a1b7",
   "metadata": {},
   "outputs": [],
   "source": [
    "# 举例\n",
    "list_a = [2, 4, 6, 8]"
   ]
  },
  {
   "cell_type": "code",
   "execution_count": null,
   "id": "220e67ca-a6a8-422c-90f8-7c60a29fc8b7",
   "metadata": {},
   "outputs": [],
   "source": [
    "\n",
    "list_a.append(10)"
   ]
  },
  {
   "cell_type": "code",
   "execution_count": null,
   "id": "c91865fc-8bdf-445b-864c-b8502bd0d9a0",
   "metadata": {},
   "outputs": [],
   "source": [
    "list_a"
   ]
  },
  {
   "cell_type": "code",
   "execution_count": null,
   "id": "489e2f8a-2d7d-4db4-9c4c-bf9d2a5e4bff",
   "metadata": {},
   "outputs": [],
   "source": [
    "# 弹出元素\n",
    "list_a.pop()"
   ]
  },
  {
   "cell_type": "code",
   "execution_count": null,
   "id": "0a0a8b76-7a41-4119-8dfb-da453d4e41e1",
   "metadata": {},
   "outputs": [],
   "source": [
    "# 延伸列表\n",
    "list_b = [1, 3, 5, 7]"
   ]
  },
  {
   "cell_type": "code",
   "execution_count": null,
   "id": "0e62606f-2188-4e85-af6b-64772a4b87c6",
   "metadata": {},
   "outputs": [],
   "source": [
    "list_a.extend(list_b)"
   ]
  },
  {
   "cell_type": "code",
   "execution_count": null,
   "id": "5267d67d-6b44-4bec-b18b-e71c11d8e7e5",
   "metadata": {},
   "outputs": [],
   "source": [
    "list_a + list_b"
   ]
  },
  {
   "cell_type": "code",
   "execution_count": null,
   "id": "cd541043-11be-475f-9594-2a38f9668c5c",
   "metadata": {},
   "outputs": [],
   "source": [
    "# 原位操作 vs 非原位操作\n",
    "list_ab = [2, 4, 6, 8, 1, 3, 5, 7]\n",
    "# 非原位排序 sorted(list)\n",
    "print(sorted(list_ab))\n",
    "print(list_ab)\n",
    "# 原位排序 list.sort()\n",
    "print(list_ab.sort())\n",
    "print(list_ab)"
   ]
  },
  {
   "cell_type": "markdown",
   "id": "f0087e8a-6d3a-4107-9db8-4f084e02f703",
   "metadata": {},
   "source": [
    "### 元组\n",
    "\n",
    "元组 (tuple) 也是序列的一种，属于不可变对象\n",
    "\n",
    "元组通常用圆括号`(`和`)`定界、逗号`,`分隔元素\n",
    "\n",
    "> 没有歧义的情况下，元组的括号可以省略\n",
    "\n",
    "语法样式"
   ]
  },
  {
   "cell_type": "code",
   "execution_count": null,
   "id": "02ecb049-fc6d-4559-8e81-3566795c28bd",
   "metadata": {},
   "outputs": [],
   "source": [
    "a_tuple = (1, 2)\n",
    "type(a_tuple)"
   ]
  },
  {
   "cell_type": "markdown",
   "id": "ab30d7f2-7b9c-4a21-b1eb-6447cbc3ee90",
   "metadata": {},
   "source": [
    "元组的大多数行为与**列表**类似，除了元组的**不可变**性质"
   ]
  },
  {
   "cell_type": "code",
   "execution_count": null,
   "id": "6f4b01f7-1f80-4c70-b3fd-0aedcee653f5",
   "metadata": {},
   "outputs": [],
   "source": [
    "a_tuple = ('计算机科学', '软件工程', '通信工程', '物联网工程', '人工智能')\n",
    "# 访问元素\n",
    "print(a_tuple[0])\n",
    "# 获取长度\n",
    "print(len(a_tuple))\n",
    "# 但是无法修改元素\n",
    "a_tuple[4] = '大数据'"
   ]
  },
  {
   "cell_type": "markdown",
   "id": "8f7b736e-c537-4f21-8489-0da56a76136d",
   "metadata": {},
   "source": [
    "在需要修改元组里内容的场合下，最好是使用列表"
   ]
  },
  {
   "cell_type": "code",
   "execution_count": null,
   "id": "ead361e2-f724-4793-ac18-01dde68f54c0",
   "metadata": {},
   "outputs": [],
   "source": [
    "# 幸好可以转换类型\n",
    "from_tuple = list(a_tuple)\n",
    "from_tuple.extend(a_tuple)\n",
    "# 别忘了元组也是可迭代容器，所以能作为`list.extend()`的参数\n",
    "from_tuple"
   ]
  },
  {
   "cell_type": "markdown",
   "id": "14b448e6-1817-43ce-ba06-30b5c6a9081c",
   "metadata": {},
   "source": [
    "元组可以直接用逗号 (`,`) 分隔表示\n",
    "\n",
    "元组支持解包操作，元组的解包使用一个星号 (`*`)"
   ]
  },
  {
   "cell_type": "code",
   "execution_count": null,
   "id": "2e1afdfb-23a9-46de-aa97-2289384cd28a",
   "metadata": {},
   "outputs": [],
   "source": [
    "# 元组解包\n",
    "print(*a_tuple, sep=';')"
   ]
  },
  {
   "cell_type": "code",
   "execution_count": null,
   "id": "635ab74a-7666-4fc1-b0b7-68017f69af4d",
   "metadata": {},
   "outputs": [],
   "source": [
    "print(1, 2)"
   ]
  },
  {
   "cell_type": "code",
   "execution_count": null,
   "id": "a4760a81-e8d4-4f18-afe5-d59572fc40f7",
   "metadata": {},
   "outputs": [],
   "source": [
    "*a_tuple"
   ]
  },
  {
   "cell_type": "markdown",
   "id": "99b568e1-879a-4237-bc5d-d981c86c72fa",
   "metadata": {},
   "source": [
    "`zip()`函数可以将多个序列组合成一个元组"
   ]
  },
  {
   "cell_type": "code",
   "execution_count": null,
   "id": "672cf005-1924-4d3f-aa23-ccc6d7b706f3",
   "metadata": {},
   "outputs": [],
   "source": [
    "list_a = [2, 4, 6, 8]\n",
    "list_b = [1, 3, 5, 7]\n",
    "zipped = zip(list_a, list_b)"
   ]
  },
  {
   "cell_type": "code",
   "execution_count": null,
   "id": "fd74495e-ce15-4b42-a694-768d117e2b64",
   "metadata": {},
   "outputs": [],
   "source": [
    "zipped"
   ]
  },
  {
   "cell_type": "code",
   "execution_count": null,
   "id": "0c53af01-faff-42cf-9443-c423cfd9604a",
   "metadata": {},
   "outputs": [],
   "source": [
    "comb = list(zipped)\n",
    "comb"
   ]
  },
  {
   "cell_type": "code",
   "execution_count": null,
   "id": "7687c89e-57a3-41d8-9a59-4f312d4afe9b",
   "metadata": {},
   "outputs": [],
   "source": [
    "print(*comb, sep='\\n')"
   ]
  },
  {
   "cell_type": "markdown",
   "id": "d2142072-c9e9-42dd-8dd2-beba00671148",
   "metadata": {},
   "source": [
    "### 序列小结\n",
    "\n",
    "字符串、列表、元组和范围都是序列\n",
    "\n",
    "序列是一种可迭代的容器，容器内放置元素\n",
    "\n",
    "| 类型   | 可变 | 元素访问 | 元素存在 | 序列长度 | 切片      | 删除  |\n",
    "| ------ | ---- | -------- | -------- | -------- | --------- | ----- |\n",
    "| 字符串 | 否   | `[]`     | `in`     | `len()`  | `[i:j:k]` |       |\n",
    "| 列表   | 是   | `[]`     | `in`     | `len()`  | `[i:j:k]` | `del` |\n",
    "| 元组   | 否   | `[]`     | `in`     | `len()`  | `[i:j:k]` |       |\n",
    "| 范围   | 否   | `[]`     | `in`     | `len()`  | `[i:j:k]` |       |\n",
    "\n",
    "序列索引的起点从 `0` 开始\n",
    "\n",
    "负值表示从末尾反向计算，即当 `i` 是负值时 `seq[i] == seq[len(seq)+i]`\n",
    "\n",
    "- 索引 `seq[i]`\n",
    "- 切片 `seq[start:stop]`或`seq[start:stop:step]`"
   ]
  },
  {
   "cell_type": "code",
   "execution_count": null,
   "id": "bc99dbff-b1d9-431b-bd9f-08417cd286c9",
   "metadata": {},
   "outputs": [],
   "source": [
    "# 序列的 in 操作示例\n",
    "\n",
    "my_str = '字符串'\n",
    "my_list = ['a', 'c', 'g']\n",
    "my_tuple = ('d', 'o', 'g', 'e')\n",
    "my_range = range(3, 12)\n",
    "\n",
    "print('字' in my_str)\n",
    "print('n' not in my_list)\n",
    "print('d' in my_tuple)\n",
    "print(6 in my_range)"
   ]
  },
  {
   "cell_type": "code",
   "execution_count": null,
   "id": "facbf219-571d-4ae0-9e39-96139624faf2",
   "metadata": {},
   "outputs": [],
   "source": [
    "my_tuple[::2]"
   ]
  },
  {
   "cell_type": "markdown",
   "id": "e8e8c07e-8ab3-42e0-a95a-db365888311c",
   "metadata": {},
   "source": [
    "## 映射类型\n",
    "\n",
    "### 字典\n",
    "\n",
    "字典(dictionary)是~~无序的~~可变对象，它将可散列值映射到任意对象\n",
    "\n",
    "> 从 Python 3.7 开始，字典按插入顺序存储，因此是有序的\n",
    "\n",
    "字典由键 (key) 和 值(value) 组成一组映射，键必须是**可散列值**\n",
    "\n",
    "通常由字符串和整型值充当字典的键，而不用浮点型"
   ]
  },
  {
   "cell_type": "code",
   "execution_count": null,
   "id": "5ef1d83a-b2b5-4648-bacd-3ac056de503a",
   "metadata": {},
   "outputs": [],
   "source": [
    "# 创建空字典\n",
    "\n",
    "a_dict = {}\n",
    "type(a_dict)"
   ]
  },
  {
   "cell_type": "code",
   "execution_count": null,
   "id": "e7fda13e-3a5d-44df-b275-fc56f07c9997",
   "metadata": {},
   "outputs": [],
   "source": [
    "a_dict = dict()"
   ]
  },
  {
   "cell_type": "markdown",
   "id": "44032700-8455-4b47-981c-a270a69266f3",
   "metadata": {},
   "source": [
    "字典可以从字面量创建"
   ]
  },
  {
   "cell_type": "code",
   "execution_count": null,
   "id": "1ed73806-7d20-4505-a40e-9fbe313862b2",
   "metadata": {},
   "outputs": [],
   "source": [
    "# 这里的键是字符串，字符串是可散列值\n",
    "a_dict = {'a': 'apple', 'o': 'orange', 'g': 'grape'}"
   ]
  },
  {
   "cell_type": "code",
   "execution_count": null,
   "id": "6ebfe883-8ea0-4780-bf67-151f943aa65d",
   "metadata": {},
   "outputs": [],
   "source": [
    "a_dict['p']"
   ]
  },
  {
   "cell_type": "code",
   "execution_count": null,
   "id": "23367709-221c-42e4-9bbd-d722d244b6c6",
   "metadata": {},
   "outputs": [],
   "source": [
    "another_dict = {1: 'hello', 2: 'world'}"
   ]
  },
  {
   "cell_type": "code",
   "execution_count": null,
   "id": "e5cc05b5-c648-4641-8b3a-fd36c7548aed",
   "metadata": {},
   "outputs": [],
   "source": [
    "another_dict[1]"
   ]
  },
  {
   "cell_type": "code",
   "execution_count": null,
   "id": "9c2b5916-a954-4074-a400-bed298b6af06",
   "metadata": {},
   "outputs": [],
   "source": [
    "hash('a')"
   ]
  },
  {
   "cell_type": "code",
   "execution_count": null,
   "id": "687d68aa-d706-4cac-b0d0-4b9660a8d18d",
   "metadata": {},
   "outputs": [],
   "source": [
    "# 用键索引值\n",
    "print(a_dict['a'])\n",
    "\n",
    "# 支持转换到序列类型\n",
    "print(list(a_dict))\n",
    "print(list(a_dict.values()))"
   ]
  },
  {
   "cell_type": "markdown",
   "id": "bc677c0a-a84e-412b-b231-51337e646518",
   "metadata": {},
   "source": [
    "删除字典的项，可以用 `del` 关键字"
   ]
  },
  {
   "cell_type": "code",
   "execution_count": null,
   "id": "194dcd51-ee2e-43d9-94aa-1822d2cc269d",
   "metadata": {},
   "outputs": [],
   "source": [
    "del a_dict['o']"
   ]
  },
  {
   "cell_type": "code",
   "execution_count": null,
   "id": "fe8756e8-5cff-437c-999c-5c62f8809bdd",
   "metadata": {},
   "outputs": [],
   "source": [
    "a_dict"
   ]
  },
  {
   "cell_type": "code",
   "execution_count": null,
   "id": "900267a9-00aa-4673-90f4-0f4ee6f560ef",
   "metadata": {},
   "outputs": [],
   "source": [
    "a_dict['g'] = 'hello'"
   ]
  },
  {
   "cell_type": "markdown",
   "id": "c27a06cc-f993-4d94-a1a9-0c682a5ca7c3",
   "metadata": {},
   "source": [
    "#### 字典内置方法\n",
    "\n",
    "- `dict.get(k)`返回键`k`对应的值\n",
    "- `dict.pop(k)`弹出键`k`对应的值\n",
    "- `dict.items()`返回由**键值对**元组组成的列表\n",
    "- `dict.keys()`返回由**键**组成的列表\n",
    "- `dict.values()`返回由**值**组成的列表\n",
    "\n",
    "#### 新增字典运算符\n",
    "\n",
    "- 归并 `|`\n",
    "- 更新 `|=`"
   ]
  },
  {
   "cell_type": "code",
   "execution_count": null,
   "id": "f13d555e-4453-42e6-900d-763ae350e8b0",
   "metadata": {},
   "outputs": [],
   "source": [
    "dict_old = {'name': 'John', 'lastUpdate': '2021-08-23'}\n",
    "dict_new = {'lastUpdate': '2021-08-26', 'location': 'Shanghai'}\n",
    "dict_old |= dict_new\n",
    "print(dict_old)\n",
    "{'name': 'John', 'lastUpdate': '2021-08-26', 'location': 'Shanghai'}"
   ]
  },
  {
   "cell_type": "markdown",
   "id": "e21396f4-a761-47f9-955a-b99407866ca0",
   "metadata": {},
   "source": [
    "## 无索引类型\n",
    "\n",
    "### 集合\n",
    "\n",
    "集合 (set) 是一个有区别的可散列 (hashable) 对象的**无序**集\n",
    "\n",
    "- “有区别”意味着集合中的不存在相同的成员\n",
    "- 集合不记录元素的位置或插入的顺序\n",
    "- 集合不支持索引、切片或其他类似序列的行为"
   ]
  },
  {
   "cell_type": "code",
   "execution_count": null,
   "id": "629cf359-2ed5-4fde-bbd5-67684b1b01dd",
   "metadata": {},
   "outputs": [],
   "source": [
    "# 集合字面量\n",
    "primes = {2, 3, 5, 7, 11, 13}\n",
    "type(primes)\n",
    "\n",
    "# 集合常见操作\n",
    "print(2 in primes)\n",
    "print(len(primes))"
   ]
  },
  {
   "cell_type": "code",
   "execution_count": null,
   "id": "7bbcf82e-06c0-42a8-a4ed-b6a4fa9bff5c",
   "metadata": {},
   "outputs": [],
   "source": [
    "primes"
   ]
  },
  {
   "cell_type": "markdown",
   "id": "275c1167-3bac-4649-9859-3527718d4aee",
   "metadata": {},
   "source": [
    "#### 集合内置方法\n",
    "\n",
    "- `set.add(e)`添加元素，若已有该元素则不添加\n",
    "- `set.pop()`弹出一个随机元素\n",
    "- `set.remove(e)`移除一个指定元素，若不存在则抛出异常\n",
    "- `set.union(a_set)`求并集，参数`a_set`可以是任意可迭代对象，可以多个集合求并集\n",
    "- `set.intersection(a_set)`求交集，可以多个集合求交集\n",
    "- `set.difference(a_set)`求差集，前者(`set`)差后者(`a_set`)"
   ]
  },
  {
   "cell_type": "code",
   "execution_count": null,
   "id": "ab8cb39d-018e-4bc9-8319-152e4becccf4",
   "metadata": {},
   "outputs": [],
   "source": [
    "a = [1, 1, 2]\n",
    "list(set(a))"
   ]
  },
  {
   "cell_type": "code",
   "execution_count": null,
   "id": "95761c77-0213-448f-91d1-100c8a0863fc",
   "metadata": {},
   "outputs": [],
   "source": [
    "# 添加元素到集合\n",
    "primes = {2, 3, 5, 7, 11, 13}\n",
    "primes.add(17)\n",
    "print(primes)"
   ]
  },
  {
   "cell_type": "code",
   "execution_count": null,
   "id": "8cde74a0-6557-4ff2-a58b-432c7025c183",
   "metadata": {},
   "outputs": [],
   "source": [
    "# 弹出随机元素\n",
    "popped = primes.pop()\n",
    "print(popped)\n",
    "print(primes)"
   ]
  },
  {
   "cell_type": "code",
   "execution_count": null,
   "id": "06ac8fbf-9d51-4017-b2e6-c32b7457bfc7",
   "metadata": {},
   "outputs": [],
   "source": [
    "# 求并集(错误示范)\n",
    "primes.union(popped)\n",
    "print(primes)"
   ]
  },
  {
   "cell_type": "code",
   "execution_count": null,
   "id": "001e1a15-d0ff-43df-9b4b-5007f5188495",
   "metadata": {},
   "outputs": [],
   "source": [
    "# 求并集\n",
    "whole = primes.union((popped,))\n",
    "print(whole)"
   ]
  },
  {
   "cell_type": "markdown",
   "id": "f8721d50-b32f-435b-a252-5743aae3d9c4",
   "metadata": {},
   "source": [
    "## 解包和打包\n",
    "\n",
    "解包 (unpacking) 是指把一个容器拆成成员，打包 (packing) 是指把一组成员收集成容器\n",
    "\n",
    "解包运算符 `*` 最初只能用在元组，后来扩展到其他可迭代对象，例如列表\n",
    "\n",
    "**没有打包运算符**\n",
    "\n",
    "使用解包/打包操作，可以让代码更易读、更优雅"
   ]
  },
  {
   "cell_type": "markdown",
   "id": "790ddc2f-9783-45d4-9d53-5e37495f6e58",
   "metadata": {},
   "source": [
    "### 解包原理\n",
    "\n",
    "基本工作原理是多重赋值，将元组放在赋值号 (`=`) 右侧，而将需要接受成员值的一组标识符放在赋值号左侧"
   ]
  },
  {
   "cell_type": "code",
   "execution_count": null,
   "id": "27019521-1a28-428f-a9cb-43364c71f203",
   "metadata": {},
   "outputs": [],
   "source": [
    "# 元组的圆括号其实并非必须\n",
    "# 我们已经知道Python可以多重赋值\n",
    "x, y = 3, 4\n",
    "# 但其实赋值号右侧的是元组，等价于\n",
    "x, y, *_ = (3, 4, 5, 6)\n",
    "# 此时x被赋值为3，y被赋值为4"
   ]
  },
  {
   "cell_type": "code",
   "execution_count": null,
   "id": "9ea2b878-dbfc-4c94-bc9a-f765a97d402b",
   "metadata": {},
   "outputs": [],
   "source": [
    "_"
   ]
  },
  {
   "cell_type": "markdown",
   "id": "c6ecd412-4c03-480f-92d8-109dfacab66f",
   "metadata": {},
   "source": [
    "现在推广到其他可迭代对象"
   ]
  },
  {
   "cell_type": "code",
   "execution_count": null,
   "id": "84ae2210-7d73-4b04-a62d-20e8a02d83cc",
   "metadata": {},
   "outputs": [],
   "source": [
    "# 字符串\n",
    "a, b, c = '天地人'\n",
    "# 列表\n",
    "a, b, c = [1, 2, 3]\n",
    "# 字典\n",
    "a, b, c = {'like': '👍', 'fav': '❤️', 'share': '🔗'}\n",
    "# 生成器表达式\n",
    "a, b, c = (x ** 2 for x in range(3))\n",
    "# 集合也可以用，但是因为集合的无序性，并不实用"
   ]
  },
  {
   "cell_type": "markdown",
   "id": "f37e6220-12c5-4cad-a9b8-5e04e4b73959",
   "metadata": {},
   "source": [
    "解包运算符 `*` 可以用来在单个变量中打包多个值，打包后的变量类型是列表，例如"
   ]
  },
  {
   "cell_type": "code",
   "execution_count": null,
   "id": "4e71123a-7ebf-41db-8c2f-9a14960201db",
   "metadata": {},
   "outputs": [],
   "source": [
    "# 元组\n",
    "*a, = 1, 2, 3\n",
    "# 字符串\n",
    "*a, = '天地人'\n",
    "# 还可以混用其他标识符\n",
    "*a, b = '天地人'"
   ]
  },
  {
   "cell_type": "code",
   "execution_count": null,
   "id": "ffe5c174-d8c4-4d62-a667-621ad38c5f97",
   "metadata": {},
   "outputs": [],
   "source": [
    "a, *b = '天地人'"
   ]
  },
  {
   "cell_type": "code",
   "execution_count": null,
   "id": "5769824a-e90f-4aed-b981-c94112594ded",
   "metadata": {},
   "outputs": [],
   "source": [
    "# 如果不带解包运算符的标识符用尽了右侧成员，则被打包的标识符为空\n",
    "*a, b, c, d = '天地人'"
   ]
  },
  {
   "cell_type": "code",
   "execution_count": null,
   "id": "b1a3a284-06bc-43ce-978b-fe737b00a651",
   "metadata": {},
   "outputs": [],
   "source": [
    "a"
   ]
  },
  {
   "cell_type": "code",
   "execution_count": null,
   "id": "aeac2c71-b256-46f1-9c48-08397f013c4a",
   "metadata": {},
   "outputs": [],
   "source": [
    "# 因此用生成器表达式很容易产生一个序列\n",
    "*squared, = (x ** 2 for x in range(10))"
   ]
  },
  {
   "cell_type": "markdown",
   "id": "ee9df1bf-edbe-435a-b4c4-2828358e5960",
   "metadata": {},
   "source": [
    "结合`zip()`函数，可以拆分已组合成元组的多个列表"
   ]
  },
  {
   "cell_type": "code",
   "execution_count": null,
   "id": "8d1ffe29-8712-443c-baac-16d60b835825",
   "metadata": {},
   "outputs": [],
   "source": [
    "list_a, list_b = zip(*comb)"
   ]
  },
  {
   "cell_type": "code",
   "execution_count": null,
   "id": "1a560db5-554e-4b58-abea-aaee13bfd380",
   "metadata": {},
   "outputs": [],
   "source": [
    "list(list_a)"
   ]
  },
  {
   "cell_type": "code",
   "execution_count": null,
   "id": "5873aeba-302a-4537-9a5b-cf9a2de91ece",
   "metadata": {},
   "outputs": [],
   "source": [
    "list_b"
   ]
  },
  {
   "cell_type": "markdown",
   "id": "f522a19e-b4cd-4043-9550-6344f0f3deb0",
   "metadata": {},
   "source": [
    "### `*` 运算实践\n",
    "\n",
    "#### 常见用法1\n",
    "\n",
    "获取一个可迭代对象中，除部分明确赋值以外的其余值，例如"
   ]
  },
  {
   "cell_type": "code",
   "execution_count": null,
   "id": "cc69adfb-f9ab-4d03-93f6-71d6b0cf2d37",
   "metadata": {},
   "outputs": [],
   "source": [
    "# 假设有一组成绩排名\n",
    "ranks = {'1': 100, '2': 78, '3': 64, '4': 62, '5': 43}\n",
    "# 用字典的方法获取成绩\n",
    "first, *_, last = ranks.values()\n",
    "# 轻松得到第一名和最后一名的成绩，其余值用解包运算符收集，以供后用"
   ]
  },
  {
   "cell_type": "code",
   "execution_count": null,
   "id": "a6520d41-6ec7-4ee8-a9e7-30adf93477d1",
   "metadata": {},
   "outputs": [],
   "source": [
    "first"
   ]
  },
  {
   "cell_type": "markdown",
   "id": "87877a5f-3af0-446c-8d42-23e3c562946f",
   "metadata": {},
   "source": [
    "这种用法可以按需求选择是保留还是弃置用解包运算符收集的值\n",
    "\n",
    "#### 常见用法2\n",
    "\n",
    "解包运算的标识符可以代入可迭代对象，起到合并作用"
   ]
  },
  {
   "cell_type": "code",
   "execution_count": null,
   "id": "8efa2447-a3a5-402a-9049-df13e154d7cd",
   "metadata": {},
   "outputs": [],
   "source": [
    "a_list = [1, 2, 3]\n",
    "a_tuple = (4, 5, 6)\n",
    "merged_list = [*a_list, *a_tuple, *range(7, 10)]\n",
    "merged_list"
   ]
  },
  {
   "cell_type": "code",
   "execution_count": null,
   "id": "531911c0-8a80-46ce-a4af-10d0fc8a8463",
   "metadata": {},
   "outputs": [],
   "source": [
    "# 比较下面的写法\n",
    "merged_list = a_list + list(a_tuple) + list(range(7, 10))\n",
    "merged_list"
   ]
  },
  {
   "cell_type": "markdown",
   "id": "aff3df46-9938-4235-84e9-678f355781c4",
   "metadata": {},
   "source": [
    "#### 常见用法3\n",
    "\n",
    "用于函数签名中的不定长度的位置参数"
   ]
  },
  {
   "cell_type": "code",
   "execution_count": null,
   "id": "5727704a-dcfc-45fb-909b-7429e052033d",
   "metadata": {},
   "outputs": [],
   "source": [
    "def func(*params):\n",
    "    for param in params:\n",
    "        print(param)\n",
    "\n",
    "func('你好')\n",
    "func('你好', '但我不太好')"
   ]
  },
  {
   "cell_type": "markdown",
   "id": "63677734-81f6-4c05-858f-9c9671a90425",
   "metadata": {},
   "source": [
    "### `**` 运算实践\n",
    "\n",
    "`**` 运算符称为**字典解包运算符** (dictionary unpacking operator)，自从 PEP448 引进以来，可以用在函数调用、推导式和生成器表达式等场合"
   ]
  },
  {
   "cell_type": "code",
   "execution_count": null,
   "id": "96dc43d0-bb7f-42af-a378-153ce1caaaff",
   "metadata": {},
   "outputs": [],
   "source": [
    "top_five = {'1': 100, '2': 78, '3': 64, '4': 62, '5': 43}\n",
    "# 合并到新的字典\n",
    "my_all = {**top_five, '6': 40, '7': 38, '8': 24}\n",
    "my_all"
   ]
  },
  {
   "cell_type": "markdown",
   "id": "7be143fe-53a9-4c61-a9aa-4be0d1b15775",
   "metadata": {},
   "source": [
    "`**` 运算符用在函数签名时表示不定长度的键值对参数"
   ]
  },
  {
   "cell_type": "code",
   "execution_count": null,
   "id": "f4a064e0-2d57-47e2-86da-d78e1ad20ec0",
   "metadata": {},
   "outputs": [],
   "source": [
    "def func(**params):\n",
    "    for param, value in params.items():\n",
    "        print(param, value)\n",
    "\n",
    "func(first_name='王')\n",
    "func(first_name='王', last_name='中王')"
   ]
  },
  {
   "cell_type": "markdown",
   "id": "ccb7e1f7-e63d-48c8-82cf-f33438bb4bca",
   "metadata": {},
   "source": [
    "## 数据结构小结\n",
    "\n",
    "| 数据结构       | 有序性     | 可变性 | 构造器            | 示例                                   |\n",
    "| -------------- | ---------- | ------ | ----------------- | -------------------------------------- |\n",
    "| 列表 (`list`)  | 有序       | 可变   | `[]` 或 `list()`  | `['d', 'o', 'g', 'e']`                 |\n",
    "| 元组 (`tuple`) | 有序       | 不可变 | `()` 或 `tuple()` | `('d', 'o', 'g', 'e')`                 |\n",
    "| 字典 (`dict`)  | 按插入顺序 | 可变   | `{}` 或 `dict()`  | `{'d':100, 'o':111, 'g':103, 'e':101}` |\n",
    "| 集合 (`set`)   | 无序       | 可变   | `{}` 或 `set()`   | `{'d', 'o', 'g', 'e'}`                 |\n",
    "| 字符串 (`str`) | 有序       | 不可变 | `\"\"` 或 `''`      | `'doge'`                               |"
   ]
  },
  {
   "cell_type": "markdown",
   "id": "4c734046-6738-47ca-89ca-ebfc005adfa4",
   "metadata": {},
   "source": [
    "## 课后作业\n",
    "\n",
    "**截止日期：2023-03-31 00:00**\n",
    "\n",
    "### 1. 简答\n",
    "\n",
    "简述经过下面的一系列操作之后，为何 `a` 的值变成了 `[2, 2, 3]`\n",
    "\n",
    "```python\n",
    ">>> a = [1, 2, 3]\n",
    ">>> b = a\n",
    ">>> b[0] = 2\n",
    ">>> a\n",
    "[2, 2, 3]\n",
    "```"
   ]
  },
  {
   "cell_type": "markdown",
   "id": "62b91087-51c9-401b-8906-8dd14d3bcf1b",
   "metadata": {
    "tags": []
   },
   "source": [
    "[comment]: 答案写在这里\n",
    "\n"
   ]
  },
  {
   "cell_type": "markdown",
   "id": "a349cc29-07e3-42d2-b5a8-eb059cd1f7e6",
   "metadata": {},
   "source": [
    "### 2. Python 禅文本分析\n",
    "\n",
    "读取 *Python禅* 的文本文件。利用所学到的 Python 数据结构及其内置方法，统计其中出现的不同单词的总数。注意\n",
    "\n",
    "- **不用处理**文本中的标点、空格\n",
    "- 相同的单词重复出现**只算一个词**\n",
    "- 小心处理空格等无益于统计的字符\n",
    "\n",
    "> 用 `import this` 可以打印 *Python禅*\n",
    "\n",
    "**思路提示**\n",
    "\n",
    "使用各种序列数据的常用方法，例如：\n",
    "- `str.replace`可以替换字符\n",
    "- `str.split`把字符串按分隔符拆分成列表\n",
    "- `set.difference`求集合的差集"
   ]
  },
  {
   "cell_type": "code",
   "execution_count": null,
   "id": "baff86d1-ac56-4065-805f-f963677b341b",
   "metadata": {},
   "outputs": [],
   "source": [
    "import this\n",
    "import codecs\n",
    "\n",
    "# “禅”的文本已经为你准备好了🤔\n",
    "zen = codecs.encode(this.s, 'rot13')\n",
    "# 请继续"
   ]
  },
  {
   "cell_type": "markdown",
   "id": "20bf089d-75d8-425c-8e4a-fc224be0f14a",
   "metadata": {},
   "source": [
    "### 3. 淘宝搜索建议\n",
    "\n",
    "在淘宝商城的搜索框，输入字符串之后，它会贴心地给出商品建议。例如当我输入“Python”：\n",
    "\n",
    "![tb](./image/tb.png)\n",
    "\n",
    "对于我们开发人员来说，更贴心的莫过于淘宝开放了商品建议的数据接口，只要使用以下API即可获取商品建议：\n",
    "\n",
    "`https://suggest.taobao.com/sug?code=utf-8&q={key}`\n",
    "\n",
    "其中`key`是要检索的商品关键字。还是以“Python”为例：\n",
    "\n",
    "https://suggest.taobao.com/sug?code=utf-8&q=Python\n",
    "\n",
    "不妨点击以上链接，网络正常的情况下，应该能顺利获得商品搜索建议\n",
    "\n",
    "返回的格式是 JSON，一种非常流行的数据交换格式\n",
    "\n",
    "浏览器中的 JSON 格式显示很不友好\n",
    "\n",
    "**作业要求**\n",
    "\n",
    "本题要求**打印**淘宝商品建议结果，查询商品**自拟**，**格式**如下：\n",
    "\n",
    "```\n",
    "https://suggest.taobao.com/sug?code=utf-8&q=Python\n",
    "python作业\n",
    "python代编程\n",
    "python教程\n",
    "python编程从入门到实战\n",
    "python接单\n",
    "python爬虫\n",
    "python教程自学全套\n",
    "python数据分析\n",
    "python安装\n",
    "python程序设计\n",
    "```\n",
    "\n",
    "**思路提示**\n",
    "\n",
    "- 使用`requests`库的`get()`方法获取搜索建议\n",
    "- 返回结果可以用`.json()`方法转为字典格式\n",
    "- 使用Python内置函数`print()`打印最终结果\n",
    "- 无需使用循环控制语句，结合本讲课程内容解答此题"
   ]
  },
  {
   "cell_type": "code",
   "execution_count": null,
   "id": "6477c4c4-0bd7-4c8c-9ef6-91aadf573986",
   "metadata": {},
   "outputs": [],
   "source": [
    "# 导入依赖的库\n",
    "import requests\n",
    "\n",
    "# 关键词\n",
    "key = ''\n",
    "# 组合出查询API\n",
    "query_str = f'https://suggest.taobao.com/sug?code=utf-8&q={key}'\n",
    "\n",
    "# 请继续"
   ]
  }
 ],
 "metadata": {
  "kernelspec": {
   "display_name": "Python 3 (ipykernel)",
   "language": "python",
   "name": "python3"
  },
  "language_info": {
   "codemirror_mode": {
    "name": "ipython",
    "version": 3
   },
   "file_extension": ".py",
   "mimetype": "text/x-python",
   "name": "python",
   "nbconvert_exporter": "python",
   "pygments_lexer": "ipython3",
   "version": "3.9.12"
  }
 },
 "nbformat": 4,
 "nbformat_minor": 5
}
