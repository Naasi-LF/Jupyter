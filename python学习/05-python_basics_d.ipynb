{
 "cells": [
  {
   "cell_type": "markdown",
   "id": "fb25af7f-ed97-416c-b3e0-82dcb50378cf",
   "metadata": {},
   "source": [
    "# 第五讲：Python 基础：面向对象编程\n",
    "\n",
    "**2022-10-09 v2.0**\n",
    "\n",
    "**2022-04-16 v1.1**\n",
    "\n",
    "**2022-04-13 v1.0**\n",
    "\n",
    "**yeh@czust.edu.cn**"
   ]
  },
  {
   "cell_type": "code",
   "execution_count": 1,
   "id": "f6e55f25-8da5-4017-82ba-94426dcdebe2",
   "metadata": {
    "jupyter": {
     "source_hidden": true
    },
    "tags": []
   },
   "outputs": [],
   "source": [
    "import io\n",
    "import uuid\n",
    "from pathlib import Path\n",
    "from IPython.display import IFrame\n",
    "\n",
    "TEMPLATE_MERMAIDJS='''<html>\n",
    "    <body>\n",
    "        <script src=\"https://cdn.jsdelivr.net/npm/mermaid/dist/mermaid.min.js\"></script>\n",
    "        <script>\n",
    "            mermaid.initialize({{ startOnLoad: true }});\n",
    "        </script>\n",
    "        <div class=\"mermaid\">\n",
    "            {src}\n",
    "        </div>\n",
    "    </body>\n",
    "</html>\n",
    "'''\n",
    "\n",
    "def js_ui(data, template, out_fn=None, out_path='./graph',\n",
    "          width='100%', height='100%', **kwargs):\n",
    "    '''生成一个包含模板化javascript包的IFrame'''\n",
    "    \n",
    "    if not out_fn:\n",
    "        out_fn = Path(f'{uuid.uuid4()}.html')\n",
    "    \n",
    "    out_path = Path(out_path)\n",
    "    filepath = out_path / out_fn\n",
    "    filepath.parent.mkdir(parents=True, exist_ok=True)\n",
    "    \n",
    "    with io.open(filepath, 'wt', encoding='utf8') as outfile:\n",
    "        outfile.write(template.format(**data))\n",
    "    \n",
    "    return IFrame(src=filepath, width=width, height=height)"
   ]
  },
  {
   "cell_type": "markdown",
   "id": "fd0731b6-8987-40d2-b1af-bd1f59283677",
   "metadata": {},
   "source": [
    "## 从过程到对象\n",
    "\n",
    "在计算机的理论世界里，并不存在“对象”(object)\n",
    "\n",
    "- 命令(command) - 图灵机\n",
    "- 函数(function) - $\\lambda$演算\n",
    "\n",
    "命令和函数组成计算机语言的早期形态：自顶向下**过程**式程序设计\n",
    "\n",
    "> 过程式程序员好比是遵循食谱的西方厨师，按部就班达成预期的结果"
   ]
  },
  {
   "cell_type": "markdown",
   "id": "3d5b4809-8a0b-4b00-adb3-a8d9cb0af6b3",
   "metadata": {},
   "source": [
    "### 对象\n",
    "\n",
    "对象是变量、数据结构、函数(方法)的组合\n",
    "\n",
    "对象可以类比现实世界的各种实体，之间可以存在多种关系"
   ]
  },
  {
   "cell_type": "code",
   "execution_count": 2,
   "id": "4ee8c1b5-66e5-4ea3-a60d-20c27013805c",
   "metadata": {
    "jupyter": {
     "source_hidden": true
    },
    "tags": []
   },
   "outputs": [
    {
     "data": {
      "text/html": [
       "\n",
       "        <iframe\n",
       "            width=\"100%\"\n",
       "            height=\"500\"\n",
       "            src=\"graph/c99a4ddc-c3cb-415b-bcb8-508e2f9b9c22.html\"\n",
       "            frameborder=\"0\"\n",
       "            allowfullscreen\n",
       "            \n",
       "        ></iframe>\n",
       "        "
      ],
      "text/plain": [
       "<IPython.lib.display.IFrame at 0x10a7a7be0>"
      ]
     },
     "execution_count": 2,
     "metadata": {},
     "output_type": "execute_result"
    }
   ],
   "source": [
    "objd = '''\n",
    "classDiagram\n",
    "    class Company\n",
    "    class College\n",
    "    class Department\n",
    "    class Student\n",
    "    class DepartmentArt\n",
    "    Company \"*\" <-- \"1\" College : association\n",
    "    Student \"1..*\" --o \"1\" College : aggregation\n",
    "    Department \"1..*\" --* \"1\" College : composition\n",
    "    DepartmentArt --|> Department : inheritance\n",
    "'''\n",
    "\n",
    "js_ui({'src': objd}, TEMPLATE_MERMAIDJS, height=500)"
   ]
  },
  {
   "cell_type": "markdown",
   "id": "b6fd30e8-fdb3-43b4-9f24-d05401fd918a",
   "metadata": {},
   "source": [
    "面向对象(object-oriented)本来是学术领域的概念，逐渐成为商业化推广\n",
    "\n",
    "主流面向对象编程语言\n",
    "\n",
    "- Java\n",
    "- C++\n",
    "- C#\n",
    "- Python\n",
    "\n",
    "市场选择面向对象设计的原因\n",
    "\n",
    "- 组织模块化\n",
    "- 代码可重用\n",
    "- 接口灵活性"
   ]
  },
  {
   "cell_type": "markdown",
   "id": "03f292bb-b8fe-4659-9501-f5dbfec6c1b7",
   "metadata": {},
   "source": [
    "### 面向对象的特性"
   ]
  },
  {
   "cell_type": "markdown",
   "id": "43ebde50-160d-4e8f-9ba9-dc370ccfef37",
   "metadata": {},
   "source": [
    "#### 封装\n",
    "\n",
    "封装(encapsulation)数据及其操作(方法)，数据不可随意更改\n",
    "\n",
    "开发者需要定义 getter 和 setter 方法才能控制其中的数据，因此数据更安全\n",
    "\n",
    "#### 继承\n",
    "\n",
    "遵循代码复用原则，对象可以派生出子对象\n",
    "\n",
    "子对象继承(inheritance)了父对象的数据及其操作\n",
    "\n",
    "#### 多态\n",
    "\n",
    "多态(polymorphism)允许一个对象作为其他对象的模版\n",
    "\n",
    "对象可以改变“形状”、重载行为，以适应不同的类型或接口"
   ]
  },
  {
   "cell_type": "markdown",
   "id": "c26a5beb-50b9-44c4-89c6-cc3f39f125d7",
   "metadata": {},
   "source": [
    "### 面向对象的实现"
   ]
  },
  {
   "cell_type": "markdown",
   "id": "4e0e3cc8-19f7-4a3d-acbd-aa73693bef4b",
   "metadata": {},
   "source": [
    "#### 基于类\n",
    "\n",
    "- 类(class)是一种定义，其中包含数据和函数成员的定义\n",
    "\n",
    "- 对象是类的**实例**(instance)\n",
    "\n",
    "> **一个类比**\n",
    ">\n",
    "> 类是*类型*，对象是*变量*。*类型*也只是*变量*规格的定义\n",
    ">\n",
    "> 用*类型*可以实例化*变量*，用类可以实例化对象"
   ]
  },
  {
   "cell_type": "code",
   "execution_count": 3,
   "id": "c25c02c6-56bc-43b0-bb7b-0df2c1faae4d",
   "metadata": {
    "jupyter": {
     "source_hidden": true
    },
    "tags": []
   },
   "outputs": [
    {
     "data": {
      "text/html": [
       "\n",
       "        <iframe\n",
       "            width=\"100%\"\n",
       "            height=\"500\"\n",
       "            src=\"graph/47072816-75f6-4c25-bd05-052eaad905fa.html\"\n",
       "            frameborder=\"0\"\n",
       "            allowfullscreen\n",
       "            \n",
       "        ></iframe>\n",
       "        "
      ],
      "text/plain": [
       "<IPython.lib.display.IFrame at 0x10a7b31f0>"
      ]
     },
     "execution_count": 3,
     "metadata": {},
     "output_type": "execute_result"
    }
   ],
   "source": [
    "clsd = '''\n",
    "classDiagram\n",
    "    Animal <|-- Duck\n",
    "    Animal <|-- Fish\n",
    "    Animal <|-- Zebra\n",
    "    Animal : +int age\n",
    "    Animal : +String gender\n",
    "    Animal: +isMammal()\n",
    "    Animal: +mate()\n",
    "    class Duck{\n",
    "      +String beakColor\n",
    "      +swim()\n",
    "      +quack()\n",
    "    }\n",
    "    class Fish{\n",
    "      -int sizeInFeet\n",
    "      -canEat()\n",
    "    }\n",
    "    class Zebra{\n",
    "      +bool is_wild\n",
    "      +run()\n",
    "    }\n",
    "'''\n",
    "\n",
    "js_ui({'src': clsd}, TEMPLATE_MERMAIDJS, height=500)"
   ]
  },
  {
   "cell_type": "markdown",
   "id": "096796fa-7575-4e37-b40d-db70a5b0ea76",
   "metadata": {},
   "source": [
    "一旦类有了定义，随后可以用**类**来实例化**对象**"
   ]
  },
  {
   "cell_type": "code",
   "execution_count": 4,
   "id": "f2f34760-46d3-42bf-b92d-1d96a19810d8",
   "metadata": {
    "jupyter": {
     "source_hidden": true
    },
    "tags": []
   },
   "outputs": [
    {
     "data": {
      "text/html": [
       "\n",
       "        <iframe\n",
       "            width=\"100%\"\n",
       "            height=\"300\"\n",
       "            src=\"graph/96e4b759-9de2-4335-b80e-547b43a920db.html\"\n",
       "            frameborder=\"0\"\n",
       "            allowfullscreen\n",
       "            \n",
       "        ></iframe>\n",
       "        "
      ],
      "text/plain": [
       "<IPython.lib.display.IFrame at 0x10a7fc9d0>"
      ]
     },
     "execution_count": 4,
     "metadata": {},
     "output_type": "execute_result"
    }
   ],
   "source": [
    "subd = '''\n",
    "graph BT\n",
    "a[北京烤鸭]\n",
    "b[南京盐水鸭]\n",
    "c[四川樟茶鸭]\n",
    "d[广东烧鸭]\n",
    "e[福建姜母鸭]\n",
    "k[...]\n",
    "f[唐老鸭]\n",
    "a & b & c & d & e & f --> |属于|Duck\n",
    "'''\n",
    "\n",
    "js_ui({'src': subd}, TEMPLATE_MERMAIDJS, height=300)"
   ]
  },
  {
   "cell_type": "markdown",
   "id": "a473413e-19c2-494f-9e6d-a3056a42547e",
   "metadata": {},
   "source": [
    "#### 基于原型\n",
    "\n",
    "可以不存在类，从对象创建对象，是从**原型**(prototype)一路链接过来的实体\n",
    "\n",
    "从对象可以回溯原型，也可以指定原型"
   ]
  },
  {
   "cell_type": "markdown",
   "id": "19a535ec-e0a6-413e-8f81-64fb2625ccd9",
   "metadata": {},
   "source": [
    "## Python 的类\n",
    "\n",
    "类(class)是数据以及对数据的操作的一种捆绑\n",
    "\n",
    "从类实例化的对象(object)代表了类的类型(type)\n",
    "\n",
    "类包含**属性**(attribute)和**方法**(method)\n",
    "\n",
    "- **属性**表示实例对象的*状态*\n",
    "- **方法**表示修改状态的*操作*"
   ]
  },
  {
   "cell_type": "markdown",
   "id": "f5240953-c272-4010-a7a1-c9606a1d5e3e",
   "metadata": {},
   "source": [
    "### 类的定义"
   ]
  },
  {
   "cell_type": "code",
   "execution_count": 5,
   "id": "f49613fa-2909-4dbe-a99c-a62be1566e09",
   "metadata": {},
   "outputs": [],
   "source": [
    "# 只要在语句外围再套一层即可\n",
    "\n",
    "class EmptyDuck:\n",
    "    pass"
   ]
  },
  {
   "cell_type": "code",
   "execution_count": 6,
   "id": "d52a6485-4efc-4603-ac21-23592e0943e4",
   "metadata": {},
   "outputs": [
    {
     "data": {
      "text/plain": [
       "__main__.EmptyDuck"
      ]
     },
     "execution_count": 6,
     "metadata": {},
     "output_type": "execute_result"
    }
   ],
   "source": [
    "EmptyDuck"
   ]
  },
  {
   "cell_type": "markdown",
   "id": "cb34234d-a838-4f1d-9a4c-ba8657908d7a",
   "metadata": {},
   "source": [
    "别忘了放置属性和方法"
   ]
  },
  {
   "cell_type": "code",
   "execution_count": 7,
   "id": "e393d026-8dc5-420f-9529-49b63206547c",
   "metadata": {},
   "outputs": [],
   "source": [
    "class SimpleDuck:\n",
    "    # 属性\n",
    "    species = 'bird'\n",
    "    \n",
    "    # 方法\n",
    "    # self指向实例\n",
    "    def quack(self):\n",
    "        pass"
   ]
  },
  {
   "cell_type": "markdown",
   "id": "7251a286-875b-43a7-969a-7f43ede61474",
   "metadata": {},
   "source": [
    "实例化一个类，可以看成是从一般到具体的关系\n",
    "\n",
    "实例化的语法类似函数调用"
   ]
  },
  {
   "cell_type": "code",
   "execution_count": 8,
   "id": "3c0c3c05-8f6f-4558-8d57-93bb5070cd8c",
   "metadata": {},
   "outputs": [
    {
     "data": {
      "text/plain": [
       "<__main__.SimpleDuck at 0x10a7f5f10>"
      ]
     },
     "execution_count": 8,
     "metadata": {},
     "output_type": "execute_result"
    }
   ],
   "source": [
    "my_duck = SimpleDuck()\n",
    "my_duck"
   ]
  },
  {
   "cell_type": "code",
   "execution_count": 9,
   "id": "f90fdf43-d2f5-4a47-839f-03bd4bb54029",
   "metadata": {},
   "outputs": [
    {
     "data": {
      "text/plain": [
       "__main__.SimpleDuck"
      ]
     },
     "execution_count": 9,
     "metadata": {},
     "output_type": "execute_result"
    }
   ],
   "source": [
    "# 打印实例 my_duck 的类型\n",
    "type(my_duck)"
   ]
  },
  {
   "cell_type": "markdown",
   "id": "684f1809-9840-448e-b0ec-0a27f66c86a6",
   "metadata": {},
   "source": [
    "完善我们的例子"
   ]
  },
  {
   "cell_type": "code",
   "execution_count": 10,
   "id": "98959928-4b2f-43dc-81f3-701a2a658300",
   "metadata": {},
   "outputs": [],
   "source": [
    "# 新来一类🦆\n",
    "\n",
    "class Duck:\n",
    "    species = 'bird'\n",
    "    \n",
    "    def __init__(self, name):\n",
    "        self.name = name\n",
    "        \n",
    "    def quack(self):\n",
    "        print('Quaaaaack!')\n",
    "    \n",
    "    def swim(self):\n",
    "        print('I\\'m swiming')\n",
    "    \n",
    "    def fly(self, distance):\n",
    "        print(f'I can fly {distance}')"
   ]
  },
  {
   "cell_type": "markdown",
   "id": "7188216b-e16b-4e35-8ecc-f2c037b42960",
   "metadata": {},
   "source": [
    "### 类属性和类方法\n",
    "\n",
    "方法无外乎是绑定到函数的类属性"
   ]
  },
  {
   "cell_type": "code",
   "execution_count": 11,
   "id": "da3de66d-7c28-4b52-ada9-711bd719807f",
   "metadata": {},
   "outputs": [
    {
     "name": "stdout",
     "output_type": "stream",
     "text": [
      "bird\n",
      "<function Duck.quack at 0x10ba24ca0>\n"
     ]
    }
   ],
   "source": [
    "print(Duck.species)\n",
    "print(Duck.quack)"
   ]
  },
  {
   "cell_type": "code",
   "execution_count": 12,
   "id": "21c6995f-fac9-4187-a69f-5a6260b2d562",
   "metadata": {},
   "outputs": [
    {
     "data": {
      "text/plain": [
       "__main__.Duck"
      ]
     },
     "execution_count": 12,
     "metadata": {},
     "output_type": "execute_result"
    }
   ],
   "source": [
    "# 实例化一个唐老鸭\n",
    "donald_duck = Duck('Donald')\n",
    "\n",
    "# 打印输出是什么类型\n",
    "type(donald_duck)"
   ]
  },
  {
   "cell_type": "code",
   "execution_count": 13,
   "id": "f950d228-2938-4a6c-909c-c7b43afe1030",
   "metadata": {},
   "outputs": [
    {
     "name": "stdout",
     "output_type": "stream",
     "text": [
      "bird\n"
     ]
    }
   ],
   "source": [
    "# 打印唐老鸭的类属性\n",
    "print(donald_duck.__class__.species)"
   ]
  },
  {
   "cell_type": "code",
   "execution_count": 14,
   "id": "59fd87de-7fc6-4b49-992d-1b9c1e2c8242",
   "metadata": {},
   "outputs": [
    {
     "name": "stdout",
     "output_type": "stream",
     "text": [
      "bird\n"
     ]
    }
   ],
   "source": [
    "print(donald_duck.species)"
   ]
  },
  {
   "cell_type": "code",
   "execution_count": 15,
   "id": "5888e2f8-968d-4151-8104-b4e78b899f45",
   "metadata": {},
   "outputs": [
    {
     "name": "stdout",
     "output_type": "stream",
     "text": [
      "Donald\n",
      "Quaaaaack!\n",
      "I'm swiming\n",
      "I can fly to the moon\n"
     ]
    }
   ],
   "source": [
    "# 打印唐老鸭的实例属性\n",
    "print(donald_duck.name)\n",
    "\n",
    "# 唐老鸭会叫、会游、会飞\n",
    "donald_duck.quack()\n",
    "donald_duck.swim()\n",
    "donald_duck.fly('to the moon')"
   ]
  },
  {
   "cell_type": "code",
   "execution_count": 16,
   "id": "39902fd5-b70d-4831-ad9a-8d77d89e6e2a",
   "metadata": {},
   "outputs": [
    {
     "name": "stdout",
     "output_type": "stream",
     "text": [
      "Quaaaaack!\n"
     ]
    }
   ],
   "source": [
    "# 其实 donald_duck.quack() 是下面语句的语法糖\n",
    "\n",
    "Duck.quack(donald_duck) # 这不就是传进去了self这个实例参数吗？"
   ]
  },
  {
   "cell_type": "markdown",
   "id": "3774a992-11ef-41e8-b876-9f30b6be4085",
   "metadata": {},
   "source": [
    "`Duck` 类中目前定义的方法都是**实例方法**(instance method)，也是最常用的方法，接受`self`参数 (指向调用该方法的实例)\n",
    "\n",
    "用装饰器语法`@classmethod`声明**类方法**(class method)，接受`cls`作为参数 (指向类本身而不是类的实例)，类方法无法修改实例的状态，只能修改类的状态\n",
    "\n",
    "用装饰器语法`@staticmethod`声明**静态方法**(static method)，不接受`self`、`cls`参数，通常起到命名空间(namespace)的用途，既无法修改实例的状态，也无法修改类的状态"
   ]
  },
  {
   "cell_type": "code",
   "execution_count": 17,
   "id": "51b04eaa-80c7-42d6-a9b1-c6c586e050ea",
   "metadata": {},
   "outputs": [],
   "source": [
    "# 演示各种方法的鸭子\n",
    "\n",
    "class Duck:\n",
    "    \n",
    "    # 类属性\n",
    "    species = 'bird'\n",
    "    _counter = 0\n",
    "    \n",
    "    # 构造器\n",
    "    def __init__(self, name):\n",
    "        # name是实例属性\n",
    "        self.name = name\n",
    "        # _counter是类属性，且是私有的\n",
    "        # 这里用作实例创建的计数器\n",
    "        Duck._counter += 1\n",
    "    \n",
    "    # 实例方法\n",
    "    def quack(self):\n",
    "        print('Quaaaaack!')\n",
    "    \n",
    "    @classmethod\n",
    "    def peking_duck(cls):\n",
    "        return cls('北京烤鸭')\n",
    "    \n",
    "    @classmethod\n",
    "    def namking_duck(cls):\n",
    "        return cls('南京盐水鸭')\n",
    "    \n",
    "    @staticmethod\n",
    "    def count():\n",
    "        print(f'当前鸭子数: {Duck._counter}')"
   ]
  },
  {
   "cell_type": "code",
   "execution_count": 18,
   "id": "16702c5e-d9a8-43e5-9759-ae4ba407d19c",
   "metadata": {},
   "outputs": [
    {
     "name": "stdout",
     "output_type": "stream",
     "text": [
      "鸭鸭\n"
     ]
    }
   ],
   "source": [
    "# 实例化一个鸭子，名叫“鸭鸭”\n",
    "oduck = Duck('鸭鸭')\n",
    "\n",
    "# 实例属性可以访问\n",
    "print(oduck.name)"
   ]
  },
  {
   "cell_type": "code",
   "execution_count": 19,
   "id": "580eede0-0a5c-4294-813f-5b8ef97a77a7",
   "metadata": {},
   "outputs": [
    {
     "name": "stdout",
     "output_type": "stream",
     "text": [
      "bird\n"
     ]
    }
   ],
   "source": [
    "# 实例能访问类属性\n",
    "print(oduck.species)"
   ]
  },
  {
   "cell_type": "code",
   "execution_count": 20,
   "id": "10d7293c-63c7-4d4c-9bfd-30b1cfbef6d0",
   "metadata": {},
   "outputs": [
    {
     "name": "stdout",
     "output_type": "stream",
     "text": [
      "Quaaaaack!\n",
      "当前鸭子数: 1\n"
     ]
    }
   ],
   "source": [
    "# 实例能访问实例方法\n",
    "oduck.quack()\n",
    "\n",
    "# 实例能访问静态方法\n",
    "oduck.count()"
   ]
  },
  {
   "cell_type": "code",
   "execution_count": 21,
   "id": "bf90ba26-9380-4720-ba75-8d16e603944d",
   "metadata": {},
   "outputs": [
    {
     "name": "stdout",
     "output_type": "stream",
     "text": [
      "当前鸭子数: 2\n",
      "当前鸭子数: 3\n"
     ]
    }
   ],
   "source": [
    "# 类方法可以从类名调用\n",
    "pduck = Duck.peking_duck()\n",
    "Duck.count()\n",
    "\n",
    "nduck = Duck.namking_duck()\n",
    "Duck.count()\n",
    "\n",
    "# 我们又多创建了两只鸭子"
   ]
  },
  {
   "cell_type": "code",
   "execution_count": 22,
   "id": "6a9391ec-0399-4afc-87f8-593c02e757c0",
   "metadata": {},
   "outputs": [
    {
     "name": "stdout",
     "output_type": "stream",
     "text": [
      "当前鸭子数: 4\n"
     ]
    }
   ],
   "source": [
    "# 类方法可以从实例调用\n",
    "oduck.peking_duck()\n",
    "oduck.count()"
   ]
  },
  {
   "cell_type": "code",
   "execution_count": 23,
   "id": "90909581-e5de-4536-b365-1bcafbc7109b",
   "metadata": {},
   "outputs": [
    {
     "ename": "TypeError",
     "evalue": "quack() missing 1 required positional argument: 'self'",
     "output_type": "error",
     "traceback": [
      "\u001b[0;31m---------------------------------------------------------------------------\u001b[0m",
      "\u001b[0;31mTypeError\u001b[0m                                 Traceback (most recent call last)",
      "Cell \u001b[0;32mIn [23], line 3\u001b[0m\n\u001b[1;32m      1\u001b[0m \u001b[38;5;66;03m# 出错预警\u001b[39;00m\n\u001b[1;32m      2\u001b[0m \u001b[38;5;66;03m# 但是实例方法无法从类名调用\u001b[39;00m\n\u001b[0;32m----> 3\u001b[0m \u001b[43mDuck\u001b[49m\u001b[38;5;241;43m.\u001b[39;49m\u001b[43mquack\u001b[49m\u001b[43m(\u001b[49m\u001b[43m)\u001b[49m\n",
      "\u001b[0;31mTypeError\u001b[0m: quack() missing 1 required positional argument: 'self'"
     ]
    }
   ],
   "source": [
    "# 出错预警\n",
    "# 但是实例方法无法从类名调用\n",
    "Duck.quack()"
   ]
  },
  {
   "cell_type": "markdown",
   "id": "1f60ce76-df63-473b-bef8-1ec927dbf55a",
   "metadata": {},
   "source": [
    "### 类的继承"
   ]
  },
  {
   "cell_type": "markdown",
   "id": "3d074a8b-2653-43ec-9399-b0da4110ce36",
   "metadata": {},
   "source": [
    "语法\n",
    "\n",
    "父类(超类)放在定义的括号中\n",
    "```python\n",
    "class SubClass(SuperClass):\n",
    "    pass\n",
    "```"
   ]
  },
  {
   "cell_type": "markdown",
   "id": "f169e03e-3be2-460b-b6c3-ea8e42e85855",
   "metadata": {},
   "source": [
    "具体例子，定义鸭子类的子类——绿头鸭类"
   ]
  },
  {
   "cell_type": "code",
   "execution_count": 24,
   "id": "dcea2312-bf53-4b1c-90ca-66533f5df521",
   "metadata": {},
   "outputs": [
    {
     "name": "stdout",
     "output_type": "stream",
     "text": [
      "Lay my eggs to other nests...\n"
     ]
    }
   ],
   "source": [
    "# 继承是面向对象的特性之一\n",
    "\n",
    "class Mallard(Duck):\n",
    "    def __init__(self, name, color):\n",
    "        # 调用超类/父类的初始函数\n",
    "        super().__init__(name)\n",
    "        self.color = color\n",
    "    \n",
    "    def lay_eggs(self):\n",
    "        print('Lay my eggs to other nests...')\n",
    "        \n",
    "cute_duck = Mallard(name='', color='green')\n",
    "cute_duck.lay_eggs()"
   ]
  },
  {
   "cell_type": "code",
   "execution_count": 25,
   "id": "2ed7bbd1-4cd5-4541-abe6-fcc6d1ed5a02",
   "metadata": {},
   "outputs": [
    {
     "name": "stdout",
     "output_type": "stream",
     "text": [
      "Quaaaaack!\n"
     ]
    }
   ],
   "source": [
    "cute_duck.quack()"
   ]
  },
  {
   "cell_type": "markdown",
   "id": "f25a43b9-d216-4f81-8119-629b049c4f06",
   "metadata": {},
   "source": [
    "内置函数可以帮助判断类和对象的隶属关系"
   ]
  },
  {
   "cell_type": "code",
   "execution_count": 26,
   "id": "e3a3040c-a4db-4abe-aab6-f5b76c9c4228",
   "metadata": {},
   "outputs": [
    {
     "name": "stdout",
     "output_type": "stream",
     "text": [
      "True\n",
      "True\n",
      "True\n"
     ]
    }
   ],
   "source": [
    "# Python 内置检查函数\n",
    "\n",
    "# 实例检查\n",
    "print(isinstance(cute_duck, Mallard))\n",
    "print(isinstance(cute_duck, Duck))\n",
    "\n",
    "# 子类检查\n",
    "print(issubclass(Mallard, Duck))"
   ]
  },
  {
   "cell_type": "markdown",
   "id": "f779af6c-165d-4742-95bb-2f64e35ea8ef",
   "metadata": {},
   "source": [
    "#### 多重继承\n",
    "\n",
    "Python 语言支持多重继承，语法如下\n",
    "\n",
    "```python\n",
    "class SubClass(SuperClass1, SuperClass2, SuperClass3):\n",
    "    pass\n",
    "```"
   ]
  },
  {
   "cell_type": "markdown",
   "id": "2db44440-50c2-4a0d-882a-330056d8061d",
   "metadata": {},
   "source": [
    "### 类的封装\n",
    "\n",
    "Python 没有真正意义上的私有变量\n",
    "\n",
    "约定：下划线(`_`)开头的标识符非公开\n",
    "\n",
    "例如"
   ]
  },
  {
   "cell_type": "code",
   "execution_count": 27,
   "id": "aaf14a72-5b17-4622-8ac9-0949d9c5f0c3",
   "metadata": {},
   "outputs": [],
   "source": [
    "class SecretDuck:\n",
    "    def __init__(self):\n",
    "        self._secret = '其实我是寨桥老鹅'"
   ]
  },
  {
   "cell_type": "markdown",
   "id": "c5bd3256-8a86-4954-9624-f534285b3875",
   "metadata": {},
   "source": [
    "### 余论\n",
    "\n",
    "作用域从内到外分别是\n",
    "\n",
    "- 局部(local)作用域\n",
    "- 包围(enclosed)作用域\n",
    "- 全局(global)作用域\n",
    "- 内置(built-in)作用域\n",
    "\n",
    "> 即所谓**LEGB规则**\n",
    "\n",
    "如果没有`global`或`nonlocal`关键字限定的话，赋值总是先进入最内部的作用域\n",
    "\n",
    "类比较特殊，它里面的变量实际上是作为类属性分配给类的命名空间"
   ]
  },
  {
   "cell_type": "code",
   "execution_count": 28,
   "id": "8c16b629-31ae-4df4-9531-da3ff4afefc8",
   "metadata": {},
   "outputs": [
    {
     "data": {
      "text/plain": [
       "['__',\n",
       " '___',\n",
       " '__builtin__',\n",
       " '__builtins__',\n",
       " '__doc__',\n",
       " '__loader__',\n",
       " '__name__',\n",
       " '__package__',\n",
       " '__spec__']"
      ]
     },
     "execution_count": 28,
     "metadata": {},
     "output_type": "execute_result"
    }
   ],
   "source": [
    "# 命名空间\n",
    "\n",
    "[ns for ns in dir() if ns.startswith('__')]"
   ]
  },
  {
   "cell_type": "markdown",
   "id": "9357898e-2843-419c-8885-d5fcda10d5b1",
   "metadata": {},
   "source": [
    "类属性甚至可以绑定类外部的变量或函数"
   ]
  },
  {
   "cell_type": "code",
   "execution_count": 29,
   "id": "9a58088d-b606-4d18-b9e7-7a6e6798d0e0",
   "metadata": {},
   "outputs": [
    {
     "name": "stdout",
     "output_type": "stream",
     "text": [
      "甜甜圈\n"
     ]
    }
   ],
   "source": [
    "# 外部变量\n",
    "sweets = ['蛋挞', '榴莲酥', '枣糕', '甜甜圈']\n",
    "# 外部函数\n",
    "get_last = lambda i: i[-1]\n",
    "\n",
    "# 定义一个空类，后面再绑定\n",
    "class DemoClass:\n",
    "    pass\n",
    "\n",
    "# 绑定到函数的类属性，也就是类方法，其实没有绑定到实例\n",
    "DemoClass.func = get_last\n",
    "print(DemoClass.func(sweets))"
   ]
  },
  {
   "cell_type": "code",
   "execution_count": 30,
   "id": "c07805a6-8fff-47a8-8405-ee5c06d5451e",
   "metadata": {},
   "outputs": [
    {
     "ename": "TypeError",
     "evalue": "<lambda>() takes 1 positional argument but 2 were given",
     "output_type": "error",
     "traceback": [
      "\u001b[0;31m---------------------------------------------------------------------------\u001b[0m",
      "\u001b[0;31mTypeError\u001b[0m                                 Traceback (most recent call last)",
      "Cell \u001b[0;32mIn [30], line 5\u001b[0m\n\u001b[1;32m      2\u001b[0m demo \u001b[38;5;241m=\u001b[39m DemoClass()\n\u001b[1;32m      3\u001b[0m \u001b[38;5;66;03m# 实例对象调用类方法\u001b[39;00m\n\u001b[1;32m      4\u001b[0m \u001b[38;5;66;03m# 错误，类方法没有绑定到实例\u001b[39;00m\n\u001b[0;32m----> 5\u001b[0m \u001b[43mdemo\u001b[49m\u001b[38;5;241;43m.\u001b[39;49m\u001b[43mfunc\u001b[49m\u001b[43m(\u001b[49m\u001b[43msweets\u001b[49m\u001b[43m)\u001b[49m\n",
      "\u001b[0;31mTypeError\u001b[0m: <lambda>() takes 1 positional argument but 2 were given"
     ]
    }
   ],
   "source": [
    "# 实例对象\n",
    "demo = DemoClass()\n",
    "# 实例对象调用类方法\n",
    "# 错误，类方法没有绑定到实例\n",
    "demo.func(sweets)"
   ]
  },
  {
   "cell_type": "code",
   "execution_count": 31,
   "id": "fd3731c0-40a2-44cd-8335-4886680429a9",
   "metadata": {},
   "outputs": [
    {
     "name": "stdout",
     "output_type": "stream",
     "text": [
      "甜甜圈\n"
     ]
    }
   ],
   "source": [
    "import types\n",
    "\n",
    "# 给实例绑函数，需要指定第一个参数，约定俗成用 self\n",
    "demo.bound_func = types.MethodType(lambda self, i: get_last(i), demo)\n",
    "print(demo.bound_func(sweets))\n",
    "\n",
    "# 静态属性同然"
   ]
  },
  {
   "cell_type": "markdown",
   "id": "347420ee-f4da-44e6-a573-17c6db962ca4",
   "metadata": {},
   "source": [
    "## 模块\n",
    "\n",
    "### 模块和包\n",
    "\n",
    "Python的模块(module)可以视为**命名空间**，一个 .py 文件就是一个模块\n",
    "\n",
    "模块中定义的函数，可以单独导入(用`from`和`import`关键字组合)，以供他用\n",
    "\n",
    "甚至可以在导入的同时重命名为(`as`)其他标识符\n",
    "\n",
    "语法示例"
   ]
  },
  {
   "cell_type": "code",
   "execution_count": 32,
   "id": "00e9af21-7fc3-410b-8d6b-130aa509dee8",
   "metadata": {},
   "outputs": [
    {
     "name": "stdout",
     "output_type": "stream",
     "text": [
      "我的函数求解结果是0.99993896484375\n"
     ]
    }
   ],
   "source": [
    "import math\n",
    "from scipy import optimize\n",
    "from root_finding import rf_bisection as rfb\n",
    "\n",
    "my_func = lambda x: x ** 3 - 1\n",
    "print(f'我的函数求解结果是{rfb(my_func, -1, 1)}')"
   ]
  },
  {
   "cell_type": "markdown",
   "id": "b1001363-9ab1-49e5-a152-572dcb88cf5b",
   "metadata": {},
   "source": [
    "### 常用Python模块/包\n",
    "\n",
    "由于Python能者多劳，不好定义什么叫做**常用**\n",
    "\n",
    "不同领域的常用模块/包并不相同，例如\n",
    "\n",
    "- 和操作系统打交道会用`sys`、`os`、`re`等\n",
    "- 和数据持久打交道会用`csv`、`pickle`、`sqlite3`等\n",
    "- 和网络编程打交道会用`socket`、`asyncio`、`ssl`、`urllib`等\n",
    "- 和并发编程打交道会用`threading`、`multiprocessing`等\n",
    "- 和数据科学打交道会用`numoy`、`pandas`、`matplotlib`等"
   ]
  },
  {
   "cell_type": "markdown",
   "id": "c247ad2d-9a51-42a9-a7e6-94df0efb9fb6",
   "metadata": {},
   "source": [
    "## 设计模式概述\n",
    "\n",
    "设计模式是在大量代码实践中总结出来的经验和心得，通常可以帮助我们更好地理解代码设计、帮助我们与同行有效沟通"
   ]
  },
  {
   "cell_type": "markdown",
   "id": "8d83588e-25dc-4556-a990-b98ebd996209",
   "metadata": {},
   "source": [
    "### 迭代器\n",
    "\n",
    "不暴露数据结构内部细节的同时，可以遍历数据结构中的所有元素"
   ]
  },
  {
   "cell_type": "code",
   "execution_count": 33,
   "id": "ce63a676-1d6a-4ebe-8fbd-a0fdd6ddcc5a",
   "metadata": {},
   "outputs": [
    {
     "data": {
      "text/plain": [
       "[0, 1, 2, 3, 4]"
      ]
     },
     "execution_count": 33,
     "metadata": {},
     "output_type": "execute_result"
    }
   ],
   "source": [
    "# 迭代器\n",
    "class myrange:\n",
    "    def __init__(self, n):\n",
    "        self.i = 0\n",
    "        self.n = n\n",
    "\n",
    "    def __iter__(self):\n",
    "        return self\n",
    "\n",
    "    def __next__(self):\n",
    "        if self.i < self.n:\n",
    "            i = self.i\n",
    "            self.i += 1\n",
    "            return i\n",
    "        else:\n",
    "            raise StopIteration()\n",
    "\n",
    "list(myrange(5))"
   ]
  },
  {
   "cell_type": "code",
   "execution_count": 34,
   "id": "8ea65bc0-8684-4d62-8c41-b03f8af09d38",
   "metadata": {},
   "outputs": [
    {
     "data": {
      "text/plain": [
       "0"
      ]
     },
     "execution_count": 34,
     "metadata": {},
     "output_type": "execute_result"
    }
   ],
   "source": [
    "i = myrange(2)\n",
    "\n",
    "next(i)"
   ]
  },
  {
   "cell_type": "code",
   "execution_count": 35,
   "id": "de59a4cf-6124-4496-b52e-8fbd51a30ab4",
   "metadata": {},
   "outputs": [
    {
     "data": {
      "text/plain": [
       "1"
      ]
     },
     "execution_count": 35,
     "metadata": {},
     "output_type": "execute_result"
    }
   ],
   "source": [
    "next(i)"
   ]
  },
  {
   "cell_type": "code",
   "execution_count": 36,
   "id": "87199496-daac-47a1-a0a2-23540fa757f1",
   "metadata": {},
   "outputs": [
    {
     "ename": "StopIteration",
     "evalue": "",
     "output_type": "error",
     "traceback": [
      "\u001b[0;31m---------------------------------------------------------------------------\u001b[0m",
      "\u001b[0;31mStopIteration\u001b[0m                             Traceback (most recent call last)",
      "Cell \u001b[0;32mIn [36], line 1\u001b[0m\n\u001b[0;32m----> 1\u001b[0m \u001b[38;5;28;43mnext\u001b[39;49m\u001b[43m(\u001b[49m\u001b[43mi\u001b[49m\u001b[43m)\u001b[49m\n",
      "Cell \u001b[0;32mIn [33], line 16\u001b[0m, in \u001b[0;36mmyrange.__next__\u001b[0;34m(self)\u001b[0m\n\u001b[1;32m     14\u001b[0m     \u001b[38;5;28;01mreturn\u001b[39;00m i\n\u001b[1;32m     15\u001b[0m \u001b[38;5;28;01melse\u001b[39;00m:\n\u001b[0;32m---> 16\u001b[0m     \u001b[38;5;28;01mraise\u001b[39;00m \u001b[38;5;167;01mStopIteration\u001b[39;00m()\n",
      "\u001b[0;31mStopIteration\u001b[0m: "
     ]
    }
   ],
   "source": [
    "next(i)"
   ]
  },
  {
   "cell_type": "code",
   "execution_count": 37,
   "id": "53eb52d1-c4a7-471b-a51c-51f26b13bf34",
   "metadata": {},
   "outputs": [
    {
     "data": {
      "text/plain": [
       "[0, 1, 2, 3, 4]"
      ]
     },
     "execution_count": 37,
     "metadata": {},
     "output_type": "execute_result"
    }
   ],
   "source": [
    "# 生成器\n",
    "\n",
    "def myrange(n):\n",
    "    i = 0\n",
    "    while i < n:\n",
    "        yield i\n",
    "        i += 1\n",
    "\n",
    "list(myrange(5))"
   ]
  },
  {
   "cell_type": "markdown",
   "id": "2e95c601-5877-497c-a87f-1fa0f5ac931c",
   "metadata": {},
   "source": [
    "### 装饰器\n",
    "不改变原来函数的同时，增加函数功能"
   ]
  },
  {
   "cell_type": "code",
   "execution_count": 38,
   "id": "66452cd2-a6ea-4e49-997e-072afa1a3d84",
   "metadata": {},
   "outputs": [
    {
     "name": "stdout",
     "output_type": "stream",
     "text": [
      "Confucius said:\n",
      "Man who runs behind car will get exhausted but man who runs in front of car will get tired\n"
     ]
    }
   ],
   "source": [
    "def confucius(func):\n",
    "    def inner(*args, **kwargs):\n",
    "        print('Confucius said:')\n",
    "        func(*args, **kwargs)\n",
    "    return inner\n",
    "\n",
    "@confucius\n",
    "def say(text):\n",
    "    print(text)\n",
    "\n",
    "say('Man who runs behind car will get exhausted but man who runs in front of car will get tired')"
   ]
  },
  {
   "cell_type": "markdown",
   "id": "9b258091-9ce1-4b99-8bc8-167dcdf4ddef",
   "metadata": {},
   "source": [
    "### MVC\n",
    "\n",
    "核心概念：关注点分离(Separation of Concerns, SoC)\n",
    "\n",
    "Model–View–Controller (MVC) 是软件设计中用户界面(user interface)的常见模式\n",
    "\n",
    "- Model - 模型\n",
    "- View - 视图\n",
    "- Controller - 控制器"
   ]
  },
  {
   "cell_type": "code",
   "execution_count": 39,
   "id": "60b54961-ad6f-4bdc-941f-094f8b2e3d6b",
   "metadata": {
    "jupyter": {
     "source_hidden": true
    },
    "tags": []
   },
   "outputs": [
    {
     "data": {
      "text/html": [
       "\n",
       "        <iframe\n",
       "            width=\"100%\"\n",
       "            height=\"500\"\n",
       "            src=\"graph/89f5d672-9d74-410e-93f8-183c11ec3c88.html\"\n",
       "            frameborder=\"0\"\n",
       "            allowfullscreen\n",
       "            \n",
       "        ></iframe>\n",
       "        "
      ],
      "text/plain": [
       "<IPython.lib.display.IFrame at 0x10a74b1f0>"
      ]
     },
     "execution_count": 39,
     "metadata": {},
     "output_type": "execute_result"
    }
   ],
   "source": [
    "mvcd = '''\n",
    "flowchart TB\n",
    "subgraph C[控制器]\n",
    "cd[控制并决定数据如何显示]\n",
    "end\n",
    "subgraph V[视图]\n",
    "vd[当前模型装的外在呈现]\n",
    "end\n",
    "subgraph M[模型]\n",
    "md[数据的内在结构和逻辑]\n",
    "end\n",
    "vd -.-> |拉取数据|cd -.-> |拉取数据|md\n",
    "vd -.-> |通过事件监听更新数据|cd\n",
    "cd --> |初始化|vd\n",
    "cd --> |修改结构|md\n",
    "cd -.-> |设置数据|md\n",
    "'''\n",
    "\n",
    "js_ui({'src': mvcd}, TEMPLATE_MERMAIDJS, height=500)"
   ]
  },
  {
   "cell_type": "markdown",
   "id": "0dbad24f-97a2-4220-aa80-9ea1cbe0f449",
   "metadata": {},
   "source": [
    "[Flask](https://flask.palletsprojects.com/) 是一款轻量级开源 Web 微框架，当它和 [Jinja](https://jinja.palletsprojects.com/) 及 [SQLAlchemy](https://flask-sqlalchemy.palletsprojects.com/) 配合使用时，就可以视为典型的 MVC 应用开发框架\n",
    "\n",
    "- Model - SQLAlchemy 提供对数据库的连接和查询\n",
    "- View - Jinja 模版提供对用户界面的渲染\n",
    "- Controller - Flask 本身可以控制"
   ]
  },
  {
   "cell_type": "markdown",
   "id": "7ade6699-3efa-4143-bb0d-0ac627c5db94",
   "metadata": {
    "tags": []
   },
   "source": [
    "## 异常\n",
    "\n",
    "比起直接让程序出错中断执行，尽可能多用异常处理"
   ]
  },
  {
   "cell_type": "code",
   "execution_count": 40,
   "id": "64159cfe-2244-4717-8264-2a7999be74c0",
   "metadata": {},
   "outputs": [
    {
     "ename": "NameError",
     "evalue": "name '我错了' is not defined",
     "output_type": "error",
     "traceback": [
      "\u001b[0;31m---------------------------------------------------------------------------\u001b[0m",
      "\u001b[0;31mNameError\u001b[0m                                 Traceback (most recent call last)",
      "Cell \u001b[0;32mIn [40], line 3\u001b[0m\n\u001b[1;32m      1\u001b[0m \u001b[38;5;66;03m# 主动触发一个错误讯息\u001b[39;00m\n\u001b[0;32m----> 3\u001b[0m \u001b[43m我错了\u001b[49m\n",
      "\u001b[0;31mNameError\u001b[0m: name '我错了' is not defined"
     ]
    }
   ],
   "source": [
    "# 主动触发一个错误讯息\n",
    "\n",
    "我错了"
   ]
  },
  {
   "cell_type": "markdown",
   "id": "1427d2e5-3bcc-49aa-98ee-58afbf7c9371",
   "metadata": {},
   "source": [
    "在执行过程中检测到的错误被称为**异常** (exception)\n",
    "\n",
    "出错信息以堆栈回溯的形式显示了异常发生的背景，列出源代码行号"
   ]
  },
  {
   "cell_type": "markdown",
   "id": "248d71e2-335f-4a5f-bec1-ed40b5b84bf6",
   "metadata": {},
   "source": [
    "### `try`语句\n",
    "\n",
    "用`try`关键字尝试正常代码流，用`except`关键字捕获异常类型并加以处理\n",
    "\n",
    "Python 风格的异常处理是先使用再捕获"
   ]
  },
  {
   "cell_type": "code",
   "execution_count": 41,
   "id": "d834b89d-f3f9-4e1e-a665-535e8478947d",
   "metadata": {},
   "outputs": [
    {
     "name": "stdout",
     "output_type": "stream",
     "text": [
      "标识符出错，定义这个变量了没？\n",
      "----结束糟心代码的分割线----\n"
     ]
    }
   ],
   "source": [
    "# try...except风“试错法”\n",
    "\n",
    "try:\n",
    "    print(我错了)\n",
    "except NameError:\n",
    "    print('标识符出错，定义这个变量了没？')\n",
    "except:\n",
    "    print('不知道什么问题就出Joker！')\n",
    "else:\n",
    "    print()\n",
    "finally:\n",
    "    print('-'*4 + '结束糟心代码的分割线' + '-'*4)"
   ]
  },
  {
   "cell_type": "markdown",
   "id": "87618c7d-23b7-4b80-90e3-01bbc5463cbd",
   "metadata": {},
   "source": [
    "### 自定义异常\n",
    "\n",
    "继承父类`Exception`定义一个新的类，就可以自定义异常"
   ]
  },
  {
   "cell_type": "code",
   "execution_count": 42,
   "id": "8c28a65b-4780-421f-87b3-18fc6662aaf0",
   "metadata": {},
   "outputs": [
    {
     "ename": "NothingHappenedError",
     "evalue": "各回各家，各找各妈",
     "output_type": "error",
     "traceback": [
      "\u001b[0;31m---------------------------------------------------------------------------\u001b[0m",
      "\u001b[0;31mNothingHappenedError\u001b[0m                      Traceback (most recent call last)",
      "Cell \u001b[0;32mIn [42], line 9\u001b[0m\n\u001b[1;32m      6\u001b[0m empty \u001b[38;5;241m=\u001b[39m []\n\u001b[1;32m      8\u001b[0m \u001b[38;5;28;01mif\u001b[39;00m \u001b[38;5;129;01mnot\u001b[39;00m empty:\n\u001b[0;32m----> 9\u001b[0m     \u001b[38;5;28;01mraise\u001b[39;00m NothingHappenedError(\u001b[38;5;124m'\u001b[39m\u001b[38;5;124m各回各家，各找各妈\u001b[39m\u001b[38;5;124m'\u001b[39m)\n",
      "\u001b[0;31mNothingHappenedError\u001b[0m: 各回各家，各找各妈"
     ]
    }
   ],
   "source": [
    "# 定义一个“无事发生异常”\n",
    "\n",
    "class NothingHappenedError(Exception):\n",
    "    pass\n",
    "\n",
    "empty = []\n",
    "\n",
    "if not empty:\n",
    "    raise NothingHappenedError('各回各家，各找各妈')"
   ]
  },
  {
   "cell_type": "markdown",
   "id": "4c734046-6738-47ca-89ca-ebfc005adfa4",
   "metadata": {},
   "source": [
    "## 课后作业\n",
    "\n",
    "**截止日期：2022-10-17 00:00**\n",
    "\n",
    "### 1. 设计一个带数值的几何点类(`ValuePoint`)\n",
    "\n",
    "#### 1(a)\n",
    "用 Python 设计一个`Point`类，表示平面上的几何点\n",
    "\n",
    "- 它有两个公开实例属性 `x` 和 `y`，分别代表点的 $x$ 坐标和 $y$ 坐标\n",
    "- 如果无参数构造 `Point` 实例的话，**默认**位于坐标轴原点，即 (0, 0)\n",
    "- 有一个公开**类方法** `distance` 用于计算两个 `Point` 实例之间的距离\n",
    "- 有一个公开**实例方法** `distance_to` 用于计算当前 `Point` 实例到另一个 `Point` 实例之间的距离\n",
    "\n",
    "用点A (0, 0) 和点B (3.6, 2.4) 测试这个 `Point` 类\n",
    "\n",
    "#### 1(b)\n",
    "设计`Point`类的子类`ValuePoint`，它除了继承父类(超类)的**所有**定义之外：\n",
    "\n",
    "- 有一个**私有**实例属性 `_value`，该属性可以存储传入的值，初始化默认为 `0`\n",
    "- 有一个公开实例方法，该方法可以**接受传参**并改变私有实例属性所存储的值\n",
    "  - 接受的参数必须是$[-10,10]$的整数值\n",
    "  - 如果参数不满足要求，引发异常，例如 `TypeError`、`ValueError`\n",
    "- 有一个公开实例方法，该方法可以获取私有实例属性所存储的值并**返回该值**"
   ]
  },
  {
   "cell_type": "markdown",
   "id": "62b91087-51c9-401b-8906-8dd14d3bcf1b",
   "metadata": {
    "tags": []
   },
   "source": [
    "[comment]: 答案写在这里\n",
    "\n"
   ]
  },
  {
   "cell_type": "code",
   "execution_count": null,
   "id": "ec769054-e6cc-46bf-9b42-95d2cba8d4c9",
   "metadata": {},
   "outputs": [],
   "source": [
    "# 测试 Point 类\n",
    "\n",
    "# 构造\n",
    "p_a = Point()\n",
    "p_b = Point(3.6, 2.4)\n",
    "\n",
    "print(p_b.x, p_b.y)\n",
    "print(Point.distance(p_a, p_b))\n",
    "print(p_a.distance_to(p_b))"
   ]
  },
  {
   "cell_type": "code",
   "execution_count": null,
   "id": "8216605b-f97a-4625-84da-d21d43f935e8",
   "metadata": {},
   "outputs": [],
   "source": [
    "# 测试 ValuePoint 类\n",
    "\n",
    "p = ValuePoint()\n",
    "\n",
    "# 测试 setter\n",
    "p.value = 666\n",
    "\n",
    "# 测试 getter\n",
    "val = p.value\n",
    "\n",
    "x, y = p.x, p.y\n",
    "print(x, y)"
   ]
  },
  {
   "cell_type": "markdown",
   "id": "a349cc29-07e3-42d2-b5a8-eb059cd1f7e6",
   "metadata": {},
   "source": [
    "### 2. 对时间序列求累积平均\n",
    "\n",
    "累积平均是指对定期接受的流失数据，计算至今为止的所有数据的平均值\n",
    "\n",
    "对**时间序列**(time series)求累积平均，通常是等待新值添加进序列，就会更新**整个序列**平均值计算结果\n",
    "\n",
    "#### 2(a)\n",
    "设计一个名叫`Averager`的类，它在实例初始化时创建一个空的列表，每次让实例作为函数调用时就传入一个新的数值，并返回更新后的平均值\n",
    "\n",
    "#### a(b)\n",
    "设计一个名叫`hof_avg()`的**高阶函数**完成上述同样的功能\n",
    "\n",
    "**思路提示**\n",
    "\n",
    "高阶函数可以返回一个在其内部定义的函数"
   ]
  },
  {
   "cell_type": "markdown",
   "id": "ba0acc28-403b-4384-a6e5-1f8e495d6ee3",
   "metadata": {},
   "source": [
    "[comment]: 答案写在这里\n",
    "\n"
   ]
  },
  {
   "cell_type": "code",
   "execution_count": null,
   "id": "3f034fa1-7757-4363-a70b-d5088dde3781",
   "metadata": {},
   "outputs": [],
   "source": [
    "# 测试 Averager 类\n",
    "\n",
    "averager = Averager()\n",
    "print(averager(5.)) # 输出 5.0\n",
    "print(averager(6.)) # 输出 5.5\n",
    "print(averager(4.)) # 输出 5.0\n",
    "print(averager(9.)) # 输出 6.0"
   ]
  },
  {
   "cell_type": "code",
   "execution_count": null,
   "id": "6e515df6-36f7-4d1f-b650-cd18d2c1e9b0",
   "metadata": {},
   "outputs": [],
   "source": [
    "# 测试 hof_avg 函数\n",
    "\n",
    "averager = hof_avg()\n",
    "print(averager(5.)) # 输出 5.0\n",
    "print(averager(6.)) # 输出 5.5\n",
    "print(averager(4.)) # 输出 5.0\n",
    "print(averager(9.)) # 输出 6.0"
   ]
  }
 ],
 "metadata": {
  "kernelspec": {
   "display_name": "Python 3 (ipykernel)",
   "language": "python",
   "name": "python3"
  },
  "language_info": {
   "codemirror_mode": {
    "name": "ipython",
    "version": 3
   },
   "file_extension": ".py",
   "mimetype": "text/x-python",
   "name": "python",
   "nbconvert_exporter": "python",
   "pygments_lexer": "ipython3",
   "version": "3.9.12"
  }
 },
 "nbformat": 4,
 "nbformat_minor": 5
}
