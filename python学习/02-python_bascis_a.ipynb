{
 "cells": [
  {
   "cell_type": "markdown",
   "id": "216ff97e-31e5-42a2-afc0-1d984ca06a93",
   "metadata": {},
   "source": [
    "# 第二讲：Python 基础：值、变量、类型\n",
    "\n",
    "**2022-09-11 v2.0**\n",
    "\n",
    "**2022-03-24 v1.1**\n",
    "\n",
    "**2022-03-17 v1.0**\n",
    "\n",
    "**yeh@czust.edu.cn**"
   ]
  },
  {
   "cell_type": "code",
   "execution_count": 1,
   "id": "530239dd-3b70-4313-a492-44f2559bdc66",
   "metadata": {
    "jupyter": {
     "source_hidden": true
    },
    "tags": []
   },
   "outputs": [],
   "source": [
    "import io\n",
    "import uuid\n",
    "from pathlib import Path\n",
    "from IPython.display import IFrame\n",
    "\n",
    "TEMPLATE_MERMAIDJS='''<html>\n",
    "    <body>\n",
    "        <script src=\"https://cdn.jsdelivr.net/npm/mermaid/dist/mermaid.min.js\"></script>\n",
    "        <script>\n",
    "            mermaid.initialize({{ startOnLoad: true }});\n",
    "        </script>\n",
    "        <div class=\"mermaid\">\n",
    "            {src}\n",
    "        </div>\n",
    "    </body>\n",
    "</html>\n",
    "'''\n",
    "\n",
    "def js_ui(data, template, out_fn=None, out_path='./graph',\n",
    "          width='100%', height='100%', **kwargs):\n",
    "    '''生成一个包含模板化javascript包的IFrame'''\n",
    "    \n",
    "    if not out_fn:\n",
    "        out_fn = Path(f'{uuid.uuid4()}.html')\n",
    "    \n",
    "    out_path = Path(out_path)\n",
    "    filepath = out_path / out_fn\n",
    "    filepath.parent.mkdir(parents=True, exist_ok=True)\n",
    "    \n",
    "    with io.open(filepath, 'wt', encoding='utf8') as outfile:\n",
    "        outfile.write(template.format(**data))\n",
    "    \n",
    "    return IFrame(src=filepath, width=width, height=height)"
   ]
  },
  {
   "cell_type": "markdown",
   "id": "590b930e-6d43-48b4-b884-89420ac18f0f",
   "metadata": {},
   "source": [
    "## Python 语言\n",
    "\n",
    "### 诞生\n",
    "\n",
    "Python 的主要作者之一是 Guido van Rossum。他担任 Python 的 BDFL (Benevolent Dictator For Life，终生仁慈独裁者) 直至 2018 年，影响对语言更改和更新的决策。\n",
    "\n",
    "<img src=\"https://gvanrossum.github.io/images/guido-headshot-2019.jpg\" alt=\"Guido van Rossum\" style=\"zoom:25%;\" />\n",
    "\n",
    "1989 年，他正在研究基于微内核的分布式系统 Amoeba，为此开发系统实用程序。在研究时，Guido 意识到用 C 语言开发需要太多时间。他决定利用空闲时间构建一种可以帮助他更快完成工作的语言。于是他想用一种介于 C 和 Shell 脚本之间的解释型脚本语言。"
   ]
  },
  {
   "cell_type": "markdown",
   "id": "89e3ccc0-f48c-4eef-938b-2b51cdd29850",
   "metadata": {},
   "source": [
    "> **冷知识**\n",
    ">\n",
    "> Python 命名来源并不是蛇，而是源自英国超现实喜剧团 Monty Python\n",
    ">\n",
    "> Python 语言有一套明确的原则和优先事项，一个很好的例子是 Python 的 Zen (禅)，即软件工程师 Tom Peters 的一套格言。 在 20 行文字中，Zen 包含了 Python 的核心哲学。\n",
    ">\n",
    "> 第一个版本 (0.9.0) 具有诸如类、异常处理、函数和核心数据类型 (如 list、dict、str) 等特性。1994 年 1 月，1.0 版发布，并为其创建了一个单独的 Usenet 新闻组，这标志着 Python 历史上的一个里程碑。1991 年 2 月，Guido 将 Python 解释器的源代码发布到 alt.sources，这是一个用于开源代码的新闻组。开源 Python 是其在当时取得成功的重要因素之一。尽管今天看来，开源一个编程语言是很稀松平常的事。\n",
    ">\n",
    "> 1996 年，该语言已被用于构建 Microsoft Merchant Server 等产品，它是 Windows NT 的一部分。\n",
    ">\n",
    "> 2000 年 10 月发布的 Python 2.0 引入了列表推导式，这是一种常用的 Python 特性，后来出现在 Haskell 等函数式编程语言中。 它还添加了其他功能，例如 Unicode 支持和完整的垃圾收集器。与此同时，核心开发人员开始考虑下一个版本的 Python，希望精简语言，削减 Python 在其近 20 年的存在中积累的不必要的语言结构和功能。 \n",
    ">\n",
    "> 2008 年 12 月发布的 Python 3.0 是一个**向后不兼容**的 Python 语言版本。不幸的是，这个版本带来了一些复杂性。开发人员没有意识到有多少 Python 代码依赖于其他 Python 库。 因此，虽然将脚本迁移到 Python 3 很容易，但迁移依赖于第三方库的程序却困难得多，因为它们的升级速度没有那么快。\n",
    ">\n",
    "> 阵痛之后是新生，Python 2 终于在 2020 年退役，而 Python 3 赢得了社区的广泛欢迎。"
   ]
  },
  {
   "cell_type": "markdown",
   "id": "10240802-093c-48b6-9655-8217bb755cd2",
   "metadata": {},
   "source": [
    "### Python 哲学\n",
    "\n",
    "```\n",
    "Beautiful is better than ugly.\n",
    "Explicit is better than implicit.\n",
    "Simple is better than complex.\n",
    "Complex is better than complicated.\n",
    "Flat is better than nested.\n",
    "Sparse is better than dense.\n",
    "Readability counts.\n",
    "Special cases aren't special enough to break the rules.\n",
    "Although practicality beats purity.\n",
    "Errors should never pass silently.\n",
    "Unless explicitly silenced.\n",
    "In the face of ambiguity, refuse the temptation to guess.\n",
    "There should be one-- and preferably only one --obvious way to do it.\n",
    "Although that way may not be obvious at first unless you're Dutch.\n",
    "Now is better than never.\n",
    "Although never is often better than *right* now.\n",
    "If the implementation is hard to explain, it's a bad idea.\n",
    "If the implementation is easy to explain, it may be a good idea.\n",
    "Namespaces are one honking great idea -- let's do more of those!\n",
    "```"
   ]
  },
  {
   "cell_type": "markdown",
   "id": "22f9c5db-922b-4584-acd7-36bf980141fa",
   "metadata": {},
   "source": [
    "> **友情提示**\n",
    ">\n",
    "> 在 Python 交互环境使用 \n",
    "> ```python\n",
    "> import this\n",
    "> ```\n",
    ">\n",
    "> 可以查看 Python 禅的文本。"
   ]
  },
  {
   "cell_type": "markdown",
   "id": "a87d4e35-8d2e-4d9e-92d9-c30e42afba98",
   "metadata": {},
   "source": [
    "中文翻译版如下\n",
    "\n",
    "```\n",
    "优美优于丑陋，\n",
    "明了优于隐晦；\n",
    "简单优于复杂，\n",
    "复杂优于凌乱，\n",
    "扁平优于嵌套，\n",
    "稀疏优于稠密，\n",
    "可读性很重要！\n",
    "即使实用比纯粹更优，\n",
    "特例亦不可违背原则。\n",
    "错误绝不能悄悄忽略，\n",
    "除非它明确需要如此。\n",
    "面对不确定性，拒绝妄加猜测。\n",
    "任何问题应有一种，且最好只有一种显而易见的解决方法。\n",
    "尽管这方法一开始并非如此直观，除非你是荷兰人。\n",
    "做优于不做，\n",
    "然而不假思索还不如不做。\n",
    "很难解释的，必然是坏方法。\n",
    "很好解释的，可能是好方法。\n",
    "命名空间是个绝妙的主意，我们应好好利用它！\n",
    "```"
   ]
  },
  {
   "cell_type": "code",
   "execution_count": 2,
   "id": "95cd82af",
   "metadata": {},
   "outputs": [
    {
     "name": "stdout",
     "output_type": "stream",
     "text": [
      "The Zen of Python, by Tim Peters\n",
      "\n",
      "Beautiful is better than ugly.\n",
      "Explicit is better than implicit.\n",
      "Simple is better than complex.\n",
      "Complex is better than complicated.\n",
      "Flat is better than nested.\n",
      "Sparse is better than dense.\n",
      "Readability counts.\n",
      "Special cases aren't special enough to break the rules.\n",
      "Although practicality beats purity.\n",
      "Errors should never pass silently.\n",
      "Unless explicitly silenced.\n",
      "In the face of ambiguity, refuse the temptation to guess.\n",
      "There should be one-- and preferably only one --obvious way to do it.\n",
      "Although that way may not be obvious at first unless you're Dutch.\n",
      "Now is better than never.\n",
      "Although never is often better than *right* now.\n",
      "If the implementation is hard to explain, it's a bad idea.\n",
      "If the implementation is easy to explain, it may be a good idea.\n",
      "Namespaces are one honking great idea -- let's do more of those!\n"
     ]
    }
   ],
   "source": [
    "import this"
   ]
  },
  {
   "cell_type": "markdown",
   "id": "5c2f8b66-f13c-48c9-b815-d0149353de35",
   "metadata": {},
   "source": [
    "### Python 社区现状\n",
    "\n",
    "随着机器学习、大数据等领域的发展，以及开发人员数量的增加 (Python 是编程语言入门的流行选择)，Python 的受欢迎程度飙升。\n",
    "\n",
    "根据 Google Trends 的[统计](https://trends.google.com/trends/explore?date=all&q=%2Fg%2F11bwprfn_5)，`Python Machine Learning` 在 2016 年 9 月左右达到了一个拐点。 这是谷歌基于深度学习的机器学习库 TensorFlow 发布一年后，这反映了全球对机器学习的兴趣出现了类似的增长。"
   ]
  },
  {
   "cell_type": "markdown",
   "id": "931f22fd-c7e5-46df-8653-9abdf5400fa8",
   "metadata": {},
   "source": [
    "事实上，得益于社区的壮大，Python 是多才多艺的编程语言，既可以用它写系统脚本，也可以开发应用软件。这里有一个典型的 Python   开发者的学习路径和分流方向示意图"
   ]
  },
  {
   "cell_type": "code",
   "execution_count": 3,
   "id": "e4d3b13f-2e80-4512-96de-7775b67f7475",
   "metadata": {
    "jupyter": {
     "source_hidden": true
    },
    "tags": []
   },
   "outputs": [
    {
     "data": {
      "text/html": [
       "\n",
       "        <iframe\n",
       "            width=\"100%\"\n",
       "            height=\"1000\"\n",
       "            src=\"graph/2fa734a0-faf0-48f9-a470-ae9045958d1a.html\"\n",
       "            frameborder=\"0\"\n",
       "            allowfullscreen\n",
       "            \n",
       "        ></iframe>\n",
       "        "
      ],
      "text/plain": [
       "<IPython.lib.display.IFrame at 0x10bb28e90>"
      ]
     },
     "execution_count": 3,
     "metadata": {},
     "output_type": "execute_result"
    }
   ],
   "source": [
    "paths = '''\n",
    "flowchart TB\n",
    "  subgraph A[语言基础]\n",
    "    b1[Python] === b2[Jupyter]\n",
    "  end\n",
    "  subgraph B[数值计算]\n",
    "    n1[Numpy] --> n2[SciPy]\n",
    "  end\n",
    "  subgraph C[数据科学]\n",
    "    d1[pandas] --> d2[Xarray]\n",
    "  end\n",
    "  subgraph D[渲染作图]\n",
    "    p1[matplotlib] --> p2[seaborn]\n",
    "    p3[Shapely] --> p4[Cartopy]\n",
    "    p1 --> p4\n",
    "  end\n",
    "  subgraph E[项目部署]\n",
    "    e0([Nginx])\n",
    "    e1[Dask]\n",
    "    e2[Streamlit]\n",
    "  end\n",
    "  subgraph F[机器学习]\n",
    "    f1[Scikit-Learn]\n",
    "    f2[TensorFlow]\n",
    "    f3[PyTorch]\n",
    "  end\n",
    "  subgraph G[Web开发]\n",
    "    g0([HTML])\n",
    "    g1[Flask]\n",
    "    g2[Scrapy]\n",
    "  end\n",
    "  A ==> B --> C\n",
    "  A ==> G --> E\n",
    "  B & C --> D\n",
    "  B & C--> E\n",
    "  C --> F\n",
    "  F --> D\n",
    "'''\n",
    "\n",
    "js_ui({'src': paths}, TEMPLATE_MERMAIDJS, height=1000)"
   ]
  },
  {
   "cell_type": "markdown",
   "id": "996d77d8-161a-4686-aaa6-f0bcd3b75284",
   "metadata": {},
   "source": [
    "## 代码样例\n",
    "\n",
    "Python 是通用目的高级编程语言，其设计哲学是优雅、明确、简单。它是多范型的编程语言，支持面向过程(结构化)编程、面向对象(工程化)编程、函数式编程、元编程等。\n",
    "\n",
    "### 第一个例子"
   ]
  },
  {
   "cell_type": "code",
   "execution_count": 3,
   "id": "ea038386-11e8-4562-8eee-ffe20bcf904a",
   "metadata": {},
   "outputs": [
    {
     "name": "stdout",
     "output_type": "stream",
     "text": [
      "\u001b[2m随机产生的数字为：73。\u001b[0m\n"
     ]
    },
    {
     "name": "stdin",
     "output_type": "stream",
     "text": [
      "请输入一个整数： 56\n"
     ]
    },
    {
     "name": "stdout",
     "output_type": "stream",
     "text": [
      "猜的数字太小了。\n"
     ]
    },
    {
     "name": "stdin",
     "output_type": "stream",
     "text": [
      "请输入一个整数： 75\n"
     ]
    },
    {
     "name": "stdout",
     "output_type": "stream",
     "text": [
      "猜的数字太大了。\n"
     ]
    },
    {
     "name": "stdin",
     "output_type": "stream",
     "text": [
      "请输入一个整数： 73\n"
     ]
    },
    {
     "name": "stdout",
     "output_type": "stream",
     "text": [
      "你赢了！\n"
     ]
    }
   ],
   "source": [
    "# 导入包\n",
    "import random\n",
    "from typing import Any\n",
    "\n",
    "# 类的定义\n",
    "class ColorCode:\n",
    "    '''\n",
    "        ANSI 色彩码\n",
    "    '''\n",
    "    BLACK = \"\\033[0;30m\"\n",
    "    RED = \"\\033[0;31m\"\n",
    "    GREEN = \"\\033[0;32m\"\n",
    "    BROWN = \"\\033[0;33m\"\n",
    "    BLUE = \"\\033[0;34m\"\n",
    "    PURPLE = \"\\033[0;35m\"\n",
    "    CYAN = \"\\033[0;36m\"\n",
    "    LIGHT_GRAY = \"\\033[0;37m\"\n",
    "    DARK_GRAY = \"\\033[1;30m\"\n",
    "    LIGHT_RED = \"\\033[1;31m\"\n",
    "    LIGHT_GREEN = \"\\033[1;32m\"\n",
    "    YELLOW = \"\\033[1;33m\"\n",
    "    LIGHT_BLUE = \"\\033[1;34m\"\n",
    "    LIGHT_PURPLE = \"\\033[1;35m\"\n",
    "    LIGHT_CYAN = \"\\033[1;36m\"\n",
    "    LIGHT_WHITE = \"\\033[1;37m\"\n",
    "    BOLD = \"\\033[1m\"\n",
    "    FAINT = \"\\033[2m\"\n",
    "    ITALIC = \"\\033[3m\"\n",
    "    UNDERLINE = \"\\033[4m\"\n",
    "    BLINK = \"\\033[5m\"\n",
    "    NEGATIVE = \"\\033[7m\"\n",
    "    CROSSED = \"\\033[9m\"\n",
    "    END = \"\\033[0m\"\n",
    "\n",
    "# 函数的定义\n",
    "def is_int(element: Any) -> bool:\n",
    "    try:\n",
    "        int(element)\n",
    "        return True\n",
    "    except ValueError:\n",
    "        return False\n",
    "\n",
    "# 以下为主要功能\n",
    "# 猜一个从 1 到 100 的整数\n",
    "computed = random.randint(1, 100)\n",
    "print(f\"{ColorCode.FAINT}随机产生的数字为：{computed}。{ColorCode.END}\")\n",
    "\n",
    "# 一共 5 次机会\n",
    "for count in range(5):\n",
    "    raw = input(\"请输入一个整数：\")\n",
    "    guess = int(raw) if is_int(raw) else 0\n",
    "    \n",
    "    if guess > computed:\n",
    "        print(\"猜的数字太大了。\")\n",
    "    elif guess < computed:\n",
    "        print(\"猜的数字太小了。\")\n",
    "    else:\n",
    "        print(\"你赢了！\")\n",
    "        break\n",
    "\n",
    "if count == 0:\n",
    "    print(\"-\" * 20)\n",
    "    print(\"次数用光了。\")"
   ]
  },
  {
   "cell_type": "markdown",
   "id": "54dab11e-b5c6-4280-90d3-07a3a29445aa",
   "metadata": {},
   "source": [
    "### 第二个例子"
   ]
  },
  {
   "cell_type": "code",
   "execution_count": 4,
   "id": "ca0ab4f0-eb1b-40cc-8a4b-d2c6f528337c",
   "metadata": {},
   "outputs": [
    {
     "name": "stdout",
     "output_type": "stream",
     "text": [
      "我的函数求解结果是1.198669\n",
      "SciPy的函数结果是1.198691\n"
     ]
    }
   ],
   "source": [
    "def rf_bisection(f, a, b, eps=1e-4, N=15):\n",
    "    '''\n",
    "        用二分法寻找函数 f(x)=0 在区间 [a, b] 内的近似根\n",
    "    '''\n",
    "    import math\n",
    "    \n",
    "    sign = lambda x: math.copysign(1, x)\n",
    "    sfa = sign(f(a))\n",
    "    for i in range(N):\n",
    "        p = a + 0.5 * (b - a)\n",
    "        if (b - a) < 2 * eps:\n",
    "            return p\n",
    "        sfp = sign(f(p))\n",
    "        if (sfa * sfp < 0):\n",
    "            b = p\n",
    "        else:\n",
    "            a = p\n",
    "            sfa = sfp\n",
    "    return\n",
    "\n",
    "# 现在我们来测试一下这个函数\n",
    "test_func = lambda x: x ** 3 + 2 * x ** 2 - 3 * x - 1 # 这是测试用函数式，即f(x)=x³+2x²-3x-1\n",
    "\n",
    "# 对比 SciPy 科学计算库提供的求解器\n",
    "from scipy import optimize\n",
    "\n",
    "my_ans, scipy_ans = rf_bisection(test_func, 1, 2), optimize.bisect(test_func, 1, 2)\n",
    "\n",
    "print(f'我的函数求解结果是{my_ans:.6f}\\nSciPy的函数结果是{scipy_ans:.6f}')"
   ]
  },
  {
   "cell_type": "markdown",
   "id": "f1a7e4c3-31f1-4388-82bc-9795b7795c12",
   "metadata": {},
   "source": [
    "## 解释器\n",
    "\n",
    "解释型语言不同于编译型语言，它直接逐句解释来运行代码，而不是通过编译器先编译为机器码之后再运行\n",
    "\n",
    "**REPL** (Read-Eval-Print Loop)\n",
    "\n",
    "- 读取(read)函数接受来自用户的表达式，并将其解析为内存中的数据结构\n",
    "- 求值(eval)函数接收这个内部数据结构并对其进行评估\n",
    "- 打印(print)函数接收估值结果，并将其打印出来给用户"
   ]
  },
  {
   "cell_type": "code",
   "execution_count": 8,
   "id": "3521b0f1",
   "metadata": {},
   "outputs": [
    {
     "data": {
      "text/plain": [
       "666"
      ]
     },
     "execution_count": 8,
     "metadata": {},
     "output_type": "execute_result"
    }
   ],
   "source": [
    "x = 666\n",
    "x"
   ]
  },
  {
   "cell_type": "code",
   "execution_count": 4,
   "id": "a00a0b8e-55b9-4d9e-a1b3-fa6c94cc530c",
   "metadata": {
    "jp-MarkdownHeadingCollapsed": true,
    "jupyter": {
     "source_hidden": true
    },
    "tags": []
   },
   "outputs": [
    {
     "data": {
      "text/html": [
       "\n",
       "        <iframe\n",
       "            width=\"100%\"\n",
       "            height=\"100%\"\n",
       "            src=\"graph/74ed4677-d283-46f0-9305-2a2fef5f1982.html\"\n",
       "            frameborder=\"0\"\n",
       "            allowfullscreen\n",
       "            \n",
       "        ></iframe>\n",
       "        "
      ],
      "text/plain": [
       "<IPython.lib.display.IFrame at 0x10bb0ee90>"
      ]
     },
     "execution_count": 4,
     "metadata": {},
     "output_type": "execute_result"
    }
   ],
   "source": [
    "repl = '''\n",
    "flowchart TB\n",
    "subgraph 编译器\n",
    "a[源代码]\n",
    "b[编译器]\n",
    "c[机器码]\n",
    "d[可执行]\n",
    "a --> b --> c --> d\n",
    "end\n",
    "subgraph 解释器\n",
    "a1[源代码]\n",
    "b1[解释器]\n",
    "c1[字节码]\n",
    "d1[可执行]\n",
    "a1 --> b1 --> c1 --> d1\n",
    "end\n",
    "'''\n",
    "\n",
    "js_ui({'src': repl}, TEMPLATE_MERMAIDJS)"
   ]
  },
  {
   "cell_type": "markdown",
   "id": "6ac96321-8634-4e37-acc9-77e837a1ab6f",
   "metadata": {
    "tags": []
   },
   "source": [
    "在执行代码之前，确定选择合适的 Python 解释器，它可能在操作系统的某个路径(如`/usr/local/bin/`)里，也可能在用户通过工具创建的 Python 虚拟环境路径(如`~/anaconda3/envs/venv/bin/`)里。\n",
    "\n",
    "Python 解释器提供了一个类似 Shell 的交互模式，进入后的界面类似这样：\n",
    "\n",
    "```\n",
    "Python 3.9.10 | packaged by conda-forge | (main, Feb  1 2022, 21:27:43) \n",
    "[Clang 11.1.0 ] on darwin\n",
    "Type \"help\", \"copyright\", \"credits\" or \"license\" for more information.\n",
    ">>>\n",
    "```\n",
    "\n",
    "在这个界面中可以键入符合 Python 语法的代码。\n",
    "\n",
    "如果有续行，续行后的新行会有三个点表示(`...`)，例如\n",
    "\n",
    "```python\n",
    ">>> if guess > computed:\n",
    "...     print(\"猜的数字太大了。\")\n",
    "```"
   ]
  },
  {
   "cell_type": "markdown",
   "id": "df1f31b9-4f2b-4044-8a72-c1db718a96d4",
   "metadata": {
    "tags": []
   },
   "source": [
    "## 标识符\n",
    "\n",
    "标识符(indentifier)是用来辨识变量、函数、类、模块等代码要素的名称。\n",
    "\n",
    "Python 标识符是大小写敏感的，满足\n",
    "\n",
    "- 合法的标识符包括大写字母(`A-Z`)、小写字母(`a-z`)、数字(`0-9`)以及下划线(`_`)\n",
    "- 标识符起名时，**不能以数字开头**，但可以是下划线和大小写字母开头\n",
    "- **不能使用保留字**，如`class`、`return`、`True`等\n",
    "- 推荐的 Python 风格命名法则是小写单词用下划线分隔，如 `user_info`，而不是 `userInfo` 这种驼峰式命名\n",
    "\n",
    "```python\n",
    "# 标识符规则\n",
    "my_int = 42\n",
    "MAX_ITERATION = 50\n",
    "i18n = 'zh-CN'\n",
    "_private = True\n",
    "\n",
    "# 错误用法\n",
    "100percent = 1.0\n",
    "return = False\n",
    "```"
   ]
  },
  {
   "cell_type": "markdown",
   "id": "194142db-220b-43a8-b05a-a1cb75b52aec",
   "metadata": {
    "tags": []
   },
   "source": [
    "当文本出现在类定义中的标识符以两个或多个下划线(`_`)字符开头并且不以两个或多个下划线结尾时，被认为是该类的私有名称，例如\n",
    "\n",
    "```python\n",
    "__secret = '🤫'\n",
    "```\n",
    "\n",
    "**变量**(variable)可以存储数值和字符，也可以存储复杂的对象，还可以存储算法(表达式)，其存储的内容可以更改。\n",
    "\n",
    "变量可以减少冗余，提高性能，并使代码更易读，赋值操作使用 `=`字符：\n",
    "\n",
    "```python\n",
    "<变量名> = <表达式>\n",
    "```\n",
    "\n",
    "例如\n",
    "\n",
    "```py\n",
    "answer = 42\n",
    "my_country = '中国'\n",
    "```"
   ]
  },
  {
   "cell_type": "markdown",
   "id": "857940a0-a4bd-4d7d-a937-7803b3790e2a",
   "metadata": {
    "tags": []
   },
   "source": [
    "赋值其实是绑定标识符到一个对象的**引用**而不是**值**\n",
    "\n",
    "```python\n",
    "a = 5\n",
    "```\n",
    "\n",
    "图示"
   ]
  },
  {
   "cell_type": "code",
   "execution_count": 9,
   "id": "3876306f-d75e-4690-9525-af91376d05e1",
   "metadata": {
    "jupyter": {
     "source_hidden": true
    },
    "tags": []
   },
   "outputs": [
    {
     "data": {
      "text/html": [
       "\n",
       "        <iframe\n",
       "            width=\"100%\"\n",
       "            height=\"100%\"\n",
       "            src=\"graph/0a2513f9-daea-493f-a4c5-7439a3ec82fb.html\"\n",
       "            frameborder=\"0\"\n",
       "            allowfullscreen\n",
       "            \n",
       "        ></iframe>\n",
       "        "
      ],
      "text/plain": [
       "<IPython.lib.display.IFrame at 0x10bb56750>"
      ]
     },
     "execution_count": 9,
     "metadata": {},
     "output_type": "execute_result"
    }
   ],
   "source": [
    "asgn1 = '''\n",
    "graph LR\n",
    "subgraph 标识符\n",
    "a\n",
    "end\n",
    "subgraph 内存\n",
    "A[0000 0101]\n",
    "end\n",
    "a --> A\n",
    "'''\n",
    "\n",
    "js_ui({'src': asgn1}, TEMPLATE_MERMAIDJS)"
   ]
  },
  {
   "cell_type": "markdown",
   "id": "dcaa3461-6196-427e-a521-a8919ec83839",
   "metadata": {
    "tags": []
   },
   "source": [
    "```python\n",
    "a = 7\n",
    "```\n",
    "\n",
    "图示"
   ]
  },
  {
   "cell_type": "code",
   "execution_count": 10,
   "id": "250da9f6-031d-4978-9988-7f570a76d0b1",
   "metadata": {
    "jupyter": {
     "source_hidden": true
    },
    "tags": []
   },
   "outputs": [
    {
     "data": {
      "text/html": [
       "\n",
       "        <iframe\n",
       "            width=\"100%\"\n",
       "            height=\"400\"\n",
       "            src=\"graph/07119d45-4148-4c94-acb2-83e3cb36166c.html\"\n",
       "            frameborder=\"0\"\n",
       "            allowfullscreen\n",
       "            \n",
       "        ></iframe>\n",
       "        "
      ],
      "text/plain": [
       "<IPython.lib.display.IFrame at 0x10bb28d90>"
      ]
     },
     "execution_count": 10,
     "metadata": {},
     "output_type": "execute_result"
    }
   ],
   "source": [
    "asgn2 = '''\n",
    "graph LR\n",
    "subgraph 标识符\n",
    "a\n",
    "end\n",
    "subgraph 内存\n",
    "A[0000 0101]\n",
    "B[0000 0111]\n",
    "end\n",
    "a --> B\n",
    "style A fill:#666,stroke:#f66,color:#fff\n",
    "'''\n",
    "\n",
    "js_ui({'src': asgn2}, TEMPLATE_MERMAIDJS, height=400)"
   ]
  },
  {
   "cell_type": "markdown",
   "id": "bf07237b-3a99-4490-9985-50eeb33647fa",
   "metadata": {
    "tags": []
   },
   "source": [
    "```python\n",
    "b = a\n",
    "```\n",
    "\n",
    "图示"
   ]
  },
  {
   "cell_type": "code",
   "execution_count": 8,
   "id": "e9fe4a49-87cc-47e4-a7b9-6fdb648d3b90",
   "metadata": {
    "jupyter": {
     "source_hidden": true
    },
    "tags": []
   },
   "outputs": [
    {
     "data": {
      "text/html": [
       "\n",
       "        <iframe\n",
       "            width=\"100%\"\n",
       "            height=\"400\"\n",
       "            src=\"graph/2cc20ae3-ffa1-4021-aac4-109630339659.html\"\n",
       "            frameborder=\"0\"\n",
       "            allowfullscreen\n",
       "            \n",
       "        ></iframe>\n",
       "        "
      ],
      "text/plain": [
       "<IPython.lib.display.IFrame at 0x1098539d0>"
      ]
     },
     "execution_count": 8,
     "metadata": {},
     "output_type": "execute_result"
    }
   ],
   "source": [
    "asgn3 = '''\n",
    "graph LR\n",
    "subgraph 标识符\n",
    "a\n",
    "b\n",
    "end\n",
    "subgraph 内存\n",
    "A[0000 0101]\n",
    "B[0000 0111]\n",
    "end\n",
    "a & b --> B\n",
    "style A fill:#666,stroke:#f66,color:#fff\n",
    "'''\n",
    "\n",
    "js_ui({'src': asgn3}, TEMPLATE_MERMAIDJS, height=400)"
   ]
  },
  {
   "cell_type": "markdown",
   "id": "cad1a7e9-9588-4dfe-ae84-95d141133ac1",
   "metadata": {
    "tags": []
   },
   "source": [
    "ID 测试，使用`id(标识符)`，例如\n",
    "\n",
    "```python\n",
    "a = 5\n",
    "id(a)\n",
    "```\n",
    "\n",
    "也可以用`is`检测两个变量是否绑定相同对象，这样的对象也叫别名(alias)\n",
    "\n",
    "在表达式中的变量先代入、再取值"
   ]
  },
  {
   "cell_type": "code",
   "execution_count": 9,
   "id": "1d8bd85a-166c-442b-9602-4aee8baa5c12",
   "metadata": {},
   "outputs": [],
   "source": [
    "a = 5"
   ]
  },
  {
   "cell_type": "code",
   "execution_count": 10,
   "id": "1e0c5893-5847-4eda-b1f8-c8bd15f0f180",
   "metadata": {},
   "outputs": [
    {
     "data": {
      "text/plain": [
       "int"
      ]
     },
     "execution_count": 10,
     "metadata": {},
     "output_type": "execute_result"
    }
   ],
   "source": [
    "type(a)"
   ]
  },
  {
   "cell_type": "code",
   "execution_count": 11,
   "id": "e1c7fe02-d163-4632-b1b7-59c1f28c2b40",
   "metadata": {},
   "outputs": [],
   "source": [
    "a = '5'"
   ]
  },
  {
   "cell_type": "code",
   "execution_count": 12,
   "id": "a1ed5f47-67eb-46e7-b417-12003db819d3",
   "metadata": {},
   "outputs": [
    {
     "data": {
      "text/plain": [
       "4377146928"
      ]
     },
     "execution_count": 12,
     "metadata": {},
     "output_type": "execute_result"
    }
   ],
   "source": [
    "id(a)"
   ]
  },
  {
   "cell_type": "code",
   "execution_count": 13,
   "id": "5e4fa275-40f1-4bdd-968d-0fc632801808",
   "metadata": {},
   "outputs": [],
   "source": [
    "a = 7"
   ]
  },
  {
   "cell_type": "code",
   "execution_count": 14,
   "id": "8b6e8421-00f0-48e9-bfc1-1fd84ac9993d",
   "metadata": {},
   "outputs": [
    {
     "data": {
      "text/plain": [
       "4374358512"
      ]
     },
     "execution_count": 14,
     "metadata": {},
     "output_type": "execute_result"
    }
   ],
   "source": [
    "id(a)"
   ]
  },
  {
   "cell_type": "code",
   "execution_count": 15,
   "id": "3a84265b-3db2-4323-ad8e-08ce9e28b195",
   "metadata": {},
   "outputs": [],
   "source": [
    "b = a"
   ]
  },
  {
   "cell_type": "code",
   "execution_count": 16,
   "id": "d41eff9a-650d-4d25-b01e-f97b93b7b8eb",
   "metadata": {},
   "outputs": [
    {
     "data": {
      "text/plain": [
       "4374358512"
      ]
     },
     "execution_count": 16,
     "metadata": {},
     "output_type": "execute_result"
    }
   ],
   "source": [
    "id(b)"
   ]
  },
  {
   "cell_type": "markdown",
   "id": "357516fb-bfb6-48bb-bbb5-23dee12464b8",
   "metadata": {
    "tags": []
   },
   "source": [
    "> Python 将变量和值存储在一个叫做**框架** (frame) 的结构中，框架包含一组绑定。**绑定**(binding) 是指变量及其值之间的关系。当程序分配一个变量时，Python 为该变量在框架中添加一个绑定 (如果该变量已经存在，则更新其值)；当程序访问一个变量时，Python 使用框架为该变量找到一个绑定。"
   ]
  },
  {
   "cell_type": "markdown",
   "id": "92609485-60f5-49c6-8138-643ece35f472",
   "metadata": {
    "tags": []
   },
   "source": [
    "## 表达式\n",
    "\n",
    "Python 中严格区分表达式和语句，表达式中不能包含语句，反之可以。\n",
    "\n",
    "- 表达式(expression)是值和运算符的组合，其计算结果是单个值\n",
    "- 语句(statement)是除表达式之外的指令，语句可以包含表达式\n",
    "\n",
    "语句 > 表达式 $\\approx$ 值"
   ]
  },
  {
   "cell_type": "markdown",
   "id": "3904c266-de26-4518-b4e0-ad3024acc497",
   "metadata": {
    "tags": []
   },
   "source": [
    "下面例子是错误的\n",
    "\n",
    "```python\n",
    "# 错误用法\n",
    "if (a = 1):\n",
    "    print('hello')\n",
    "```\n",
    "\n",
    "`:=`用在复杂表达式中，将表达式赋值给标识符且返回该表达式的值，上例改成就可以了\n",
    "\n",
    "```python\n",
    "if (a := 1):\n",
    "    print('hello')\n",
    "```"
   ]
  },
  {
   "cell_type": "markdown",
   "id": "106a94ae-7acc-478e-88cf-ce6fba0ac748",
   "metadata": {
    "tags": []
   },
   "source": [
    "> **冷知识**\n",
    ">\n",
    "> 由于`:=`长得像一只~~躺平~~旋转 90° 的海象的脸，该运算符也叫“海象运算符”。"
   ]
  },
  {
   "cell_type": "markdown",
   "id": "2fbc2b08-9450-408a-ac6a-39db397bb23a",
   "metadata": {
    "tags": []
   },
   "source": [
    "表达式的最基础元素叫做**原子**(atom)，包括但不限于：\n",
    "\n",
    "- 标识符\n",
    "- 字面量\n",
    "  - 字符串\n",
    "  - 字节串\n",
    "  - 整数\n",
    "  - 浮点数\n",
    "  - 复数\n",
    "- 圈闭形式\n",
    "  - 圆括号\n",
    "  - 列表\n",
    "  - 字典\n",
    "  - 集合\n",
    "  - 生成器"
   ]
  },
  {
   "cell_type": "markdown",
   "id": "9da1d6d7-2ce2-4d63-b835-138dabdb7744",
   "metadata": {
    "tags": []
   },
   "source": [
    "### 常量\n",
    "\n",
    "常量(constant)是描述标识符的访问**只读性**，而不是在讨论数据**可变性**。\n",
    "\n",
    "经典的 Python **没有**关于常量的语法表示，非要用的话，可以用类或模块封装常量，或用全大写标识符在字面上提示代码读者。\n",
    "\n",
    "**新增语法**在类型提示中增加了~~防君子不防小人的~~`Final`注记\n",
    "\n",
    "```python\n",
    "from typing import Final\n",
    "MY_CONST: Final = 1 #这样就能在静态类型检查中被识别为常量\n",
    "```"
   ]
  },
  {
   "cell_type": "markdown",
   "id": "061a4d88-e076-4c0b-bdf4-228843e798f8",
   "metadata": {},
   "source": [
    "## 类型概述\n",
    "\n",
    "Python 是典型的鸭子类型(duck typing)语言，是动态类型也是强类型\n",
    "\n",
    "> 当看到一只鸟走起来像鸭子、游泳起来像鸭子、叫起来也像鸭子，那么这只鸟就可以被称为鸭子。"
   ]
  },
  {
   "cell_type": "markdown",
   "id": "90a05ce1-b6df-4b45-8d57-719a1b94fa11",
   "metadata": {},
   "source": [
    "### 查看类型\n",
    "\n",
    "用 `type()`函数。Python 类型大致有以下几种：\n",
    "\n",
    "- 布尔类型：`bool`\n",
    "- 数值类型：`int`、`float`、`complex`\n",
    "- 序列类型：`list`、`tuple`、`range`、`str`、`bytes`、`bytearray`、`memoryview`\n",
    "- 映射类型：`dict`\n",
    "- 集合类型：`set`、`frozenset`"
   ]
  },
  {
   "cell_type": "code",
   "execution_count": 17,
   "id": "1fc16783-5fc6-4932-a472-923203a77be5",
   "metadata": {},
   "outputs": [
    {
     "name": "stdout",
     "output_type": "stream",
     "text": [
      "<class 'float'>\n",
      "<class 'int'>\n",
      "<class 'str'>\n",
      "<class 'complex'>\n",
      "<class 'bool'>\n"
     ]
    }
   ],
   "source": [
    "# 测试类型\n",
    "PI = 3.14                 # 实数\n",
    "radius = 2                # 整数\n",
    "message = '圆的面积是'      # 字符串\n",
    "a_comp = 3 + 4j           # 复数\n",
    "a_bool = a_comp.imag == 4 # 布尔\n",
    "\n",
    "print(type(PI))\n",
    "print(type(radius))\n",
    "print(type(message))\n",
    "print(type(a_comp))\n",
    "print(type(a_bool))"
   ]
  },
  {
   "cell_type": "code",
   "execution_count": 18,
   "id": "c74f5f7f-35a7-43f0-a9c7-795c7009e7b2",
   "metadata": {},
   "outputs": [
    {
     "data": {
      "text/plain": [
       "['圆', '面积是']"
      ]
     },
     "execution_count": 18,
     "metadata": {},
     "output_type": "execute_result"
    }
   ],
   "source": [
    "message.split('的')"
   ]
  },
  {
   "cell_type": "markdown",
   "id": "07aee5d1-1c85-4f89-89e7-28d8929fc0a9",
   "metadata": {},
   "source": [
    "类型转换的基础方法是直接使用`类型名()`，例如\n",
    "\n",
    "```python\n",
    "an_int = 3\n",
    "float(3)\n",
    "```\n",
    "\n",
    "Python 本身是动态类型语言，但可以使用静态类型检查\n",
    "\n",
    "类型提示(type hint)是 Python 3.6 之后的**新增功能**，用来声明变量的类型。通过声明变量的类型，编辑器和 IDE 能提供更好的支持\n",
    "\n",
    "```python\n",
    "def greeting(name: str) -> str:\n",
    "    return 'Hello ' + name\n",
    "```"
   ]
  },
  {
   "cell_type": "markdown",
   "id": "2c438a48-f6d5-4f9e-b0d8-55047abcc6d7",
   "metadata": {},
   "source": [
    "## 几个概念\n",
    "\n",
    "### 可迭代性\n",
    "\n",
    "如果一个对象包含成员，且能够每次按需返回其成员，则它是可迭代的 (iterable)"
   ]
  },
  {
   "cell_type": "code",
   "execution_count": 19,
   "id": "890b6136-c015-4283-959f-9caacf88d798",
   "metadata": {
    "jupyter": {
     "source_hidden": true
    },
    "tags": []
   },
   "outputs": [
    {
     "data": {
      "text/html": [
       "\n",
       "        <iframe\n",
       "            width=\"100%\"\n",
       "            height=\"400\"\n",
       "            src=\"graph/1e745eb3-f2f3-494a-a310-753046552ee5.html\"\n",
       "            frameborder=\"0\"\n",
       "            allowfullscreen\n",
       "            \n",
       "        ></iframe>\n",
       "        "
      ],
      "text/plain": [
       "<IPython.lib.display.IFrame at 0x11858deb0>"
      ]
     },
     "execution_count": 19,
     "metadata": {},
     "output_type": "execute_result"
    }
   ],
   "source": [
    "itrbl = '''\n",
    "graph TB\n",
    "subgraph 容器对象\n",
    "成员1\n",
    "成员2\n",
    "成员3\n",
    "成员4\n",
    "成员...\n",
    "end\n",
    "A([我])\n",
    "A -.-> |第1次访问|成员1\n",
    "A -.-> |第2次访问|成员2\n",
    "A --> |第3次访问|成员3\n",
    "'''\n",
    "\n",
    "js_ui({'src': itrbl}, TEMPLATE_MERMAIDJS, height=400)"
   ]
  },
  {
   "cell_type": "markdown",
   "id": "68acec14-6a60-4584-bb38-db2977d49073",
   "metadata": {},
   "source": [
    "所有的序列类型 (如 `list`、`str` 和 `tuple`) 和一些非序列类型 (如 `dict`)\n",
    "\n",
    "可迭代对象可以在 `for` 循环等操作序列的地方使用，当一个可迭代对象被作为参数传递给内置函数 `iter()` 时，返回该对象的一个迭代器 (iterator)"
   ]
  },
  {
   "cell_type": "markdown",
   "id": "3245b3e3-9103-46d5-b488-04d5185e39cb",
   "metadata": {},
   "source": [
    "### 不可变性\n",
    "\n",
    "程序将数据存储在表示计算机内存中存储位置的变量中。在程序执行的任何给定点，在内存中的是程序的**状态**(state)。Python 中的一些对象是**可变的**(mutable)，而一些是**不可变的**(immutable)。可变对象的状态在创建后可以修改。不可变对象的状态在创建后无法修改。\n",
    "\n",
    "- 可变对象创建后，即使内容中内容已经改变，但起始位置的地址还是一样。\n",
    "- 不可变对象创建后，无法覆盖它的值，但是可以重新分配一个值给标识符。"
   ]
  },
  {
   "cell_type": "markdown",
   "id": "84e88d04-2d58-4aa0-8f0c-fb9984b04bf4",
   "metadata": {},
   "source": [
    "具有固定值的对象是不可变的 (immutable)，不可变对象包括数值、字符串和元组。如果要存储一个不同的值，就必须创建一个新的对象\n",
    "\n",
    "可变对象可以改变其值，但保持其`id()`\n",
    "\n",
    "```python\n",
    "a = [1, 2, 2]\n",
    "```\n",
    "\n",
    "图示"
   ]
  },
  {
   "cell_type": "code",
   "execution_count": 20,
   "id": "01054b9e-845b-44d0-8507-77d1204cc5b9",
   "metadata": {
    "jupyter": {
     "source_hidden": true
    },
    "tags": []
   },
   "outputs": [
    {
     "data": {
      "text/html": [
       "\n",
       "        <iframe\n",
       "            width=\"100%\"\n",
       "            height=\"400\"\n",
       "            src=\"graph/7265d569-0ef2-4b33-9365-12b9a2a2e0b4.html\"\n",
       "            frameborder=\"0\"\n",
       "            allowfullscreen\n",
       "            \n",
       "        ></iframe>\n",
       "        "
      ],
      "text/plain": [
       "<IPython.lib.display.IFrame at 0x1185a69d0>"
      ]
     },
     "execution_count": 20,
     "metadata": {},
     "output_type": "execute_result"
    }
   ],
   "source": [
    "imtbl = '''\n",
    "graph LR\n",
    "subgraph 标识符\n",
    "a\n",
    "a0[a_0]\n",
    "a1[a_1]\n",
    "a2[a_2]\n",
    "end\n",
    "subgraph 内存\n",
    "P[地址1]\n",
    "A[地址2<br>0000 0001]\n",
    "B[地址3<br>0000 0010]\n",
    "end\n",
    "a --> P\n",
    "a0 -.-> A\n",
    "a1 & a2 -.-> B\n",
    "'''\n",
    "\n",
    "js_ui({'src': imtbl}, TEMPLATE_MERMAIDJS, height=400)"
   ]
  },
  {
   "cell_type": "markdown",
   "id": "b6c44b96-239f-4e6a-9634-e832c54f1395",
   "metadata": {},
   "source": [
    "```python\n",
    "a[0] = 2\n",
    "```\n",
    "\n",
    "图示"
   ]
  },
  {
   "cell_type": "code",
   "execution_count": 21,
   "id": "8ca2690f-35ab-4534-81dc-9500aa096a98",
   "metadata": {
    "jupyter": {
     "source_hidden": true
    },
    "tags": []
   },
   "outputs": [
    {
     "data": {
      "text/html": [
       "\n",
       "        <iframe\n",
       "            width=\"100%\"\n",
       "            height=\"400\"\n",
       "            src=\"graph/202635fc-085c-424d-862d-56ccc3d59095.html\"\n",
       "            frameborder=\"0\"\n",
       "            allowfullscreen\n",
       "            \n",
       "        ></iframe>\n",
       "        "
      ],
      "text/plain": [
       "<IPython.lib.display.IFrame at 0x1185a68b0>"
      ]
     },
     "execution_count": 21,
     "metadata": {},
     "output_type": "execute_result"
    }
   ],
   "source": [
    "imtbl2 = '''\n",
    "graph LR\n",
    "subgraph 标识符\n",
    "a\n",
    "a0[a_0]\n",
    "a1[a_1]\n",
    "a2[a_2]\n",
    "end\n",
    "subgraph 内存\n",
    "P[地址1]\n",
    "A[地址2<br>0000 0001]\n",
    "B[地址3<br>0000 0010]\n",
    "end\n",
    "a --> P\n",
    "a0 & a1 & a2 -.-> B\n",
    "style A fill:#666,stroke:#f66,color:#fff\n",
    "'''\n",
    "\n",
    "js_ui({'src': imtbl2}, TEMPLATE_MERMAIDJS, height=400)"
   ]
  },
  {
   "cell_type": "markdown",
   "id": "23b8331c-283f-40bd-90b3-f318087d66e0",
   "metadata": {},
   "source": [
    "### 可散列性\n",
    "\n",
    "如果一个对象在其生命周期内有一个永不改变的散列值，并且可以与其他对象比较，则它是可散列的 (hashable)\n",
    "\n",
    "相等的可散列对象必须有相同的散列值\n",
    "\n",
    "可散列性使得一个对象可以作为字典 (`dict`) 的**键**和集合 (`set`) 的**成员**使用"
   ]
  },
  {
   "cell_type": "markdown",
   "id": "7b1e5ad8-2367-48fd-853f-dc86ba8d3839",
   "metadata": {},
   "source": [
    "## 基础类型\n",
    "\n",
    "### 布尔及其运算\n",
    "\n",
    "在 Python 中，布尔类型的字面量用关键字 `True` (真) 和 `False` (假) 表示\n",
    "\n",
    "布尔类型实际是整数类型 (整型) 的特殊情况\n",
    "\n",
    "- `True` 的对应整数是 1\n",
    "- `False` 的对应整数是 0\n",
    "\n",
    "```python\n",
    "# 结果应该是2\n",
    "True + 1\n",
    "\n",
    "# 结果应该是?\n",
    "2 / False\n",
    "```"
   ]
  },
  {
   "cell_type": "code",
   "execution_count": 22,
   "id": "2d88b49f-0b81-4b01-8e61-4d59bbbda7a7",
   "metadata": {},
   "outputs": [
    {
     "ename": "ZeroDivisionError",
     "evalue": "division by zero",
     "output_type": "error",
     "traceback": [
      "\u001b[0;31m---------------------------------------------------------------------------\u001b[0m",
      "\u001b[0;31mZeroDivisionError\u001b[0m                         Traceback (most recent call last)",
      "Cell \u001b[0;32mIn [22], line 1\u001b[0m\n\u001b[0;32m----> 1\u001b[0m \u001b[38;5;241;43m2\u001b[39;49m\u001b[43m \u001b[49m\u001b[38;5;241;43m/\u001b[39;49m\u001b[43m \u001b[49m\u001b[38;5;28;43;01mFalse\u001b[39;49;00m\n",
      "\u001b[0;31mZeroDivisionError\u001b[0m: division by zero"
     ]
    }
   ],
   "source": [
    "2 / False"
   ]
  },
  {
   "cell_type": "markdown",
   "id": "b333cba0-231d-448f-82b9-63765dff2223",
   "metadata": {},
   "source": [
    "#### 逻辑运算符\n",
    "\n",
    " `True` (真) 和 `False` (假) 可以参与逻辑运算，三个**逻辑运算符**\n",
    "\n",
    "- `not` - 非，例如 `not p`\n",
    "  - 若 `p` 为真，则结果为假\n",
    "  - 若 `p` 为假，则结果为真\n",
    "- `or` - 或，例如 `p or q`\n",
    "  - 若 `p` 为真，则结果为  `p` (**短路**)\n",
    "  - 若 `p` 为假，则结果为 `q`\n",
    "- `and` - 与，例如 `p and q`\n",
    "  - 若 `p` 为真，则结果为  `q`\n",
    "  - 若 `p` 为假，则结果为 `p` (**短路**)\n",
    "\n",
    "```python\n",
    "# 真 and 真 = 真\n",
    "True and True\n",
    "# 假 or 真 = 真\n",
    "False or True\n",
    "# not 真 = 假\n",
    "not True\n",
    "```"
   ]
  },
  {
   "cell_type": "markdown",
   "id": "9c16cdad-c8a3-4fe5-8650-a7dd808dc385",
   "metadata": {},
   "source": [
    "### 数值及其运算\n",
    "\n",
    "Python 没有静态类型语言那么强调数值类型的具体存储规格，通常直接使用整数或浮点数就可以\n",
    "\n",
    "```python\n",
    "# 整数\n",
    "an_int = 56\n",
    "\n",
    "# 浮点数\n",
    "a_float = 5.6\n",
    "\n",
    "# 复数\n",
    "a_complex = 5 + 6j\n",
    "```\n",
    "\n",
    "Python 语言在使用时，几乎不用担心数值存储的溢出问题\n",
    "\n",
    "> 因为 Python 没有设计成指定存储规格的那类语言，它不用指定是 8 位整型、16 位整型，抑或 32 位浮点型……Python 会自动选择合适的存储类型\n",
    ">\n",
    "> 如果非常纠结于具体的存储规格，建议使用 NumPy 来工作，只不过代价是“杀鸡用牛刀”"
   ]
  },
  {
   "cell_type": "markdown",
   "id": "c3ba4696-0230-4f18-8178-0c8f9d171189",
   "metadata": {},
   "source": [
    "#### 算术运算符\n",
    "\n",
    "算术运算通常产生数值型结果，因此可以按运算优先级扩展算术运算表达式\n",
    "\n",
    "- 加法 `+`\n",
    "- 减法 `-`\n",
    "- 乘法 `*`\n",
    "- 整数除法 `//`\n",
    "- 浮点除法 `/`\n",
    "- 取模 `%`\n",
    "- 指数 `**`\n",
    "- 矩阵乘法 `@`"
   ]
  },
  {
   "cell_type": "markdown",
   "id": "ebc43050-105a-433a-ad33-a23717ace071",
   "metadata": {},
   "source": [
    "```python\n",
    "# 普通四则运算符合数学法则\n",
    "\n",
    "1 + 1\n",
    "2 - 0\n",
    "2 * 1\n",
    "6 / 2 # 注意除法结果\n",
    "6 // 2\n",
    "\n",
    "# 整除和取模\n",
    "7 // 2\n",
    "7 % 2\n",
    "\n",
    "# 指数和对数\n",
    "2 ** 3 # 注意必须连写*号，中间不能有空格\n",
    "# 对数没有直接的运算符，但是在 math 包有 log()、log2()、log10() 等函数\n",
    "import math\n",
    "math.log2(8) # 以2为底\n",
    "```"
   ]
  },
  {
   "cell_type": "code",
   "execution_count": 23,
   "id": "bb847bb1-452c-4c6e-867f-f2eb6de6aa91",
   "metadata": {},
   "outputs": [
    {
     "data": {
      "text/plain": [
       "1"
      ]
     },
     "execution_count": 23,
     "metadata": {},
     "output_type": "execute_result"
    }
   ],
   "source": [
    "7 % 2"
   ]
  },
  {
   "cell_type": "code",
   "execution_count": 24,
   "id": "fec623a8-965d-419f-abb4-19ebd331c325",
   "metadata": {},
   "outputs": [
    {
     "data": {
      "text/plain": [
       "8"
      ]
     },
     "execution_count": 24,
     "metadata": {},
     "output_type": "execute_result"
    }
   ],
   "source": [
    "2 ** 3"
   ]
  },
  {
   "cell_type": "markdown",
   "id": "e1d564d0-a4c8-4077-ba96-9277ba65a5b4",
   "metadata": {},
   "source": [
    "#### 浮点精度\n",
    "\n",
    "Python 浮点类型符合 IEEE 754 的规定，在计算机硬件中表示为以 2 为底的二进制分数\n",
    "\n",
    "浮点运算存在误差\n",
    "\n",
    "```python\n",
    "100 - 99.9\n",
    "```\n",
    "\n",
    "```shell\n",
    "0.09999999999999432\n",
    "```\n",
    "\n",
    "Python 在大多数情况下会显示整洁美观的输出，实际上调用了 `round()` 函数做过**舍入**"
   ]
  },
  {
   "cell_type": "markdown",
   "id": "a229476f-afa2-48c3-afd8-a086a2864610",
   "metadata": {},
   "source": [
    "为了**减轻**浮点参与的运算影响计算结果，应该尽量做到\n",
    "\n",
    "- 如果强烈要求保留精度，请用官方的 `decimal` 包\n",
    "- 如果要比较两个浮点数是否相等，请用官方 `math` 包的 `isclose(a, b, rel_tol)`\n",
    "- 算法设计中，避免相对大的数和相对小的数的同时参与的运算\n",
    "\n",
    "```python\n",
    "# decimal 举例\n",
    "from decimal import Decimal\n",
    "Decimal('100') - Decimal('99.0')\n",
    "```\n",
    "\n",
    "```shell\n",
    "Decimal('1.0')\n",
    "```"
   ]
  },
  {
   "cell_type": "markdown",
   "id": "1bbf5ede-f813-4138-8633-3450a6877717",
   "metadata": {},
   "source": [
    "#### 比较运算符\n",
    "\n",
    "比较运算产生布尔型结果，因此可以用布尔运算连接不同的比较运算表达式\n",
    "\n",
    "- 大于 `>`\n",
    "- 小于 `<`\n",
    "- 等于 `==`\n",
    "- 不等于 `!=`\n",
    "- 小于或等于 `<=`\n",
    "- 大于或等于 `>=`"
   ]
  },
  {
   "cell_type": "markdown",
   "id": "55e104bf-27d5-4b3d-97a2-8c21222cd9a2",
   "metadata": {},
   "source": [
    "`==`、`!=`按值比较\n",
    "\n",
    "`is`、`is not` 按引用比较对象，即比较两个标识符是否引用同一个对象\n",
    "\n",
    "> `a is b` 在功能上相当于 `id(a) == id(b)`\n",
    "\n",
    "```python\n",
    "# 比较大小\n",
    "2 > 1\n",
    "2 < 1\n",
    "2 >= 1\n",
    "\n",
    "# 嵌入算术表达式\n",
    "2 + 1 > 1\n",
    "\n",
    "# 连接不同的比较运算\n",
    "x = 3\n",
    "print(x > 1 and x < 6)\n",
    "```"
   ]
  },
  {
   "cell_type": "markdown",
   "id": "e7288f15-be5c-42f0-9f77-6bf9a3c50267",
   "metadata": {},
   "source": [
    "#### 位运算符\n",
    "\n",
    "位运算通常能提高计算效率\n",
    "\n",
    "- (按位)与 `&`\n",
    "- (按位)或 `|`\n",
    "- (按位)取反 `~`\n",
    "- (按位)异或 `^`\n",
    "- 左移 `<<`\n",
    "- 右移 `>>`\n",
    "\n",
    "```python\n",
    "# 位运算符\n",
    "\n",
    "a = 32\n",
    "a << 2\n",
    "```"
   ]
  },
  {
   "cell_type": "markdown",
   "id": "ab7ab716-865a-4c01-ba44-e65585362c96",
   "metadata": {},
   "source": [
    "## 序列类型\n",
    "\n",
    "### 字符串\n",
    "\n",
    "字符串是**不可变**的序列对象，由单引号 (`'`) 或双引号 (`\"`) 界定\n",
    "\n",
    "> Python 序列以 0 为索引起点，序列 `seq` 中的第一个成员是 `seq[0]`\n",
    ">\n",
    "> **索引**的语法是用方括号 (`[]`) 表示的"
   ]
  },
  {
   "cell_type": "code",
   "execution_count": 25,
   "id": "abd457bf-1fa0-4465-8541-2c59b90638df",
   "metadata": {},
   "outputs": [
    {
     "name": "stdout",
     "output_type": "stream",
     "text": [
      "这\n"
     ]
    }
   ],
   "source": [
    "# 不可变对象无法更改成员\n",
    "a_str = \"这很合理\"\n",
    "\n",
    "# 查看成员\n",
    "print(a_str[0])"
   ]
  },
  {
   "cell_type": "code",
   "execution_count": 26,
   "id": "abd18831-f7ed-4398-9807-fed54858628d",
   "metadata": {},
   "outputs": [
    {
     "ename": "TypeError",
     "evalue": "'str' object does not support item assignment",
     "output_type": "error",
     "traceback": [
      "\u001b[0;31m---------------------------------------------------------------------------\u001b[0m",
      "\u001b[0;31mTypeError\u001b[0m                                 Traceback (most recent call last)",
      "Cell \u001b[0;32mIn [26], line 2\u001b[0m\n\u001b[1;32m      1\u001b[0m \u001b[38;5;66;03m# 尝试修改成员\u001b[39;00m\n\u001b[0;32m----> 2\u001b[0m \u001b[43ma_str\u001b[49m\u001b[43m[\u001b[49m\u001b[38;5;241;43m0\u001b[39;49m\u001b[43m]\u001b[49m \u001b[38;5;241m=\u001b[39m \u001b[38;5;124m\"\u001b[39m\u001b[38;5;124m那\u001b[39m\u001b[38;5;124m\"\u001b[39m\n",
      "\u001b[0;31mTypeError\u001b[0m: 'str' object does not support item assignment"
     ]
    }
   ],
   "source": [
    "# 尝试修改成员\n",
    "a_str[0] = \"那\""
   ]
  },
  {
   "cell_type": "markdown",
   "id": "7d1a916f-ced6-464a-af41-11872ac09c9d",
   "metadata": {},
   "source": [
    "反斜杠 (`\\`) 是**转义字符**，`r `引导的原始字符串对转义字符不作转义"
   ]
  },
  {
   "cell_type": "code",
   "execution_count": 27,
   "id": "4dde42a0-aa8a-4036-b627-a1fb4020b9ba",
   "metadata": {},
   "outputs": [
    {
     "name": "stdout",
     "output_type": "stream",
     "text": [
      "我的\n",
      "世界\n",
      "我的\\n世界\n"
     ]
    }
   ],
   "source": [
    "# 转义字符\n",
    "a = '我的\\n世界'\n",
    "b = r'我的\\n世界'\n",
    "print(a)\n",
    "print(b)"
   ]
  },
  {
   "cell_type": "markdown",
   "id": "e365a8cb-7b92-4f0c-82d0-b1a14c458fd2",
   "metadata": {},
   "source": [
    "三引号 (`'''`或`\"\"\"`) 字符串可以表示多行文本，多用来在代码中插入*文档*，因此又叫**文档字符串** (docstring)"
   ]
  },
  {
   "cell_type": "code",
   "execution_count": 28,
   "id": "309acebe-e718-4ac6-bc19-5595e7f42a6c",
   "metadata": {},
   "outputs": [
    {
     "data": {
      "text/plain": [
       "'从这里开始撰写文档\\n文内换行如实保留\\n    缩进 空格什么的都保留\\n'"
      ]
     },
     "execution_count": 28,
     "metadata": {},
     "output_type": "execute_result"
    }
   ],
   "source": [
    "# 文档字符串\n",
    "\n",
    "'''从这里开始撰写文档\n",
    "文内换行如实保留\n",
    "    缩进 空格什么的都保留\n",
    "'''"
   ]
  },
  {
   "cell_type": "markdown",
   "id": "1b30cfdd-090b-4c66-87db-a151d76334af",
   "metadata": {},
   "source": [
    "内置函数 `len()`可以获取序列的长度，当然包括字符串的长度"
   ]
  },
  {
   "cell_type": "markdown",
   "id": "188eac01-fabe-4299-9cfe-3ab73407fce3",
   "metadata": {},
   "source": [
    "#### 字符串格式化\n",
    "\n",
    "- 老方法：`%`格式化符号\n",
    "- 新方法：`str.format()`方法\n",
    "- 新新方法：`f''`字符串\n",
    "\n",
    "```python\n",
    "# 字符串格式化\n",
    "\n",
    "name = '全てのエヴァンゲリオン'\n",
    "\n",
    "print('さようなら %s！' % name)\n",
    "print('さようなら {}！'.format(name))\n",
    "print(f'さようなら {name}！')\n",
    "```"
   ]
  },
  {
   "cell_type": "markdown",
   "id": "2b061d1d-151b-4556-a476-4d1bbdc4c4e7",
   "metadata": {},
   "source": [
    "> 各有利弊\n",
    "\n",
    "- `%` 现在几乎用得不多了，除了那些特别怀念 C 语言的人\n",
    "- `format()` 是的优势是允许多次重复使用参数\n",
    "- `f` 字符串的优势是直观易读，不用跳着看代码\n",
    "\n",
    "```python\n",
    "# format()可以重复使用参数\n",
    "print(\"{0}是{1}的{0}\".format(\"中国\", \"中国人民\"))\n",
    "```\n",
    "\n",
    "> 其实还有一个 `format()` 函数\n",
    ">\n",
    "> 使用方法是 `format(被格式化的量, '格式化模版字符串')`"
   ]
  },
  {
   "cell_type": "markdown",
   "id": "b541ba19-61bf-40a1-bd70-67cda318e400",
   "metadata": {},
   "source": [
    "#### 常用字符串方法\n",
    "\n",
    "- `str.lower()`全体大写字符转为小写，`str.upper()`全体小写字符转为大写\n",
    "- `str.lstrip()`删除字符串起首空格字符，`str.rstrip()`删除字符串结尾空格字符，`str.strip()`删除字符串起首**和**结尾空格字符\n",
    "- `str.startswith(s)`判断是否以`s`起首，`str.endswith(s)`判断是否以`s`结尾\n",
    "- `str.split(s)`以`s`为分隔符拆分字符串为序列，`str.join(seq)`以`str`为分隔符组装序列`seq`为字符串\n",
    "- `str.find(s, start=0, end=len(str))`在字符串`str`中查找字符串`s`，`start`和`end`指定范围\n",
    "- 各种`str.isalpha()`、`str.isdigit()`、`str.isspace()`等判断是否包含/仅包含某些字符的函数"
   ]
  },
  {
   "cell_type": "code",
   "execution_count": 29,
   "id": "a58048b1-7049-46be-9b72-4b364e024a7c",
   "metadata": {},
   "outputs": [
    {
     "name": "stdout",
     "output_type": "stream",
     "text": [
      "ash\n",
      "nazg\n",
      "durbatulûk\n",
      "ash\n",
      "nazg\n",
      "gimbatul\n",
      "ash\n",
      "nazg\n",
      "thrakatulûk\n",
      "agh\n",
      "burzum-ishi\n",
      "krimpatul\n"
     ]
    }
   ],
   "source": [
    "# 举例\n",
    "\n",
    "# 打碎指环\n",
    "ring = 'ash nazg durbatulûk ash nazg gimbatul ash nazg thrakatulûk agh burzum-ishi krimpatul'\n",
    "seq = ring.split(' ')\n",
    "\n",
    "# 再接起来\n",
    "print('\\n'.join(seq))"
   ]
  },
  {
   "cell_type": "markdown",
   "id": "1f613acc-90f8-453d-9d58-51be134eaa63",
   "metadata": {},
   "source": [
    "### 字节串\n",
    "\n",
    "字节串 (`bytes`) 与字符串的形式类似，但是在引号前面有一个 `b` 前缀\n",
    "\n",
    "```python\n",
    "# 字节串\n",
    "\n",
    "my_bytes = b\"Hello, world!\"\n",
    "```\n",
    "\n",
    "字节串中只允许使用 ASCII 字符\n",
    "\n",
    "字节串通常和十六进制表示息息相关，可以用内置方法相互转换\n",
    "\n",
    "此外，字节串可以解码为字符串；反之，字符串可以编码为字节串\n",
    "\n",
    "```python\n",
    "# 解码到字符串\n",
    "my_str = my_bytes.decode('utf-8')\n",
    "# 编码成字节串\n",
    "my_str.encode('utf-8')\n",
    "```\n",
    "\n",
    "可以简单的理解为\n",
    "\n",
    "- 字符串有利于人类通信\n",
    "- 字节串有利于计算机通信\n",
    "\n",
    "字节串还有许多方法与字符串的方法功能类似 (甚至命名都一样)"
   ]
  },
  {
   "cell_type": "code",
   "execution_count": 30,
   "id": "6f3a9077-a7b6-43ed-bd2b-e1d5393a11e3",
   "metadata": {},
   "outputs": [],
   "source": [
    "my_bytes = b\"Hello, world!\"\n",
    "my_str = my_bytes.decode('utf-8')"
   ]
  },
  {
   "cell_type": "code",
   "execution_count": 31,
   "id": "0c7095d8-f682-40b2-8db3-963969282144",
   "metadata": {},
   "outputs": [
    {
     "data": {
      "text/plain": [
       "'Hello, world!'"
      ]
     },
     "execution_count": 31,
     "metadata": {},
     "output_type": "execute_result"
    }
   ],
   "source": [
    "my_str"
   ]
  },
  {
   "cell_type": "code",
   "execution_count": 32,
   "id": "0ba0fa19-7017-43a9-8656-1295761be77c",
   "metadata": {},
   "outputs": [
    {
     "data": {
      "text/plain": [
       "b'Hello, world!'"
      ]
     },
     "execution_count": 32,
     "metadata": {},
     "output_type": "execute_result"
    }
   ],
   "source": [
    "my_str.encode('utf-8')"
   ]
  },
  {
   "cell_type": "markdown",
   "id": "3f93d898-6dcf-4274-a7f8-4151d0ab612f",
   "metadata": {},
   "source": [
    "## 总结\n",
    "\n",
    "### 基础知识\n",
    "\n",
    "- 解释器和编译器\n",
    "- Python 标识符的命名规范\n",
    "- Python 代码结构\n",
    "- Python 变量的绑定\n",
    "- 用 `id()` 查看内存地址\n",
    "- Python 类型\n",
    "- `type()` 查看数据类型\n",
    "- Python 3.6+ 新增的静态类型注解\n",
    "- 概念辨析：可迭代的、不可变的、可散列的\n",
    "- 逻辑运算符的短路\n",
    "- 整型、浮点型、复数型都是数值类型\n",
    "- 字符串是序列类型\n",
    "- 字符串的基本操作\n",
    "- 字节串和字符串的区别和联系"
   ]
  },
  {
   "cell_type": "markdown",
   "id": "4ac90844-344b-4864-8a66-8449ebbcba18",
   "metadata": {},
   "source": [
    "### 编程心得\n",
    "\n",
    "- 变量命名遵循 [PEP 8](https://peps.python.org/pep-0008/)\n",
    "- 避免使用语义不明的标识符命名\n",
    "- 使用注释增强代码可读性\n",
    "- 空行也是注释\n",
    "- 养成使用静态类型注解的习惯\n",
    "- 注意浮点运算的精度损失问题\n",
    "- 利用字符串格式化处理文本和数值的相关问题\n",
    "- 布尔型的数值特性可以用于统计和编码\n",
    "- 在涉及通信、文件读写的场合使用指定编解码方式的字节串"
   ]
  },
  {
   "cell_type": "markdown",
   "id": "130dd91b-41d7-48f5-adbf-2beecc5b2c7a",
   "metadata": {
    "tags": [],
    "toc-hr-collapsed": true
   },
   "source": [
    "## 课后作业\n",
    "\n",
    "**截止日期：2022-09-19 00:00**\n",
    "\n",
    "### 1. 简答\n",
    "\n",
    "##### a. 为何以下代码在 Python 解释器中是这个输出\n",
    "\n",
    "```python\n",
    "a = '123'\n",
    "b = '123'\n",
    "\n",
    "print(a is b)\n",
    "```\n",
    "输出\n",
    "```\n",
    "True\n",
    "```\n",
    "\n",
    "##### b. 为何以下代码得到的输出结果会是这样？如何改进才能得到预期的数学计算结果\n",
    "\n",
    "```python\n",
    "print(.1 + .1 + .1)\n",
    "```\n",
    "输出\n",
    "```\n",
    "0.30000000000000004\n",
    "```"
   ]
  },
  {
   "cell_type": "markdown",
   "id": "554ad1b0-1115-48b6-8b14-58567b8a51f9",
   "metadata": {},
   "source": [
    "[comment]: 答案写在这里\n",
    "\n",
    "#### a.\n",
    "\n",
    "Python 将变量和值存储在一个叫做框架的结构中，框架包含一组绑定。\n",
    "\n",
    "绑定是指变量及其值之间的关系。当程序分配一个变量时，Python 为该变量在框架中添加一个绑定 (如果该变量已经存在，则更新其值)；当程序访问一个变量时，Python 使用框架为该变量找到一个绑定。\n",
    "\n",
    "在本题中，变量 `a` 和 `b` 被绑定到同一个字符串类型的值 `'123'` 上，在内存中的位置是相同的；而 `is` 比较运算符检查对象同一性，结果当然是真 (`True`)。\n",
    "\n",
    "#### b. \n",
    "\n",
    "原因：浮点在机内表示的不精确性\n",
    "\n",
    "解决方法：\n",
    "\n",
    "1. 使用 `decimal` 库来包装浮点数，或\n",
    "2. 通过数学转换，改变计算过程"
   ]
  },
  {
   "cell_type": "markdown",
   "id": "2c9cb8e8-6ccf-458e-820f-75a48ab054e3",
   "metadata": {
    "tags": []
   },
   "source": [
    "### 2. 编码转换\n",
    "\n",
    "在处理文字的时候，经常会遇到“乱码”。中文乱码一般是由于对字符串的编码和解码方式不一致造成的\n",
    "\n",
    "结合 Pythob 的字节串编解码方法，可以尝试破解乱码！\n",
    "\n",
    "例如\n",
    "\n",
    "```python\n",
    "a_mysterious_string = '潠等蚥衾葩娸洁抌蚥衾喱躇'\n",
    "# ... 请解密\n",
    "result = # ?\n",
    "print(result)\n",
    "```\n",
    "\n",
    "**思路提示**\n",
    "\n",
    "常用的中文字符编码方式有：\n",
    "\n",
    "- `uft-8`是Unicode标准中规定的编码\n",
    "- `gbk`是中华人民共和国国标编码\n",
    "- `big5`是中国台湾地区使用的繁体字编码"
   ]
  },
  {
   "cell_type": "code",
   "execution_count": null,
   "id": "aee1ccb6-d216-45cc-b1e8-e1eb08fe45ae",
   "metadata": {},
   "outputs": [],
   "source": [
    "a_mysterious_string = '潠等蚥衾葩娸洁抌蚥衾喱躇'\n",
    "# 参考题解\n",
    "# 先按`big5`编码成字节串，再把结果按`gbk`解码成字符串\n",
    "result = a_mysterious_string.encode('big5').decode('gbk')\n",
    "print(result)"
   ]
  },
  {
   "cell_type": "markdown",
   "id": "eecb9eb3-fc6d-4478-bb8c-f66bba469df3",
   "metadata": {
    "tags": []
   },
   "source": [
    "### 3. 进制转换\n",
    "\n",
    "二进制可以表示成字符串形式，例如 `\"110.011\"` 就是一个值相当于十进制的 6.375 的带分数\n",
    "\n",
    "> **带分数**\n",
    ">\n",
    "> 包含整数部分和纯分数部分的分数\n",
    "\n",
    "编写一段代码，功能是将一个表示二进制带分数的字符串转换为十进制(即 Python 默认的数值类型)\n",
    "\n",
    "例如\n",
    "\n",
    "```python\n",
    "bin_str = \"110.011\"\n",
    "# ... 请发功\n",
    "result = # ?\n",
    "print(result)\n",
    "```\n",
    "打印结果应该是\n",
    "```\n",
    "6.375\n",
    "```\n",
    "\n",
    "**思路提示**"
   ]
  },
  {
   "cell_type": "code",
   "execution_count": null,
   "id": "1c02d7ea-6087-4ad5-bfa9-33c31e41b1ce",
   "metadata": {
    "jupyter": {
     "source_hidden": true
    },
    "tags": []
   },
   "outputs": [],
   "source": [
    "conv = '''\n",
    "flowchart LR\n",
    "input[/输入<br>二进制带小数<br>字符串/]\n",
    "split[分割小数点<br>左右两部分]\n",
    "para1{+}\n",
    "subgraph L[左侧]\n",
    "in1[/输入小数点左侧部分/]\n",
    "parse1[整数二进制转十进制]\n",
    "out1[/输出十进制值/]\n",
    "end\n",
    "subgraph R[右侧]\n",
    "in2[/输入小数点右侧部分/]\n",
    "parse2[整数二进制转十进制]\n",
    "proc2[按二进制小数位数缩小]\n",
    "out2[/输出十进制值/]\n",
    "end\n",
    "para2{+}\n",
    "add[十进制整数值<br>加<br>十进制小数值]\n",
    "output[/输出<br>十进制带小数<br>数值/]\n",
    "input --> split --> para1 --> L & R --> para2 --> add --> output\n",
    "in1 --> parse1 --> out1\n",
    "in2 --> parse2 --> proc2 --> out2\n",
    "'''\n",
    "\n",
    "js_ui({'src': conv}, TEMPLATE_MERMAIDJS, height=1000)"
   ]
  },
  {
   "cell_type": "code",
   "execution_count": null,
   "id": "e65fe4f9-6eb6-4e32-877e-37e0e656dd36",
   "metadata": {},
   "outputs": [],
   "source": [
    "bin_str = \"110.011\"\n",
    "\n",
    "# 分隔二进制表示的字符串为整数部分和小数部分\n",
    "parts = bin_str.split('.')\n",
    "# 整数部分直接按2为底转字符串为整数值\n",
    "whole = int(parts[0], 2)\n",
    "# 小数部分先按2为底转字符串为整数值\n",
    "# 再缩小2的幂，幂是小数部分字符串的长度\n",
    "fraction = int(parts[1], 2) / 2 ** len(parts[1])\n",
    "\n",
    "result = whole + fraction\n",
    "print(result)"
   ]
  }
 ],
 "metadata": {
  "kernelspec": {
   "display_name": "Python 3 (ipykernel)",
   "language": "python",
   "name": "python3"
  },
  "language_info": {
   "codemirror_mode": {
    "name": "ipython",
    "version": 3
   },
   "file_extension": ".py",
   "mimetype": "text/x-python",
   "name": "python",
   "nbconvert_exporter": "python",
   "pygments_lexer": "ipython3",
   "version": "3.11.0"
  }
 },
 "nbformat": 4,
 "nbformat_minor": 5
}
