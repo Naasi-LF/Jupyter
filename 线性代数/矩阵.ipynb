{
 "cells": [
  {
   "attachments": {},
   "cell_type": "markdown",
   "metadata": {},
   "source": [
    "# 利用Sympy求解矩阵\n",
    "SymPy是一个用Python编写的符号计算库，可用于解决各种数学问题，包括线性代数问题。\n",
    "\n",
    "## 安装SymPy\n",
    "首先，您需要安装SymPy。您可以使用以下命令在命令行中安装SymPy："
   ]
  },
  {
   "cell_type": "code",
   "execution_count": 1,
   "metadata": {},
   "outputs": [],
   "source": [
    "## pip install sympy"
   ]
  },
  {
   "attachments": {},
   "cell_type": "markdown",
   "metadata": {},
   "source": [
    "## 创建矩阵\n",
    "要创建一个矩阵，可以使用SymPy的Matrix类。"
   ]
  },
  {
   "cell_type": "code",
   "execution_count": 2,
   "metadata": {},
   "outputs": [
    {
     "name": "stdout",
     "output_type": "stream",
     "text": [
      "Matrix([[1, 2, 3], [4, 5, 6]])\n"
     ]
    }
   ],
   "source": [
    "from sympy import Matrix\n",
    "\n",
    "# 创建一个2x3的矩阵\n",
    "A = Matrix([[1, 2, 3], [4, 5, 6]])\n",
    "#1，2，3\n",
    "#4，5，6\n",
    "print(A)"
   ]
  },
  {
   "attachments": {},
   "cell_type": "markdown",
   "metadata": {},
   "source": [
    "## 矩阵运算\n",
    "您可以使用`SymPy`来执行各种矩阵运算，例如加法，减法，乘法，转置等。以下是一些示例代码："
   ]
  },
  {
   "cell_type": "code",
   "execution_count": 3,
   "metadata": {},
   "outputs": [
    {
     "name": "stdout",
     "output_type": "stream",
     "text": [
      "加法\n",
      "Matrix([[6, 8], [10, 12]])\n",
      "减法\n",
      "Matrix([[-4, -4], [-4, -4]])\n",
      "乘法\n",
      "Matrix([[19, 22], [43, 50]])\n",
      "转置\n",
      "Matrix([[1, 3], [2, 4]])\n"
     ]
    }
   ],
   "source": [
    "from sympy import Matrix\n",
    "\n",
    "# 创建两个矩阵\n",
    "A = Matrix([[1, 2], [3, 4]])\n",
    "B = Matrix([[5, 6], [7, 8]])\n",
    "\n",
    "# 加法\n",
    "C = A + B\n",
    "print(\"加法\")\n",
    "print(C)\n",
    "\n",
    "# 减法\n",
    "D = A - B\n",
    "print(\"减法\")\n",
    "print(D)\n",
    "\n",
    "# 乘法\n",
    "E = A * B\n",
    "print(\"乘法\")\n",
    "print(E)\n",
    "\n",
    "# 转置\n",
    "F = A.T\n",
    "print(\"转置\")\n",
    "print(F)"
   ]
  },
  {
   "attachments": {},
   "cell_type": "markdown",
   "metadata": {},
   "source": [
    "## 解三元其次线性方程组\n",
    "要解决一个线性方程组，可以使用`SymPy`的`solve`函数。"
   ]
  },
  {
   "cell_type": "code",
   "execution_count": 4,
   "metadata": {},
   "outputs": [
    {
     "name": "stdout",
     "output_type": "stream",
     "text": [
      "{x: 3/5, y: -1/5, z: 0}\n"
     ]
    }
   ],
   "source": [
    "from sympy import symbols, Eq, solve\n",
    "\n",
    "# 创建变量和方程\n",
    "x, y, z = symbols('x y z')\n",
    "eq1 = Eq(2*x + y + z, 1)\n",
    "eq2 = Eq(x + 3*y + 2*z, 0)\n",
    "eq3 = Eq(-x + 2*y + 3*z, -1)\n",
    "\n",
    "# 解方程组\n",
    "sol = solve((eq1, eq2, eq3), (x, y, z))\n",
    "\n",
    "print(sol)"
   ]
  },
  {
   "attachments": {},
   "cell_type": "markdown",
   "metadata": {},
   "source": [
    "## 解四元其次线性方程组"
   ]
  },
  {
   "cell_type": "code",
   "execution_count": 5,
   "metadata": {},
   "outputs": [
    {
     "name": "stdout",
     "output_type": "stream",
     "text": [
      "{a: c - d, b: 3*c}\n"
     ]
    }
   ],
   "source": [
    "from sympy import *\n",
    "init_printing()\n",
    "\n",
    "# 创建变量和方程\n",
    "a, b, c, d = symbols('a b c d')\n",
    "\n",
    "eq1 = Eq(1*a + -1*b + 2*c + 1*d, 0)\n",
    "eq2 = Eq(2*a + -1*b + 1*c + 2*d, 0)\n",
    "eq3 = Eq(1*a + 0*b + -1*c + 1*d, 0)\n",
    "eq4 = Eq(3*a + -1*b + 0*c + 3*d, 0)\n",
    "\n",
    "sol = solve((eq1, eq2, eq3, eq4), (a, b, c, d))\n",
    "\n",
    "print(sol)\n"
   ]
  },
  {
   "attachments": {},
   "cell_type": "markdown",
   "metadata": {},
   "source": [
    "## 解非其次线性方程组"
   ]
  },
  {
   "cell_type": "code",
   "execution_count": 6,
   "metadata": {},
   "outputs": [
    {
     "name": "stdout",
     "output_type": "stream",
     "text": [
      "{a: d, b: -c - d + 1}\n"
     ]
    }
   ],
   "source": [
    "from sympy import symbols, Eq, solve\n",
    "\n",
    "# 创建变量和方程\n",
    "a,b,c,d = symbols('a b c d')\n",
    "eq1 = Eq(1*a + 1*b + 1*c + 0*d, 1)\n",
    "eq2 = Eq(2*a + 1*b + 1*c + -1*d, 1)\n",
    "eq3 = Eq(0*a + 1*b + 1*c + 1*d, 1)\n",
    "\n",
    "# 解方程组\n",
    "sol = solve((eq1, eq2, eq3), (a, b, c ,d))\n",
    "\n",
    "print(sol)"
   ]
  },
  {
   "attachments": {},
   "cell_type": "markdown",
   "metadata": {},
   "source": [
    "## 求逆矩阵\n",
    "要求一个矩阵的逆矩阵，可以使用`SymPy`的`inv`函数。以下是一个求逆矩阵的示例代码："
   ]
  },
  {
   "cell_type": "code",
   "execution_count": 7,
   "metadata": {},
   "outputs": [
    {
     "name": "stdout",
     "output_type": "stream",
     "text": [
      "Matrix([[-8, 29, -11], [-5, 18, -7], [1, -3, 1]])\n"
     ]
    }
   ],
   "source": [
    "from sympy import Matrix\n",
    "\n",
    "# 创建一个矩阵\n",
    "A = Matrix([[3, -4, 5], [2, -3 ,1],[3 ,-5 ,-1]])\n",
    "\n",
    "# 求逆矩阵\n",
    "B = A.inv()\n",
    "\n",
    "# 打印逆矩阵\n",
    "print(B)"
   ]
  },
  {
   "attachments": {},
   "cell_type": "markdown",
   "metadata": {},
   "source": [
    "## 行最简阶梯矩阵\n",
    "要将一个矩阵变换为行最简矩阵"
   ]
  },
  {
   "cell_type": "code",
   "execution_count": 8,
   "metadata": {},
   "outputs": [
    {
     "name": "stdout",
     "output_type": "stream",
     "text": [
      "Matrix([[1, 0, 2, -1], [0, 1, -1, 2], [0, 0, 0, 0], [0, 0, 0, 0]])\n"
     ]
    }
   ],
   "source": [
    "from sympy import Matrix\n",
    "\n",
    "# 创建一个矩阵\n",
    "M = Matrix([[2, 3, 1 ,4], [1, -2, 4 ,-5], [3, 8, -2 ,13],[4 ,-1 ,9 ,-6]])\n",
    "#([[1, 1, 0 ,2], [0, 1, -1 ,2], [0, 0, 1 ,-1],[0 ,0 ,0 ,0]])\n",
    "\n",
    "# 将矩阵转换为行最简形式\n",
    "M_rref = M.rref()\n",
    "\n",
    "# 输出行最简矩阵\n",
    "print(M_rref[0])"
   ]
  },
  {
   "attachments": {},
   "cell_type": "markdown",
   "metadata": {},
   "source": [
    "## 求方程的值\n",
    "要求解方程组 A*X = B"
   ]
  },
  {
   "cell_type": "code",
   "execution_count": 9,
   "metadata": {},
   "outputs": [
    {
     "name": "stdout",
     "output_type": "stream",
     "text": [
      "Matrix([[-13/5, -2/5], [-4/5, -11/5], [-3, -1]])\n"
     ]
    }
   ],
   "source": [
    "from sympy import Matrix, solve\n",
    "\n",
    "A = Matrix([[1, -2, 0], [1, -2, -1], [-3, 1, 2]])\n",
    "B = Matrix([[-1,4],[2,5],[1,-3]])\n",
    "\n",
    "X = A.solve(B)\n",
    "\n",
    "print(X)"
   ]
  },
  {
   "attachments": {},
   "cell_type": "markdown",
   "metadata": {},
   "source": [
    "## 增广矩阵\n",
    "增广矩阵可以表示为一个矩阵，其中包含系数矩阵A和列向量B，并使用竖线将它们分隔开。"
   ]
  },
  {
   "cell_type": "code",
   "execution_count": 10,
   "metadata": {},
   "outputs": [
    {
     "name": "stdout",
     "output_type": "stream",
     "text": [
      "Matrix([[1, 2, 3, 1], [4, 5, 6, 2], [7, 8, 9, 3]])\n"
     ]
    }
   ],
   "source": [
    "from sympy import Matrix\n",
    "\n",
    "# 创建系数矩阵A和列向量B\n",
    "A = Matrix([[1, 2, 3], [4, 5, 6], [7, 8, 9]])\n",
    "B = Matrix([[1], [2], [3]])\n",
    "\n",
    "# 创建增广矩阵\n",
    "augmented_matrix = A.row_join(B)\n",
    "\n",
    "# 打印增广矩阵\n",
    "print(augmented_matrix)"
   ]
  },
  {
   "attachments": {},
   "cell_type": "markdown",
   "metadata": {},
   "source": [
    "## 矩阵的秩\n",
    "要使用Python的sympy库计算矩阵的秩，可以按以下步骤操作："
   ]
  },
  {
   "cell_type": "code",
   "execution_count": 11,
   "metadata": {},
   "outputs": [
    {
     "name": "stdout",
     "output_type": "stream",
     "text": [
      "矩阵A的秩为： 2\n"
     ]
    }
   ],
   "source": [
    "from sympy import Matrix\n",
    "\n",
    "# 创建矩阵A\n",
    "A = Matrix([[1, 2, 3], [4, 5, 6], [7, 8, 9]])\n",
    "\n",
    "# 计算矩阵A的秩\n",
    "rank_A = A.rank()\n",
    "\n",
    "print(\"矩阵A的秩为：\", rank_A)"
   ]
  },
  {
   "attachments": {},
   "cell_type": "markdown",
   "metadata": {},
   "source": [
    "## 矩阵求行列式"
   ]
  },
  {
   "cell_type": "code",
   "execution_count": 12,
   "metadata": {},
   "outputs": [
    {
     "name": "stdout",
     "output_type": "stream",
     "text": [
      "Determinant of Matrix A:\n",
      "0\n"
     ]
    }
   ],
   "source": [
    "from sympy import Matrix\n",
    "\n",
    "# 创建矩阵A\n",
    "A = Matrix([[1, 2, 3], [4, 5, 6], [7, 8, 9]])\n",
    "# 矩阵求行列式\n",
    "det_A = A.det()\n",
    "print('Determinant of Matrix A:')\n",
    "print(det_A)"
   ]
  }
 ],
 "metadata": {
  "kernelspec": {
   "display_name": "Python 3",
   "language": "python",
   "name": "python3"
  },
  "language_info": {
   "codemirror_mode": {
    "name": "ipython",
    "version": 3
   },
   "file_extension": ".py",
   "mimetype": "text/x-python",
   "name": "python",
   "nbconvert_exporter": "python",
   "pygments_lexer": "ipython3",
   "version": "3.11.3"
  },
  "orig_nbformat": 4
 },
 "nbformat": 4,
 "nbformat_minor": 2
}
